{
 "cells": [
  {
   "cell_type": "code",
   "execution_count": 270,
   "metadata": {},
   "outputs": [],
   "source": [
    "#データ入力\n",
    "import pandas as pd\n",
    "df = pd.read_csv(\"USD_JPY.csv\")\n"
   ]
  },
  {
   "cell_type": "code",
   "execution_count": 271,
   "metadata": {},
   "outputs": [],
   "source": [
    "#特徴量の作成\n",
    "import talib as ta\n",
    "import numpy as np\n",
    "\n",
    "#全ての計算で終値を使う\n",
    "close = np.array(df[\"終値\"])\n",
    "\n",
    "#特徴量を入れるための空のdataframeを作成\n",
    "df_feature = pd.DataFrame(index=range(len(df)),columns=[\"SMA5/current\", \"SMA20/current\",\"RSI\",\"MACD\",\"BBANDS+2σ\",\"BBANDS-2σ\"])\n",
    "\n",
    "#以下、talibを用いてテクニカル指標（今回の学習で用いる特徴量）を算出しdf_feature入れる\n",
    "\n",
    "#単純移動平均は、単純移動平均値とその日の終値の比を特徴量として用いる\n",
    "df_feature[\"SMA5/current\"]= ta.SMA(close, timeperiod=5) / close\n",
    "df_feature[\"SMA20/current\"]= ta.SMA(close, timeperiod=5) / close\n",
    "\n",
    "#RSI\n",
    "df_feature[\"RSI\"] = ta.RSI(close, timeperiod=14)\n",
    "\n",
    "#MACD\n",
    "df_feature[\"MACD\"], _ , _= ta.MACD(close, fastperiod=12, slowperiod=26, signalperiod=9)\n",
    "\n",
    "#ボリンジャーバンド \n",
    "upper, middle, lower = ta.BBANDS(close, timeperiod=20, nbdevup=3, nbdevdn=3)\n",
    "df_feature[\"BBANDS+2σ\"] = upper / close\n",
    "df_feature[\"BBANDS-2σ\"] = lower / close\n",
    "\n",
    "\n",
    "df[\"前日比_float\"] = df[\"前日比%\"].apply(lambda x: float(x.replace(\"%\", \"\")))\n",
    "\n",
    "#前日比%の分類の仕方。できるだけ各クラスのサンプルが等しいようにわける\n",
    "def classify_1(x):\n",
    "    if x <= -0.2:\n",
    "        return 0\n",
    "    elif -0.2 < x < 0.2:\n",
    "        return 1\n",
    "    elif 0.2 <= x:\n",
    "        return 2\n",
    "    \n",
    "def classify_2(x):\n",
    "    if x <= -0.40:\n",
    "        return 1\n",
    "    elif -0.4 < x <= -0.10:\n",
    "        return 2\n",
    "    elif -0.10 < x <= 0.10:\n",
    "        return 3\n",
    "    elif 0.10 < x <= 0.4:\n",
    "        return 4\n",
    "    elif 0.4 < x:\n",
    "        return 5\n",
    "def classify_3(x):\n",
    "    if x <= 0:\n",
    "        return 0\n",
    "    else:\n",
    "        return 1\n",
    "\n",
    "df[\"前日比_classified\"] = df[\"前日比_float\"].apply(lambda x: classify_3(x))\n",
    "\n",
    "df_y = df[\"前日比_classified\"].shift()\n",
    "\n",
    "df_xy = pd.concat([df_feature, df_y], axis=1)\n",
    "df_xy = df_xy.dropna(how=\"any\")"
   ]
  },
  {
   "cell_type": "code",
   "execution_count": 272,
   "metadata": {
    "scrolled": false
   },
   "outputs": [
    {
     "name": "stderr",
     "output_type": "stream",
     "text": [
      "[I 2020-07-29 23:57:10,661] Trial 0 finished with value: 0.23553299492385782 and parameters: {'min_samples_split': 5, 'max_leaf_nodes': 12.0, 'criterion': 'gini', 'n_estimators': 50.0, 'max_depth': 4}. Best is trial 0 with value: 0.23553299492385782.\n",
      "[I 2020-07-29 23:57:14,052] Trial 1 finished with value: 0.23857868020304573 and parameters: {'min_samples_split': 8, 'max_leaf_nodes': 52.0, 'criterion': 'entropy', 'n_estimators': 200.0, 'max_depth': 7}. Best is trial 0 with value: 0.23553299492385782.\n",
      "[I 2020-07-29 23:57:16,155] Trial 2 finished with value: 0.23147208121827412 and parameters: {'min_samples_split': 4, 'max_leaf_nodes': 32.0, 'criterion': 'gini', 'n_estimators': 200.0, 'max_depth': 7}. Best is trial 2 with value: 0.23147208121827412.\n",
      "[I 2020-07-29 23:57:18,661] Trial 3 finished with value: 0.23654822335025383 and parameters: {'min_samples_split': 6, 'max_leaf_nodes': 44.0, 'criterion': 'entropy', 'n_estimators': 200.0, 'max_depth': 5}. Best is trial 2 with value: 0.23147208121827412.\n",
      "[I 2020-07-29 23:57:20,325] Trial 4 finished with value: 0.23756345177664973 and parameters: {'min_samples_split': 8, 'max_leaf_nodes': 8.0, 'criterion': 'gini', 'n_estimators': 200.0, 'max_depth': 6}. Best is trial 2 with value: 0.23147208121827412.\n",
      "[I 2020-07-29 23:57:22,784] Trial 5 finished with value: 0.23451776649746192 and parameters: {'min_samples_split': 3, 'max_leaf_nodes': 16.0, 'criterion': 'gini', 'n_estimators': 300.0, 'max_depth': 4}. Best is trial 2 with value: 0.23147208121827412.\n",
      "[I 2020-07-29 23:57:26,675] Trial 6 finished with value: 0.23654822335025383 and parameters: {'min_samples_split': 4, 'max_leaf_nodes': 12.0, 'criterion': 'gini', 'n_estimators': 450.0, 'max_depth': 5}. Best is trial 2 with value: 0.23147208121827412.\n",
      "[I 2020-07-29 23:57:28,438] Trial 7 finished with value: 0.23553299492385782 and parameters: {'min_samples_split': 5, 'max_leaf_nodes': 12.0, 'criterion': 'gini', 'n_estimators': 200.0, 'max_depth': 9}. Best is trial 2 with value: 0.23147208121827412.\n",
      "[I 2020-07-29 23:57:35,068] Trial 8 finished with value: 0.23350253807106602 and parameters: {'min_samples_split': 15, 'max_leaf_nodes': 32.0, 'criterion': 'entropy', 'n_estimators': 450.0, 'max_depth': 9}. Best is trial 2 with value: 0.23147208121827412.\n",
      "[I 2020-07-29 23:57:37,398] Trial 9 finished with value: 0.23553299492385782 and parameters: {'min_samples_split': 11, 'max_leaf_nodes': 52.0, 'criterion': 'entropy', 'n_estimators': 150.0, 'max_depth': 7}. Best is trial 2 with value: 0.23147208121827412.\n",
      "[I 2020-07-29 23:57:41,088] Trial 10 finished with value: 0.23248730964467001 and parameters: {'min_samples_split': 2, 'max_leaf_nodes': 32.0, 'criterion': 'gini', 'n_estimators': 350.0, 'max_depth': 10}. Best is trial 2 with value: 0.23147208121827412.\n",
      "[I 2020-07-29 23:57:44,711] Trial 11 finished with value: 0.23248730964467001 and parameters: {'min_samples_split': 2, 'max_leaf_nodes': 28.0, 'criterion': 'gini', 'n_estimators': 350.0, 'max_depth': 10}. Best is trial 2 with value: 0.23147208121827412.\n",
      "[I 2020-07-29 23:57:48,208] Trial 12 finished with value: 0.23248730964467001 and parameters: {'min_samples_split': 2, 'max_leaf_nodes': 24.0, 'criterion': 'gini', 'n_estimators': 350.0, 'max_depth': 8}. Best is trial 2 with value: 0.23147208121827412.\n",
      "[I 2020-07-29 23:57:49,335] Trial 13 finished with value: 0.23147208121827412 and parameters: {'min_samples_split': 12, 'max_leaf_nodes': 44.0, 'criterion': 'gini', 'n_estimators': 100.0, 'max_depth': 10}. Best is trial 2 with value: 0.23147208121827412.\n",
      "[I 2020-07-29 23:57:49,912] Trial 14 finished with value: 0.2284263959390863 and parameters: {'min_samples_split': 13, 'max_leaf_nodes': 44.0, 'criterion': 'gini', 'n_estimators': 50.0, 'max_depth': 8}. Best is trial 14 with value: 0.2284263959390863.\n",
      "[I 2020-07-29 23:57:50,530] Trial 15 finished with value: 0.2274111675126903 and parameters: {'min_samples_split': 16, 'max_leaf_nodes': 64.0, 'criterion': 'gini', 'n_estimators': 50.0, 'max_depth': 8}. Best is trial 15 with value: 0.2274111675126903.\n",
      "[I 2020-07-29 23:57:51,183] Trial 16 finished with value: 0.2274111675126903 and parameters: {'min_samples_split': 16, 'max_leaf_nodes': 64.0, 'criterion': 'gini', 'n_estimators': 50.0, 'max_depth': 8}. Best is trial 15 with value: 0.2274111675126903.\n",
      "[I 2020-07-29 23:57:52,417] Trial 17 finished with value: 0.23248730964467001 and parameters: {'min_samples_split': 16, 'max_leaf_nodes': 64.0, 'criterion': 'gini', 'n_estimators': 100.0, 'max_depth': 8}. Best is trial 15 with value: 0.2274111675126903.\n",
      "[I 2020-07-29 23:57:53,048] Trial 18 finished with value: 0.2284263959390863 and parameters: {'min_samples_split': 14, 'max_leaf_nodes': 64.0, 'criterion': 'gini', 'n_estimators': 50.0, 'max_depth': 9}. Best is trial 15 with value: 0.2274111675126903.\n",
      "[I 2020-07-29 23:57:54,140] Trial 19 finished with value: 0.23350253807106602 and parameters: {'min_samples_split': 16, 'max_leaf_nodes': 56.0, 'criterion': 'gini', 'n_estimators': 100.0, 'max_depth': 6}. Best is trial 15 with value: 0.2274111675126903.\n",
      "[I 2020-07-29 23:57:55,912] Trial 20 finished with value: 0.2253807106598985 and parameters: {'min_samples_split': 11, 'max_leaf_nodes': 60.0, 'criterion': 'gini', 'n_estimators': 150.0, 'max_depth': 8}. Best is trial 20 with value: 0.2253807106598985.\n",
      "[I 2020-07-29 23:57:57,095] Trial 21 finished with value: 0.23147208121827412 and parameters: {'min_samples_split': 10, 'max_leaf_nodes': 60.0, 'criterion': 'gini', 'n_estimators': 100.0, 'max_depth': 8}. Best is trial 20 with value: 0.2253807106598985.\n",
      "[I 2020-07-29 23:57:57,716] Trial 22 finished with value: 0.2284263959390863 and parameters: {'min_samples_split': 14, 'max_leaf_nodes': 64.0, 'criterion': 'gini', 'n_estimators': 50.0, 'max_depth': 9}. Best is trial 20 with value: 0.2253807106598985.\n",
      "[I 2020-07-29 23:57:59,592] Trial 23 finished with value: 0.2263959390862944 and parameters: {'min_samples_split': 16, 'max_leaf_nodes': 56.0, 'criterion': 'gini', 'n_estimators': 150.0, 'max_depth': 8}. Best is trial 20 with value: 0.2253807106598985.\n",
      "[I 2020-07-29 23:58:01,329] Trial 24 finished with value: 0.2274111675126903 and parameters: {'min_samples_split': 12, 'max_leaf_nodes': 56.0, 'criterion': 'gini', 'n_estimators': 150.0, 'max_depth': 7}. Best is trial 20 with value: 0.2253807106598985.\n",
      "[I 2020-07-29 23:58:04,043] Trial 25 finished with value: 0.23248730964467001 and parameters: {'min_samples_split': 10, 'max_leaf_nodes': 52.0, 'criterion': 'gini', 'n_estimators': 250.0, 'max_depth': 6}. Best is trial 20 with value: 0.2253807106598985.\n",
      "[I 2020-07-29 23:58:06,381] Trial 26 finished with value: 0.23451776649746192 and parameters: {'min_samples_split': 14, 'max_leaf_nodes': 40.0, 'criterion': 'entropy', 'n_estimators': 150.0, 'max_depth': 9}. Best is trial 20 with value: 0.2253807106598985.\n",
      "[I 2020-07-29 23:58:08,117] Trial 27 finished with value: 0.2274111675126903 and parameters: {'min_samples_split': 12, 'max_leaf_nodes': 56.0, 'criterion': 'gini', 'n_estimators': 150.0, 'max_depth': 7}. Best is trial 20 with value: 0.2253807106598985.\n",
      "[I 2020-07-29 23:58:10,989] Trial 28 finished with value: 0.23248730964467001 and parameters: {'min_samples_split': 9, 'max_leaf_nodes': 56.0, 'criterion': 'gini', 'n_estimators': 250.0, 'max_depth': 7}. Best is trial 20 with value: 0.2253807106598985.\n",
      "[I 2020-07-29 23:58:12,438] Trial 29 finished with value: 0.23248730964467001 and parameters: {'min_samples_split': 12, 'max_leaf_nodes': 40.0, 'criterion': 'gini', 'n_estimators': 150.0, 'max_depth': 5}. Best is trial 20 with value: 0.2253807106598985.\n",
      "[I 2020-07-29 23:58:15,141] Trial 30 finished with value: 0.23451776649746192 and parameters: {'min_samples_split': 7, 'max_leaf_nodes': 48.0, 'criterion': 'gini', 'n_estimators': 250.0, 'max_depth': 6}. Best is trial 20 with value: 0.2253807106598985.\n",
      "[I 2020-07-29 23:58:15,759] Trial 31 finished with value: 0.2274111675126903 and parameters: {'min_samples_split': 16, 'max_leaf_nodes': 60.0, 'criterion': 'gini', 'n_estimators': 50.0, 'max_depth': 8}. Best is trial 20 with value: 0.2253807106598985.\n"
     ]
    },
    {
     "name": "stderr",
     "output_type": "stream",
     "text": [
      "[I 2020-07-29 23:58:16,937] Trial 32 finished with value: 0.23147208121827412 and parameters: {'min_samples_split': 15, 'max_leaf_nodes': 60.0, 'criterion': 'gini', 'n_estimators': 100.0, 'max_depth': 7}. Best is trial 20 with value: 0.2253807106598985.\n",
      "[I 2020-07-29 23:58:18,662] Trial 33 finished with value: 0.23147208121827412 and parameters: {'min_samples_split': 11, 'max_leaf_nodes': 52.0, 'criterion': 'gini', 'n_estimators': 150.0, 'max_depth': 8}. Best is trial 20 with value: 0.2253807106598985.\n",
      "[I 2020-07-29 23:58:19,279] Trial 34 finished with value: 0.2263959390862944 and parameters: {'min_samples_split': 15, 'max_leaf_nodes': 60.0, 'criterion': 'gini', 'n_estimators': 50.0, 'max_depth': 8}. Best is trial 20 with value: 0.2253807106598985.\n",
      "[I 2020-07-29 23:58:20,984] Trial 35 finished with value: 0.23147208121827412 and parameters: {'min_samples_split': 15, 'max_leaf_nodes': 60.0, 'criterion': 'entropy', 'n_estimators': 100.0, 'max_depth': 9}. Best is trial 20 with value: 0.2253807106598985.\n",
      "[I 2020-07-29 23:58:23,237] Trial 36 finished with value: 0.2284263959390863 and parameters: {'min_samples_split': 13, 'max_leaf_nodes': 48.0, 'criterion': 'gini', 'n_estimators': 200.0, 'max_depth': 8}. Best is trial 20 with value: 0.2253807106598985.\n",
      "[I 2020-07-29 23:58:23,860] Trial 37 finished with value: 0.2263959390862944 and parameters: {'min_samples_split': 15, 'max_leaf_nodes': 60.0, 'criterion': 'gini', 'n_estimators': 50.0, 'max_depth': 9}. Best is trial 20 with value: 0.2253807106598985.\n",
      "[I 2020-07-29 23:58:27,400] Trial 38 finished with value: 0.2284263959390863 and parameters: {'min_samples_split': 13, 'max_leaf_nodes': 60.0, 'criterion': 'gini', 'n_estimators': 300.0, 'max_depth': 10}. Best is trial 20 with value: 0.2253807106598985.\n",
      "[I 2020-07-29 23:58:33,732] Trial 39 finished with value: 0.23248730964467001 and parameters: {'min_samples_split': 15, 'max_leaf_nodes': 48.0, 'criterion': 'gini', 'n_estimators': 500.0, 'max_depth': 9}. Best is trial 20 with value: 0.2253807106598985.\n",
      "[I 2020-07-29 23:58:35,436] Trial 40 finished with value: 0.23553299492385782 and parameters: {'min_samples_split': 14, 'max_leaf_nodes': 56.0, 'criterion': 'entropy', 'n_estimators': 200.0, 'max_depth': 3}. Best is trial 20 with value: 0.2253807106598985.\n",
      "[I 2020-07-29 23:58:37,143] Trial 41 finished with value: 0.2284263959390863 and parameters: {'min_samples_split': 11, 'max_leaf_nodes': 52.0, 'criterion': 'gini', 'n_estimators': 150.0, 'max_depth': 7}. Best is trial 20 with value: 0.2253807106598985.\n",
      "[I 2020-07-29 23:58:37,755] Trial 42 finished with value: 0.2263959390862944 and parameters: {'min_samples_split': 15, 'max_leaf_nodes': 60.0, 'criterion': 'gini', 'n_estimators': 50.0, 'max_depth': 9}. Best is trial 20 with value: 0.2253807106598985.\n",
      "[I 2020-07-29 23:58:38,959] Trial 43 finished with value: 0.2284263959390863 and parameters: {'min_samples_split': 15, 'max_leaf_nodes': 60.0, 'criterion': 'gini', 'n_estimators': 100.0, 'max_depth': 9}. Best is trial 20 with value: 0.2253807106598985.\n",
      "[I 2020-07-29 23:58:39,589] Trial 44 finished with value: 0.2274111675126903 and parameters: {'min_samples_split': 15, 'max_leaf_nodes': 64.0, 'criterion': 'gini', 'n_estimators': 50.0, 'max_depth': 10}. Best is trial 20 with value: 0.2253807106598985.\n",
      "[I 2020-07-29 23:58:40,751] Trial 45 finished with value: 0.2284263959390863 and parameters: {'min_samples_split': 14, 'max_leaf_nodes': 52.0, 'criterion': 'gini', 'n_estimators': 100.0, 'max_depth': 9}. Best is trial 20 with value: 0.2253807106598985.\n",
      "[I 2020-07-29 23:58:41,351] Trial 46 finished with value: 0.2284263959390863 and parameters: {'min_samples_split': 13, 'max_leaf_nodes': 56.0, 'criterion': 'gini', 'n_estimators': 50.0, 'max_depth': 9}. Best is trial 20 with value: 0.2253807106598985.\n",
      "[I 2020-07-29 23:58:43,360] Trial 47 finished with value: 0.23857868020304573 and parameters: {'min_samples_split': 8, 'max_leaf_nodes': 4.0, 'criterion': 'gini', 'n_estimators': 300.0, 'max_depth': 10}. Best is trial 20 with value: 0.2253807106598985.\n",
      "[I 2020-07-29 23:58:43,986] Trial 48 finished with value: 0.2274111675126903 and parameters: {'min_samples_split': 16, 'max_leaf_nodes': 60.0, 'criterion': 'gini', 'n_estimators': 50.0, 'max_depth': 8}. Best is trial 20 with value: 0.2253807106598985.\n",
      "[I 2020-07-29 23:58:45,689] Trial 49 finished with value: 0.23451776649746192 and parameters: {'min_samples_split': 6, 'max_leaf_nodes': 64.0, 'criterion': 'entropy', 'n_estimators': 100.0, 'max_depth': 9}. Best is trial 20 with value: 0.2253807106598985.\n",
      "[I 2020-07-29 23:58:47,676] Trial 50 finished with value: 0.23248730964467001 and parameters: {'min_samples_split': 15, 'max_leaf_nodes': 24.0, 'criterion': 'gini', 'n_estimators': 200.0, 'max_depth': 8}. Best is trial 20 with value: 0.2253807106598985.\n",
      "[I 2020-07-29 23:58:48,283] Trial 51 finished with value: 0.2274111675126903 and parameters: {'min_samples_split': 16, 'max_leaf_nodes': 60.0, 'criterion': 'gini', 'n_estimators': 50.0, 'max_depth': 8}. Best is trial 20 with value: 0.2253807106598985.\n",
      "[I 2020-07-29 23:58:48,888] Trial 52 finished with value: 0.2263959390862944 and parameters: {'min_samples_split': 16, 'max_leaf_nodes': 56.0, 'criterion': 'gini', 'n_estimators': 50.0, 'max_depth': 8}. Best is trial 20 with value: 0.2253807106598985.\n",
      "[I 2020-07-29 23:58:49,467] Trial 53 finished with value: 0.2253807106598985 and parameters: {'min_samples_split': 14, 'max_leaf_nodes': 48.0, 'criterion': 'gini', 'n_estimators': 50.0, 'max_depth': 9}. Best is trial 20 with value: 0.2253807106598985.\n",
      "[I 2020-07-29 23:58:50,618] Trial 54 finished with value: 0.2294416243654822 and parameters: {'min_samples_split': 14, 'max_leaf_nodes': 48.0, 'criterion': 'gini', 'n_estimators': 100.0, 'max_depth': 10}. Best is trial 20 with value: 0.2253807106598985.\n",
      "[I 2020-07-29 23:58:55,218] Trial 55 finished with value: 0.23045685279187822 and parameters: {'min_samples_split': 13, 'max_leaf_nodes': 52.0, 'criterion': 'gini', 'n_estimators': 400.0, 'max_depth': 9}. Best is trial 20 with value: 0.2253807106598985.\n",
      "[I 2020-07-29 23:58:55,820] Trial 56 finished with value: 0.2263959390862944 and parameters: {'min_samples_split': 16, 'max_leaf_nodes': 56.0, 'criterion': 'gini', 'n_estimators': 50.0, 'max_depth': 8}. Best is trial 20 with value: 0.2253807106598985.\n",
      "[I 2020-07-29 23:58:56,921] Trial 57 finished with value: 0.2284263959390863 and parameters: {'min_samples_split': 14, 'max_leaf_nodes': 40.0, 'criterion': 'gini', 'n_estimators': 100.0, 'max_depth': 9}. Best is trial 20 with value: 0.2253807106598985.\n",
      "[I 2020-07-29 23:58:57,484] Trial 58 finished with value: 0.23248730964467001 and parameters: {'min_samples_split': 10, 'max_leaf_nodes': 44.0, 'criterion': 'gini', 'n_estimators': 50.0, 'max_depth': 7}. Best is trial 20 with value: 0.2253807106598985.\n",
      "[I 2020-07-29 23:58:58,082] Trial 59 finished with value: 0.2263959390862944 and parameters: {'min_samples_split': 16, 'max_leaf_nodes': 56.0, 'criterion': 'gini', 'n_estimators': 50.0, 'max_depth': 8}. Best is trial 20 with value: 0.2253807106598985.\n",
      "[I 2020-07-29 23:59:00,309] Trial 60 finished with value: 0.2294416243654822 and parameters: {'min_samples_split': 16, 'max_leaf_nodes': 48.0, 'criterion': 'gini', 'n_estimators': 200.0, 'max_depth': 7}. Best is trial 20 with value: 0.2253807106598985.\n",
      "[I 2020-07-29 23:59:00,937] Trial 61 finished with value: 0.2274111675126903 and parameters: {'min_samples_split': 15, 'max_leaf_nodes': 64.0, 'criterion': 'gini', 'n_estimators': 50.0, 'max_depth': 9}. Best is trial 20 with value: 0.2253807106598985.\n",
      "[I 2020-07-29 23:59:01,539] Trial 62 finished with value: 0.2263959390862944 and parameters: {'min_samples_split': 15, 'max_leaf_nodes': 60.0, 'criterion': 'gini', 'n_estimators': 50.0, 'max_depth': 8}. Best is trial 20 with value: 0.2253807106598985.\n",
      "[I 2020-07-29 23:59:02,716] Trial 63 finished with value: 0.23248730964467001 and parameters: {'min_samples_split': 16, 'max_leaf_nodes': 56.0, 'criterion': 'gini', 'n_estimators': 100.0, 'max_depth': 8}. Best is trial 20 with value: 0.2253807106598985.\n"
     ]
    },
    {
     "name": "stderr",
     "output_type": "stream",
     "text": [
      "[I 2020-07-29 23:59:03,334] Trial 64 finished with value: 0.2294416243654822 and parameters: {'min_samples_split': 14, 'max_leaf_nodes': 64.0, 'criterion': 'gini', 'n_estimators': 50.0, 'max_depth': 10}. Best is trial 20 with value: 0.2253807106598985.\n",
      "[I 2020-07-29 23:59:03,879] Trial 65 finished with value: 0.2294416243654822 and parameters: {'min_samples_split': 13, 'max_leaf_nodes': 36.0, 'criterion': 'gini', 'n_estimators': 50.0, 'max_depth': 8}. Best is trial 20 with value: 0.2253807106598985.\n",
      "[I 2020-07-29 23:59:05,041] Trial 66 finished with value: 0.2284263959390863 and parameters: {'min_samples_split': 15, 'max_leaf_nodes': 52.0, 'criterion': 'gini', 'n_estimators': 100.0, 'max_depth': 9}. Best is trial 20 with value: 0.2253807106598985.\n",
      "[I 2020-07-29 23:59:05,639] Trial 67 finished with value: 0.2274111675126903 and parameters: {'min_samples_split': 12, 'max_leaf_nodes': 56.0, 'criterion': 'gini', 'n_estimators': 50.0, 'max_depth': 9}. Best is trial 20 with value: 0.2253807106598985.\n",
      "[I 2020-07-29 23:59:06,849] Trial 68 finished with value: 0.2284263959390863 and parameters: {'min_samples_split': 14, 'max_leaf_nodes': 64.0, 'criterion': 'gini', 'n_estimators': 100.0, 'max_depth': 10}. Best is trial 20 with value: 0.2253807106598985.\n",
      "[I 2020-07-29 23:59:08,616] Trial 69 finished with value: 0.2263959390862944 and parameters: {'min_samples_split': 16, 'max_leaf_nodes': 56.0, 'criterion': 'gini', 'n_estimators': 150.0, 'max_depth': 7}. Best is trial 20 with value: 0.2253807106598985.\n",
      "[I 2020-07-29 23:59:09,203] Trial 70 finished with value: 0.2233502538071066 and parameters: {'min_samples_split': 16, 'max_leaf_nodes': 52.0, 'criterion': 'gini', 'n_estimators': 50.0, 'max_depth': 8}. Best is trial 70 with value: 0.2233502538071066.\n",
      "[I 2020-07-29 23:59:10,906] Trial 71 finished with value: 0.2274111675126903 and parameters: {'min_samples_split': 15, 'max_leaf_nodes': 52.0, 'criterion': 'gini', 'n_estimators': 150.0, 'max_depth': 7}. Best is trial 70 with value: 0.2233502538071066.\n",
      "[I 2020-07-29 23:59:11,511] Trial 72 finished with value: 0.2263959390862944 and parameters: {'min_samples_split': 15, 'max_leaf_nodes': 60.0, 'criterion': 'gini', 'n_estimators': 50.0, 'max_depth': 8}. Best is trial 70 with value: 0.2233502538071066.\n",
      "[I 2020-07-29 23:59:12,077] Trial 73 finished with value: 0.2253807106598985 and parameters: {'min_samples_split': 16, 'max_leaf_nodes': 44.0, 'criterion': 'gini', 'n_estimators': 50.0, 'max_depth': 8}. Best is trial 70 with value: 0.2233502538071066.\n",
      "[I 2020-07-29 23:59:13,204] Trial 74 finished with value: 0.2294416243654822 and parameters: {'min_samples_split': 15, 'max_leaf_nodes': 44.0, 'criterion': 'gini', 'n_estimators': 100.0, 'max_depth': 9}. Best is trial 70 with value: 0.2233502538071066.\n",
      "[I 2020-07-29 23:59:14,340] Trial 75 finished with value: 0.2284263959390863 and parameters: {'min_samples_split': 16, 'max_leaf_nodes': 44.0, 'criterion': 'gini', 'n_estimators': 100.0, 'max_depth': 8}. Best is trial 70 with value: 0.2233502538071066.\n",
      "[I 2020-07-29 23:59:15,158] Trial 76 finished with value: 0.23248730964467001 and parameters: {'min_samples_split': 16, 'max_leaf_nodes': 48.0, 'criterion': 'entropy', 'n_estimators': 50.0, 'max_depth': 9}. Best is trial 70 with value: 0.2233502538071066.\n",
      "[I 2020-07-29 23:59:18,028] Trial 77 finished with value: 0.2274111675126903 and parameters: {'min_samples_split': 16, 'max_leaf_nodes': 52.0, 'criterion': 'gini', 'n_estimators': 250.0, 'max_depth': 8}. Best is trial 70 with value: 0.2233502538071066.\n",
      "[I 2020-07-29 23:59:19,179] Trial 78 finished with value: 0.2294416243654822 and parameters: {'min_samples_split': 14, 'max_leaf_nodes': 48.0, 'criterion': 'gini', 'n_estimators': 100.0, 'max_depth': 9}. Best is trial 70 with value: 0.2233502538071066.\n",
      "[I 2020-07-29 23:59:20,845] Trial 79 finished with value: 0.2284263959390863 and parameters: {'min_samples_split': 9, 'max_leaf_nodes': 48.0, 'criterion': 'gini', 'n_estimators': 150.0, 'max_depth': 7}. Best is trial 70 with value: 0.2233502538071066.\n",
      "[I 2020-07-29 23:59:21,395] Trial 80 finished with value: 0.2294416243654822 and parameters: {'min_samples_split': 14, 'max_leaf_nodes': 36.0, 'criterion': 'gini', 'n_estimators': 50.0, 'max_depth': 8}. Best is trial 70 with value: 0.2233502538071066.\n",
      "[I 2020-07-29 23:59:22,004] Trial 81 finished with value: 0.2263959390862944 and parameters: {'min_samples_split': 15, 'max_leaf_nodes': 60.0, 'criterion': 'gini', 'n_estimators': 50.0, 'max_depth': 8}. Best is trial 70 with value: 0.2233502538071066.\n",
      "[I 2020-07-29 23:59:22,594] Trial 82 finished with value: 0.2274111675126903 and parameters: {'min_samples_split': 16, 'max_leaf_nodes': 56.0, 'criterion': 'gini', 'n_estimators': 50.0, 'max_depth': 7}. Best is trial 70 with value: 0.2233502538071066.\n",
      "[I 2020-07-29 23:59:23,202] Trial 83 finished with value: 0.2263959390862944 and parameters: {'min_samples_split': 15, 'max_leaf_nodes': 60.0, 'criterion': 'gini', 'n_estimators': 50.0, 'max_depth': 8}. Best is trial 70 with value: 0.2233502538071066.\n",
      "[I 2020-07-29 23:59:24,353] Trial 84 finished with value: 0.2294416243654822 and parameters: {'min_samples_split': 15, 'max_leaf_nodes': 52.0, 'criterion': 'gini', 'n_estimators': 100.0, 'max_depth': 8}. Best is trial 70 with value: 0.2233502538071066.\n",
      "[I 2020-07-29 23:59:25,984] Trial 85 finished with value: 0.23350253807106602 and parameters: {'min_samples_split': 16, 'max_leaf_nodes': 56.0, 'criterion': 'gini', 'n_estimators': 150.0, 'max_depth': 6}. Best is trial 70 with value: 0.2233502538071066.\n",
      "[I 2020-07-29 23:59:26,583] Trial 86 finished with value: 0.2263959390862944 and parameters: {'min_samples_split': 16, 'max_leaf_nodes': 56.0, 'criterion': 'gini', 'n_estimators': 50.0, 'max_depth': 8}. Best is trial 70 with value: 0.2233502538071066.\n",
      "[I 2020-07-29 23:59:27,724] Trial 87 finished with value: 0.23147208121827412 and parameters: {'min_samples_split': 3, 'max_leaf_nodes': 52.0, 'criterion': 'gini', 'n_estimators': 100.0, 'max_depth': 8}. Best is trial 70 with value: 0.2233502538071066.\n",
      "[I 2020-07-29 23:59:29,441] Trial 88 finished with value: 0.2284263959390863 and parameters: {'min_samples_split': 11, 'max_leaf_nodes': 56.0, 'criterion': 'gini', 'n_estimators': 150.0, 'max_depth': 7}. Best is trial 70 with value: 0.2233502538071066.\n",
      "[I 2020-07-29 23:59:30,021] Trial 89 finished with value: 0.2243654822335025 and parameters: {'min_samples_split': 16, 'max_leaf_nodes': 52.0, 'criterion': 'gini', 'n_estimators': 50.0, 'max_depth': 7}. Best is trial 70 with value: 0.2233502538071066.\n",
      "[I 2020-07-29 23:59:30,561] Trial 90 finished with value: 0.2284263959390863 and parameters: {'min_samples_split': 7, 'max_leaf_nodes': 40.0, 'criterion': 'gini', 'n_estimators': 50.0, 'max_depth': 6}. Best is trial 70 with value: 0.2233502538071066.\n",
      "[I 2020-07-29 23:59:32,281] Trial 91 finished with value: 0.2274111675126903 and parameters: {'min_samples_split': 16, 'max_leaf_nodes': 52.0, 'criterion': 'gini', 'n_estimators': 150.0, 'max_depth': 7}. Best is trial 70 with value: 0.2233502538071066.\n",
      "[I 2020-07-29 23:59:32,890] Trial 92 finished with value: 0.2263959390862944 and parameters: {'min_samples_split': 16, 'max_leaf_nodes': 56.0, 'criterion': 'gini', 'n_estimators': 50.0, 'max_depth': 8}. Best is trial 70 with value: 0.2233502538071066.\n",
      "[I 2020-07-29 23:59:33,482] Trial 93 finished with value: 0.2233502538071066 and parameters: {'min_samples_split': 16, 'max_leaf_nodes': 52.0, 'criterion': 'gini', 'n_estimators': 50.0, 'max_depth': 8}. Best is trial 70 with value: 0.2233502538071066.\n",
      "[I 2020-07-29 23:59:34,057] Trial 94 finished with value: 0.2253807106598985 and parameters: {'min_samples_split': 15, 'max_leaf_nodes': 48.0, 'criterion': 'gini', 'n_estimators': 50.0, 'max_depth': 8}. Best is trial 70 with value: 0.2233502538071066.\n",
      "[I 2020-07-29 23:59:35,184] Trial 95 finished with value: 0.23045685279187822 and parameters: {'min_samples_split': 15, 'max_leaf_nodes': 48.0, 'criterion': 'gini', 'n_estimators': 100.0, 'max_depth': 7}. Best is trial 70 with value: 0.2233502538071066.\n"
     ]
    },
    {
     "name": "stderr",
     "output_type": "stream",
     "text": [
      "[I 2020-07-29 23:59:35,982] Trial 96 finished with value: 0.23248730964467001 and parameters: {'min_samples_split': 13, 'max_leaf_nodes': 44.0, 'criterion': 'entropy', 'n_estimators': 50.0, 'max_depth': 8}. Best is trial 70 with value: 0.2233502538071066.\n",
      "[I 2020-07-29 23:59:37,134] Trial 97 finished with value: 0.2294416243654822 and parameters: {'min_samples_split': 14, 'max_leaf_nodes': 48.0, 'criterion': 'gini', 'n_estimators': 100.0, 'max_depth': 9}. Best is trial 70 with value: 0.2233502538071066.\n",
      "[I 2020-07-29 23:59:39,410] Trial 98 finished with value: 0.2284263959390863 and parameters: {'min_samples_split': 16, 'max_leaf_nodes': 52.0, 'criterion': 'gini', 'n_estimators': 200.0, 'max_depth': 7}. Best is trial 70 with value: 0.2233502538071066.\n",
      "[I 2020-07-29 23:59:39,998] Trial 99 finished with value: 0.2253807106598985 and parameters: {'min_samples_split': 15, 'max_leaf_nodes': 44.0, 'criterion': 'gini', 'n_estimators': 50.0, 'max_depth': 8}. Best is trial 70 with value: 0.2233502538071066.\n"
     ]
    }
   ],
   "source": [
    "from sklearn.model_selection import train_test_split\n",
    "from sklearn.ensemble import RandomForestClassifier\n",
    "from sklearn.metrics import accuracy_score\n",
    "import optuna\n",
    "\n",
    "X_train, X_test, Y_train, Y_test = train_test_split(df_xy[[\"SMA5/current\", \"SMA20/current\",\"RSI\",\"MACD\",\"BBANDS+2σ\",\"BBANDS-2σ\"]],df_xy[\"前日比_classified\"], train_size=0.8)\n",
    "\n",
    "def objective(trial):\n",
    "    min_samples_split = trial.suggest_int(\"min_samples_split\", 2,16)\n",
    "    max_leaf_nodes = int(trial.suggest_discrete_uniform(\"max_leaf_nodes\", 4,64,4))\n",
    "    criterion = trial.suggest_categorical(\"criterion\", [\"gini\", \"entropy\"])\n",
    "    n_estimators = int(trial.suggest_discrete_uniform(\"n_estimators\", 50,500,50))\n",
    "    max_depth = trial.suggest_int(\"max_depth\", 3,10)\n",
    "    clf = RandomForestClassifier(random_state=1, n_estimators = n_estimators, max_leaf_nodes = max_leaf_nodes, max_depth=max_depth, max_features=None,criterion=criterion,min_samples_split=min_samples_split)\n",
    "    clf.fit(X_train, Y_train)\n",
    "    return 1 - accuracy_score(Y_test, clf.predict(X_test))\n",
    "\n",
    "study = optuna.create_study()\n",
    "study.optimize(objective, n_trials=100)\n"
   ]
  },
  {
   "cell_type": "code",
   "execution_count": 273,
   "metadata": {},
   "outputs": [
    {
     "name": "stdout",
     "output_type": "stream",
     "text": [
      "0.7766497461928934\n",
      "{'min_samples_split': 16, 'max_leaf_nodes': 52.0, 'criterion': 'gini', 'n_estimators': 50.0, 'max_depth': 8}\n"
     ]
    }
   ],
   "source": [
    "print(1-study.best_value)\n",
    "print(study.best_params)"
   ]
  },
  {
   "cell_type": "code",
   "execution_count": 274,
   "metadata": {},
   "outputs": [
    {
     "data": {
      "text/plain": [
       "0.2233502538071066"
      ]
     },
     "execution_count": 274,
     "metadata": {},
     "output_type": "execute_result"
    }
   ],
   "source": [
    "print("
   ]
  },
  {
   "cell_type": "code",
   "execution_count": 251,
   "metadata": {},
   "outputs": [
    {
     "name": "stderr",
     "output_type": "stream",
     "text": [
      "/Users/merry/.pyenv/versions/3.6.5/lib/python3.6/site-packages/numpy/lib/histograms.py:829: RuntimeWarning: invalid value encountered in greater_equal\n",
      "  keep = (tmp_a >= first_edge)\n",
      "/Users/merry/.pyenv/versions/3.6.5/lib/python3.6/site-packages/numpy/lib/histograms.py:830: RuntimeWarning: invalid value encountered in less_equal\n",
      "  keep &= (tmp_a <= last_edge)\n"
     ]
    },
    {
     "data": {
      "text/plain": [
       "(array([1622.,    0.,    0.,    0.,    0., 1654.,    0.,    0.,    0.,\n",
       "        1680.]),\n",
       " array([0. , 0.2, 0.4, 0.6, 0.8, 1. , 1.2, 1.4, 1.6, 1.8, 2. ]),\n",
       " <a list of 10 Patch objects>)"
      ]
     },
     "execution_count": 251,
     "metadata": {},
     "output_type": "execute_result"
    },
    {
     "data": {
      "image/png": "[encoded data removed]",
      "text/plain": [
       "<Figure size 432x288 with 1 Axes>"
      ]
     },
     "metadata": {
      "needs_background": "light"
     },
     "output_type": "display_data"
    }
   ],
   "source": [
    "import matplotlib.pyplot as plt\n",
    "plt.hist(df_y)"
   ]
  },
  {
   "cell_type": "code",
   "execution_count": null,
   "metadata": {},
   "outputs": [],
   "source": []
  },
  {
   "cell_type": "code",
   "execution_count": null,
   "metadata": {},
   "outputs": [],
   "source": []
  }
 ],
 "metadata": {
  "kernelspec": {
   "display_name": "Python 3",
   "language": "python",
   "name": "python3"
  },
  "language_info": {
   "codemirror_mode": {
    "name": "ipython",
    "version": 3
   },
   "file_extension": ".py",
   "mimetype": "text/x-python",
   "name": "python",
   "nbconvert_exporter": "python",
   "pygments_lexer": "ipython3",
   "version": "3.6.5"
  },
  "toc": {
   "base_numbering": 1,
   "nav_menu": {},
   "number_sections": true,
   "sideBar": true,
   "skip_h1_title": false,
   "title_cell": "Table of Contents",
   "title_sidebar": "Contents",
   "toc_cell": false,
   "toc_position": {},
   "toc_section_display": true,
   "toc_window_display": false
  },
  "varInspector": {
   "cols": {
    "lenName": 16,
    "lenType": 16,
    "lenVar": 40
   },
   "kernels_config": {
    "python": {
     "delete_cmd_postfix": "",
     "delete_cmd_prefix": "del ",
     "library": "var_list.py",
     "varRefreshCmd": "print(var_dic_list())"
    },
    "r": {
     "delete_cmd_postfix": ") ",
     "delete_cmd_prefix": "rm(",
     "library": "var_list.r",
     "varRefreshCmd": "cat(var_dic_list()) "
    }
   },
   "types_to_exclude": [
    "module",
    "function",
    "builtin_function_or_method",
    "instance",
    "_Feature"
   ],
   "window_display": false
  }
 },
 "nbformat": 4,
 "nbformat_minor": 2
}
