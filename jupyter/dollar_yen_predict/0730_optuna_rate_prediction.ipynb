{
 "cells": [
  {
   "cell_type": "code",
   "execution_count": 21,
   "metadata": {},
   "outputs": [
    {
     "name": "stderr",
     "output_type": "stream",
     "text": [
      "[I 2020-07-30 11:37:21,190] Trial 0 finished with value: 0.3817258883248731 and parameters: {'min_samples_split': 4, 'max_leaf_nodes': 8.0, 'criterion': 'entropy', 'n_estimators': 130.0, 'max_depth': 3}. Best is trial 0 with value: 0.3817258883248731.\n",
      "[I 2020-07-30 11:37:21,369] Trial 1 finished with value: 0.3817258883248731 and parameters: {'min_samples_split': 3, 'max_leaf_nodes': 48.0, 'criterion': 'entropy', 'n_estimators': 10.0, 'max_depth': 5}. Best is trial 0 with value: 0.3817258883248731.\n",
      "[I 2020-07-30 11:37:23,773] Trial 2 finished with value: 0.3725888324873097 and parameters: {'min_samples_split': 4, 'max_leaf_nodes': 32.0, 'criterion': 'gini', 'n_estimators': 190.0, 'max_depth': 8}. Best is trial 2 with value: 0.3725888324873097.\n",
      "[I 2020-07-30 11:37:23,884] Trial 3 finished with value: 0.3888324873096447 and parameters: {'min_samples_split': 5, 'max_leaf_nodes': 52.0, 'criterion': 'entropy', 'n_estimators': 10.0, 'max_depth': 3}. Best is trial 2 with value: 0.3725888324873097.\n",
      "[I 2020-07-30 11:37:24,942] Trial 4 finished with value: 0.3766497461928934 and parameters: {'min_samples_split': 15, 'max_leaf_nodes': 48.0, 'criterion': 'entropy', 'n_estimators': 70.0, 'max_depth': 5}. Best is trial 2 with value: 0.3725888324873097.\n",
      "[I 2020-07-30 11:37:26,101] Trial 5 finished with value: 0.3766497461928934 and parameters: {'min_samples_split': 6, 'max_leaf_nodes': 56.0, 'criterion': 'entropy', 'n_estimators': 70.0, 'max_depth': 6}. Best is trial 2 with value: 0.3725888324873097.\n",
      "[I 2020-07-30 11:37:27,913] Trial 6 finished with value: 0.37157360406091366 and parameters: {'min_samples_split': 10, 'max_leaf_nodes': 48.0, 'criterion': 'entropy', 'n_estimators': 100.0, 'max_depth': 9}. Best is trial 6 with value: 0.37157360406091366.\n",
      "[I 2020-07-30 11:37:29,996] Trial 7 finished with value: 0.3725888324873097 and parameters: {'min_samples_split': 3, 'max_leaf_nodes': 52.0, 'criterion': 'gini', 'n_estimators': 160.0, 'max_depth': 6}. Best is trial 6 with value: 0.37157360406091366.\n",
      "[I 2020-07-30 11:37:33,930] Trial 8 finished with value: 0.3959390862944162 and parameters: {'min_samples_split': 9, 'max_leaf_nodes': 4.0, 'criterion': 'entropy', 'n_estimators': 220.0, 'max_depth': 6}. Best is trial 6 with value: 0.37157360406091366.\n",
      "[I 2020-07-30 11:37:35,818] Trial 9 finished with value: 0.3959390862944162 and parameters: {'min_samples_split': 14, 'max_leaf_nodes': 4.0, 'criterion': 'gini', 'n_estimators': 190.0, 'max_depth': 7}. Best is trial 6 with value: 0.37157360406091366.\n",
      "[I 2020-07-30 11:37:41,571] Trial 10 finished with value: 0.36852791878172586 and parameters: {'min_samples_split': 11, 'max_leaf_nodes': 32.0, 'criterion': 'entropy', 'n_estimators': 310.0, 'max_depth': 10}. Best is trial 10 with value: 0.36852791878172586.\n",
      "[I 2020-07-30 11:37:48,114] Trial 11 finished with value: 0.37157360406091366 and parameters: {'min_samples_split': 11, 'max_leaf_nodes': 28.0, 'criterion': 'entropy', 'n_estimators': 310.0, 'max_depth': 10}. Best is trial 10 with value: 0.36852791878172586.\n",
      "[I 2020-07-30 11:37:52,796] Trial 12 finished with value: 0.3766497461928934 and parameters: {'min_samples_split': 12, 'max_leaf_nodes': 20.0, 'criterion': 'entropy', 'n_estimators': 280.0, 'max_depth': 10}. Best is trial 10 with value: 0.36852791878172586.\n",
      "[I 2020-07-30 11:37:55,153] Trial 13 finished with value: 0.3776649746192894 and parameters: {'min_samples_split': 8, 'max_leaf_nodes': 64.0, 'criterion': 'entropy', 'n_estimators': 100.0, 'max_depth': 9}. Best is trial 10 with value: 0.36852791878172586.\n",
      "[I 2020-07-30 11:38:00,746] Trial 14 finished with value: 0.37360406091370557 and parameters: {'min_samples_split': 11, 'max_leaf_nodes': 40.0, 'criterion': 'entropy', 'n_estimators': 250.0, 'max_depth': 9}. Best is trial 10 with value: 0.36852791878172586.\n",
      "[I 2020-07-30 11:38:02,038] Trial 15 finished with value: 0.3796954314720812 and parameters: {'min_samples_split': 8, 'max_leaf_nodes': 20.0, 'criterion': 'entropy', 'n_estimators': 70.0, 'max_depth': 9}. Best is trial 10 with value: 0.36852791878172586.\n",
      "[I 2020-07-30 11:38:03,754] Trial 16 finished with value: 0.37360406091370557 and parameters: {'min_samples_split': 13, 'max_leaf_nodes': 40.0, 'criterion': 'gini', 'n_estimators': 130.0, 'max_depth': 10}. Best is trial 10 with value: 0.36852791878172586.\n",
      "[I 2020-07-30 11:38:10,070] Trial 17 finished with value: 0.36751269035532996 and parameters: {'min_samples_split': 16, 'max_leaf_nodes': 40.0, 'criterion': 'entropy', 'n_estimators': 310.0, 'max_depth': 8}. Best is trial 17 with value: 0.36751269035532996.\n",
      "[I 2020-07-30 11:38:15,607] Trial 18 finished with value: 0.37461928934010147 and parameters: {'min_samples_split': 14, 'max_leaf_nodes': 20.0, 'criterion': 'entropy', 'n_estimators': 310.0, 'max_depth': 8}. Best is trial 17 with value: 0.36751269035532996.\n",
      "[I 2020-07-30 11:38:20,636] Trial 19 finished with value: 0.36852791878172586 and parameters: {'min_samples_split': 16, 'max_leaf_nodes': 36.0, 'criterion': 'entropy', 'n_estimators': 280.0, 'max_depth': 8}. Best is trial 17 with value: 0.36751269035532996.\n",
      "[I 2020-07-30 11:38:25,069] Trial 20 finished with value: 0.36954314720812187 and parameters: {'min_samples_split': 16, 'max_leaf_nodes': 40.0, 'criterion': 'entropy', 'n_estimators': 250.0, 'max_depth': 7}. Best is trial 17 with value: 0.36751269035532996.\n",
      "[I 2020-07-30 11:38:30,041] Trial 21 finished with value: 0.37055837563451777 and parameters: {'min_samples_split': 16, 'max_leaf_nodes': 28.0, 'criterion': 'entropy', 'n_estimators': 310.0, 'max_depth': 8}. Best is trial 17 with value: 0.36751269035532996.\n",
      "[I 2020-07-30 11:38:35,025] Trial 22 finished with value: 0.36852791878172586 and parameters: {'min_samples_split': 16, 'max_leaf_nodes': 36.0, 'criterion': 'entropy', 'n_estimators': 280.0, 'max_depth': 8}. Best is trial 17 with value: 0.36751269035532996.\n",
      "[I 2020-07-30 11:38:39,961] Trial 23 finished with value: 0.37055837563451777 and parameters: {'min_samples_split': 16, 'max_leaf_nodes': 40.0, 'criterion': 'entropy', 'n_estimators': 280.0, 'max_depth': 8}. Best is trial 17 with value: 0.36751269035532996.\n",
      "[I 2020-07-30 11:38:44,413] Trial 24 finished with value: 0.37360406091370557 and parameters: {'min_samples_split': 15, 'max_leaf_nodes': 36.0, 'criterion': 'entropy', 'n_estimators': 250.0, 'max_depth': 7}. Best is trial 17 with value: 0.36751269035532996.\n",
      "[I 2020-07-30 11:38:48,972] Trial 25 finished with value: 0.3756345177664975 and parameters: {'min_samples_split': 14, 'max_leaf_nodes': 24.0, 'criterion': 'entropy', 'n_estimators': 280.0, 'max_depth': 8}. Best is trial 17 with value: 0.36751269035532996.\n",
      "[I 2020-07-30 11:38:52,805] Trial 26 finished with value: 0.37055837563451777 and parameters: {'min_samples_split': 16, 'max_leaf_nodes': 36.0, 'criterion': 'entropy', 'n_estimators': 220.0, 'max_depth': 7}. Best is trial 17 with value: 0.36751269035532996.\n",
      "[I 2020-07-30 11:38:55,633] Trial 27 finished with value: 0.3725888324873097 and parameters: {'min_samples_split': 12, 'max_leaf_nodes': 12.0, 'criterion': 'gini', 'n_estimators': 310.0, 'max_depth': 10}. Best is trial 17 with value: 0.36751269035532996.\n",
      "[I 2020-07-30 11:39:01,111] Trial 28 finished with value: 0.37157360406091366 and parameters: {'min_samples_split': 13, 'max_leaf_nodes': 28.0, 'criterion': 'entropy', 'n_estimators': 310.0, 'max_depth': 9}. Best is trial 17 with value: 0.36751269035532996.\n",
      "[I 2020-07-30 11:39:04,445] Trial 29 finished with value: 0.3756345177664975 and parameters: {'min_samples_split': 7, 'max_leaf_nodes': 44.0, 'criterion': 'entropy', 'n_estimators': 220.0, 'max_depth': 5}. Best is trial 17 with value: 0.36751269035532996.\n",
      "[I 2020-07-30 11:39:09,643] Trial 30 finished with value: 0.3766497461928934 and parameters: {'min_samples_split': 15, 'max_leaf_nodes': 60.0, 'criterion': 'entropy', 'n_estimators': 280.0, 'max_depth': 8}. Best is trial 17 with value: 0.36751269035532996.\n",
      "[I 2020-07-30 11:39:18,870] Trial 31 finished with value: 0.36852791878172586 and parameters: {'min_samples_split': 15, 'max_leaf_nodes': 32.0, 'criterion': 'entropy', 'n_estimators': 280.0, 'max_depth': 9}. Best is trial 17 with value: 0.36751269035532996.\n"
     ]
    },
    {
     "name": "stderr",
     "output_type": "stream",
     "text": [
      "[I 2020-07-30 11:39:34,793] Trial 32 finished with value: 0.36852791878172586 and parameters: {'min_samples_split': 13, 'max_leaf_nodes': 32.0, 'criterion': 'entropy', 'n_estimators': 250.0, 'max_depth': 9}. Best is trial 17 with value: 0.36751269035532996.\n",
      "[I 2020-07-30 11:39:40,307] Trial 33 finished with value: 0.36751269035532996 and parameters: {'min_samples_split': 12, 'max_leaf_nodes': 32.0, 'criterion': 'entropy', 'n_estimators': 250.0, 'max_depth': 10}. Best is trial 17 with value: 0.36751269035532996.\n",
      "[I 2020-07-30 11:39:46,611] Trial 34 finished with value: 0.36751269035532996 and parameters: {'min_samples_split': 10, 'max_leaf_nodes': 32.0, 'criterion': 'entropy', 'n_estimators': 190.0, 'max_depth': 10}. Best is trial 17 with value: 0.36751269035532996.\n",
      "[I 2020-07-30 11:39:48,184] Trial 35 finished with value: 0.3786802030456853 and parameters: {'min_samples_split': 10, 'max_leaf_nodes': 44.0, 'criterion': 'entropy', 'n_estimators': 160.0, 'max_depth': 3}. Best is trial 17 with value: 0.36751269035532996.\n",
      "[I 2020-07-30 11:39:51,433] Trial 36 finished with value: 0.3725888324873097 and parameters: {'min_samples_split': 12, 'max_leaf_nodes': 24.0, 'criterion': 'entropy', 'n_estimators': 190.0, 'max_depth': 10}. Best is trial 17 with value: 0.36751269035532996.\n",
      "[I 2020-07-30 11:39:54,572] Trial 37 finished with value: 0.37461928934010147 and parameters: {'min_samples_split': 10, 'max_leaf_nodes': 12.0, 'criterion': 'entropy', 'n_estimators': 220.0, 'max_depth': 10}. Best is trial 17 with value: 0.36751269035532996.\n",
      "[I 2020-07-30 11:39:56,089] Trial 38 finished with value: 0.3756345177664975 and parameters: {'min_samples_split': 9, 'max_leaf_nodes': 44.0, 'criterion': 'gini', 'n_estimators': 190.0, 'max_depth': 4}. Best is trial 17 with value: 0.36751269035532996.\n",
      "[I 2020-07-30 11:40:00,583] Trial 39 finished with value: 0.36954314720812187 and parameters: {'min_samples_split': 6, 'max_leaf_nodes': 48.0, 'criterion': 'entropy', 'n_estimators': 250.0, 'max_depth': 7}. Best is trial 17 with value: 0.36751269035532996.\n",
      "[I 2020-07-30 11:40:03,176] Trial 40 finished with value: 0.3766497461928934 and parameters: {'min_samples_split': 14, 'max_leaf_nodes': 24.0, 'criterion': 'entropy', 'n_estimators': 160.0, 'max_depth': 9}. Best is trial 17 with value: 0.36751269035532996.\n",
      "[I 2020-07-30 11:40:08,439] Trial 41 finished with value: 0.36852791878172586 and parameters: {'min_samples_split': 15, 'max_leaf_nodes': 36.0, 'criterion': 'entropy', 'n_estimators': 280.0, 'max_depth': 8}. Best is trial 17 with value: 0.36751269035532996.\n",
      "[I 2020-07-30 11:40:14,414] Trial 42 finished with value: 0.36852791878172586 and parameters: {'min_samples_split': 13, 'max_leaf_nodes': 32.0, 'criterion': 'entropy', 'n_estimators': 250.0, 'max_depth': 9}. Best is trial 17 with value: 0.36751269035532996.\n",
      "[I 2020-07-30 11:40:18,352] Trial 43 finished with value: 0.36751269035532996 and parameters: {'min_samples_split': 13, 'max_leaf_nodes': 32.0, 'criterion': 'entropy', 'n_estimators': 220.0, 'max_depth': 9}. Best is trial 17 with value: 0.36751269035532996.\n",
      "[I 2020-07-30 11:40:21,941] Trial 44 finished with value: 0.37157360406091366 and parameters: {'min_samples_split': 11, 'max_leaf_nodes': 28.0, 'criterion': 'entropy', 'n_estimators': 220.0, 'max_depth': 10}. Best is trial 17 with value: 0.36751269035532996.\n",
      "[I 2020-07-30 11:40:25,123] Trial 45 finished with value: 0.36852791878172586 and parameters: {'min_samples_split': 11, 'max_leaf_nodes': 32.0, 'criterion': 'entropy', 'n_estimators': 190.0, 'max_depth': 10}. Best is trial 17 with value: 0.36751269035532996.\n",
      "[I 2020-07-30 11:40:29,182] Trial 46 finished with value: 0.3725888324873097 and parameters: {'min_samples_split': 12, 'max_leaf_nodes': 52.0, 'criterion': 'entropy', 'n_estimators': 220.0, 'max_depth': 9}. Best is trial 17 with value: 0.36751269035532996.\n",
      "[I 2020-07-30 11:40:32,575] Trial 47 finished with value: 0.37157360406091366 and parameters: {'min_samples_split': 9, 'max_leaf_nodes': 44.0, 'criterion': 'entropy', 'n_estimators': 190.0, 'max_depth': 9}. Best is trial 17 with value: 0.36751269035532996.\n",
      "[I 2020-07-30 11:40:34,685] Trial 48 finished with value: 0.3725888324873097 and parameters: {'min_samples_split': 13, 'max_leaf_nodes': 28.0, 'criterion': 'entropy', 'n_estimators': 130.0, 'max_depth': 10}. Best is trial 17 with value: 0.36751269035532996.\n",
      "[I 2020-07-30 11:40:37,335] Trial 49 finished with value: 0.37461928934010147 and parameters: {'min_samples_split': 10, 'max_leaf_nodes': 36.0, 'criterion': 'gini', 'n_estimators': 250.0, 'max_depth': 6}. Best is trial 17 with value: 0.36751269035532996.\n",
      "[I 2020-07-30 11:40:40,499] Trial 50 finished with value: 0.36852791878172586 and parameters: {'min_samples_split': 14, 'max_leaf_nodes': 32.0, 'criterion': 'entropy', 'n_estimators': 190.0, 'max_depth': 9}. Best is trial 17 with value: 0.36751269035532996.\n",
      "[I 2020-07-30 11:40:44,731] Trial 51 finished with value: 0.36751269035532996 and parameters: {'min_samples_split': 15, 'max_leaf_nodes': 32.0, 'criterion': 'entropy', 'n_estimators': 250.0, 'max_depth': 9}. Best is trial 17 with value: 0.36751269035532996.\n",
      "[I 2020-07-30 11:40:48,221] Trial 52 finished with value: 0.37360406091370557 and parameters: {'min_samples_split': 13, 'max_leaf_nodes': 24.0, 'criterion': 'entropy', 'n_estimators': 220.0, 'max_depth': 9}. Best is trial 17 with value: 0.36751269035532996.\n",
      "[I 2020-07-30 11:40:52,619] Trial 53 finished with value: 0.37360406091370557 and parameters: {'min_samples_split': 15, 'max_leaf_nodes': 40.0, 'criterion': 'entropy', 'n_estimators': 250.0, 'max_depth': 8}. Best is trial 17 with value: 0.36751269035532996.\n",
      "[I 2020-07-30 11:40:55,317] Trial 54 finished with value: 0.36954314720812187 and parameters: {'min_samples_split': 12, 'max_leaf_nodes': 32.0, 'criterion': 'entropy', 'n_estimators': 160.0, 'max_depth': 9}. Best is trial 17 with value: 0.36751269035532996.\n",
      "[I 2020-07-30 11:41:00,140] Trial 55 finished with value: 0.36954314720812187 and parameters: {'min_samples_split': 15, 'max_leaf_nodes': 36.0, 'criterion': 'entropy', 'n_estimators': 280.0, 'max_depth': 10}. Best is trial 17 with value: 0.36751269035532996.\n",
      "[I 2020-07-30 11:41:03,256] Trial 56 finished with value: 0.37055837563451777 and parameters: {'min_samples_split': 14, 'max_leaf_nodes': 28.0, 'criterion': 'entropy', 'n_estimators': 190.0, 'max_depth': 10}. Best is trial 17 with value: 0.36751269035532996.\n",
      "[I 2020-07-30 11:41:07,101] Trial 57 finished with value: 0.37055837563451777 and parameters: {'min_samples_split': 2, 'max_leaf_nodes': 40.0, 'criterion': 'entropy', 'n_estimators': 220.0, 'max_depth': 8}. Best is trial 17 with value: 0.36751269035532996.\n",
      "[I 2020-07-30 11:41:10,938] Trial 58 finished with value: 0.3766497461928934 and parameters: {'min_samples_split': 11, 'max_leaf_nodes': 20.0, 'criterion': 'entropy', 'n_estimators': 250.0, 'max_depth': 9}. Best is trial 17 with value: 0.36751269035532996.\n",
      "[I 2020-07-30 11:41:16,277] Trial 59 finished with value: 0.36751269035532996 and parameters: {'min_samples_split': 16, 'max_leaf_nodes': 40.0, 'criterion': 'entropy', 'n_estimators': 310.0, 'max_depth': 7}. Best is trial 17 with value: 0.36751269035532996.\n",
      "[I 2020-07-30 11:41:19,838] Trial 60 finished with value: 0.3756345177664975 and parameters: {'min_samples_split': 8, 'max_leaf_nodes': 48.0, 'criterion': 'gini', 'n_estimators': 310.0, 'max_depth': 7}. Best is trial 17 with value: 0.36751269035532996.\n",
      "[I 2020-07-30 11:41:23,775] Trial 61 finished with value: 0.36954314720812187 and parameters: {'min_samples_split': 13, 'max_leaf_nodes': 32.0, 'criterion': 'entropy', 'n_estimators': 250.0, 'max_depth': 6}. Best is trial 17 with value: 0.36751269035532996.\n",
      "[I 2020-07-30 11:41:27,070] Trial 62 finished with value: 0.37055837563451777 and parameters: {'min_samples_split': 14, 'max_leaf_nodes': 40.0, 'criterion': 'entropy', 'n_estimators': 190.0, 'max_depth': 8}. Best is trial 17 with value: 0.36751269035532996.\n"
     ]
    },
    {
     "name": "stderr",
     "output_type": "stream",
     "text": [
      "[I 2020-07-30 11:41:32,230] Trial 63 finished with value: 0.37157360406091366 and parameters: {'min_samples_split': 16, 'max_leaf_nodes': 36.0, 'criterion': 'entropy', 'n_estimators': 280.0, 'max_depth': 9}. Best is trial 17 with value: 0.36751269035532996.\n",
      "[I 2020-07-30 11:41:36,512] Trial 64 finished with value: 0.37055837563451777 and parameters: {'min_samples_split': 12, 'max_leaf_nodes': 28.0, 'criterion': 'entropy', 'n_estimators': 250.0, 'max_depth': 7}. Best is trial 17 with value: 0.36751269035532996.\n",
      "[I 2020-07-30 11:41:40,446] Trial 65 finished with value: 0.36852791878172586 and parameters: {'min_samples_split': 13, 'max_leaf_nodes': 32.0, 'criterion': 'entropy', 'n_estimators': 220.0, 'max_depth': 10}. Best is trial 17 with value: 0.36751269035532996.\n",
      "[I 2020-07-30 11:41:48,434] Trial 66 finished with value: 0.36852791878172586 and parameters: {'min_samples_split': 14, 'max_leaf_nodes': 40.0, 'criterion': 'entropy', 'n_estimators': 310.0, 'max_depth': 8}. Best is trial 17 with value: 0.36751269035532996.\n",
      "[I 2020-07-30 11:41:51,712] Trial 67 finished with value: 0.3725888324873097 and parameters: {'min_samples_split': 16, 'max_leaf_nodes': 24.0, 'criterion': 'entropy', 'n_estimators': 190.0, 'max_depth': 9}. Best is trial 17 with value: 0.36751269035532996.\n",
      "[I 2020-07-30 11:41:55,766] Trial 68 finished with value: 0.37055837563451777 and parameters: {'min_samples_split': 15, 'max_leaf_nodes': 36.0, 'criterion': 'entropy', 'n_estimators': 220.0, 'max_depth': 7}. Best is trial 17 with value: 0.36751269035532996.\n",
      "[I 2020-07-30 11:41:55,992] Trial 69 finished with value: 0.37360406091370557 and parameters: {'min_samples_split': 15, 'max_leaf_nodes': 44.0, 'criterion': 'entropy', 'n_estimators': 10.0, 'max_depth': 10}. Best is trial 17 with value: 0.36751269035532996.\n",
      "[I 2020-07-30 11:42:00,920] Trial 70 finished with value: 0.36954314720812187 and parameters: {'min_samples_split': 10, 'max_leaf_nodes': 28.0, 'criterion': 'entropy', 'n_estimators': 280.0, 'max_depth': 8}. Best is trial 17 with value: 0.36751269035532996.\n",
      "[I 2020-07-30 11:42:05,696] Trial 71 finished with value: 0.36852791878172586 and parameters: {'min_samples_split': 16, 'max_leaf_nodes': 32.0, 'criterion': 'entropy', 'n_estimators': 280.0, 'max_depth': 9}. Best is trial 17 with value: 0.36751269035532996.\n",
      "[I 2020-07-30 11:42:11,080] Trial 72 finished with value: 0.36954314720812187 and parameters: {'min_samples_split': 14, 'max_leaf_nodes': 32.0, 'criterion': 'entropy', 'n_estimators': 310.0, 'max_depth': 9}. Best is trial 17 with value: 0.36751269035532996.\n",
      "[I 2020-07-30 11:42:15,659] Trial 73 finished with value: 0.37055837563451777 and parameters: {'min_samples_split': 15, 'max_leaf_nodes': 36.0, 'criterion': 'entropy', 'n_estimators': 250.0, 'max_depth': 8}. Best is trial 17 with value: 0.36751269035532996.\n",
      "[I 2020-07-30 11:42:21,381] Trial 74 finished with value: 0.36751269035532996 and parameters: {'min_samples_split': 16, 'max_leaf_nodes': 40.0, 'criterion': 'entropy', 'n_estimators': 310.0, 'max_depth': 8}. Best is trial 17 with value: 0.36751269035532996.\n",
      "[I 2020-07-30 11:42:26,808] Trial 75 finished with value: 0.36751269035532996 and parameters: {'min_samples_split': 16, 'max_leaf_nodes': 40.0, 'criterion': 'entropy', 'n_estimators': 310.0, 'max_depth': 7}. Best is trial 17 with value: 0.36751269035532996.\n",
      "[I 2020-07-30 11:42:32,528] Trial 76 finished with value: 0.36751269035532996 and parameters: {'min_samples_split': 16, 'max_leaf_nodes': 40.0, 'criterion': 'entropy', 'n_estimators': 310.0, 'max_depth': 7}. Best is trial 17 with value: 0.36751269035532996.\n",
      "[I 2020-07-30 11:42:38,159] Trial 77 finished with value: 0.36954314720812187 and parameters: {'min_samples_split': 16, 'max_leaf_nodes': 48.0, 'criterion': 'entropy', 'n_estimators': 310.0, 'max_depth': 7}. Best is trial 17 with value: 0.36751269035532996.\n",
      "[I 2020-07-30 11:42:43,448] Trial 78 finished with value: 0.36954314720812187 and parameters: {'min_samples_split': 16, 'max_leaf_nodes': 44.0, 'criterion': 'entropy', 'n_estimators': 310.0, 'max_depth': 6}. Best is trial 17 with value: 0.36751269035532996.\n",
      "[I 2020-07-30 11:42:48,797] Trial 79 finished with value: 0.36649746192893407 and parameters: {'min_samples_split': 8, 'max_leaf_nodes': 40.0, 'criterion': 'entropy', 'n_estimators': 310.0, 'max_depth': 7}. Best is trial 79 with value: 0.36649746192893407.\n",
      "[I 2020-07-30 11:42:53,984] Trial 80 finished with value: 0.36649746192893407 and parameters: {'min_samples_split': 8, 'max_leaf_nodes': 40.0, 'criterion': 'entropy', 'n_estimators': 310.0, 'max_depth': 7}. Best is trial 79 with value: 0.36649746192893407.\n",
      "[I 2020-07-30 11:42:59,165] Trial 81 finished with value: 0.36852791878172586 and parameters: {'min_samples_split': 7, 'max_leaf_nodes': 44.0, 'criterion': 'entropy', 'n_estimators': 310.0, 'max_depth': 6}. Best is trial 79 with value: 0.36649746192893407.\n",
      "[I 2020-07-30 11:43:04,625] Trial 82 finished with value: 0.36954314720812187 and parameters: {'min_samples_split': 8, 'max_leaf_nodes': 44.0, 'criterion': 'entropy', 'n_estimators': 310.0, 'max_depth': 7}. Best is trial 79 with value: 0.36649746192893407.\n",
      "[I 2020-07-30 11:43:09,929] Trial 83 finished with value: 0.36649746192893407 and parameters: {'min_samples_split': 7, 'max_leaf_nodes': 40.0, 'criterion': 'entropy', 'n_estimators': 310.0, 'max_depth': 7}. Best is trial 79 with value: 0.36649746192893407.\n",
      "[I 2020-07-30 11:43:14,204] Trial 84 finished with value: 0.36954314720812187 and parameters: {'min_samples_split': 7, 'max_leaf_nodes': 36.0, 'criterion': 'entropy', 'n_estimators': 280.0, 'max_depth': 6}. Best is trial 79 with value: 0.36649746192893407.\n",
      "[I 2020-07-30 11:43:19,405] Trial 85 finished with value: 0.36649746192893407 and parameters: {'min_samples_split': 6, 'max_leaf_nodes': 40.0, 'criterion': 'entropy', 'n_estimators': 310.0, 'max_depth': 7}. Best is trial 79 with value: 0.36649746192893407.\n",
      "[I 2020-07-30 11:43:21,212] Trial 86 finished with value: 0.3725888324873097 and parameters: {'min_samples_split': 6, 'max_leaf_nodes': 40.0, 'criterion': 'entropy', 'n_estimators': 100.0, 'max_depth': 7}. Best is trial 79 with value: 0.36649746192893407.\n",
      "[I 2020-07-30 11:43:24,339] Trial 87 finished with value: 0.37461928934010147 and parameters: {'min_samples_split': 5, 'max_leaf_nodes': 36.0, 'criterion': 'gini', 'n_estimators': 280.0, 'max_depth': 6}. Best is trial 79 with value: 0.36649746192893407.\n",
      "[I 2020-07-30 11:43:30,039] Trial 88 finished with value: 0.37055837563451777 and parameters: {'min_samples_split': 5, 'max_leaf_nodes': 48.0, 'criterion': 'entropy', 'n_estimators': 310.0, 'max_depth': 7}. Best is trial 79 with value: 0.36649746192893407.\n",
      "[I 2020-07-30 11:43:35,523] Trial 89 finished with value: 0.36649746192893407 and parameters: {'min_samples_split': 7, 'max_leaf_nodes': 40.0, 'criterion': 'entropy', 'n_estimators': 310.0, 'max_depth': 7}. Best is trial 79 with value: 0.36649746192893407.\n",
      "[I 2020-07-30 11:43:40,091] Trial 90 finished with value: 0.3756345177664975 and parameters: {'min_samples_split': 7, 'max_leaf_nodes': 40.0, 'criterion': 'entropy', 'n_estimators': 310.0, 'max_depth': 5}. Best is trial 79 with value: 0.36649746192893407.\n",
      "[I 2020-07-30 11:43:45,760] Trial 91 finished with value: 0.36649746192893407 and parameters: {'min_samples_split': 7, 'max_leaf_nodes': 40.0, 'criterion': 'entropy', 'n_estimators': 310.0, 'max_depth': 7}. Best is trial 79 with value: 0.36649746192893407.\n",
      "[I 2020-07-30 11:43:51,102] Trial 92 finished with value: 0.36954314720812187 and parameters: {'min_samples_split': 7, 'max_leaf_nodes': 44.0, 'criterion': 'entropy', 'n_estimators': 310.0, 'max_depth': 7}. Best is trial 79 with value: 0.36649746192893407.\n",
      "[I 2020-07-30 11:43:55,987] Trial 93 finished with value: 0.3725888324873097 and parameters: {'min_samples_split': 8, 'max_leaf_nodes': 40.0, 'criterion': 'entropy', 'n_estimators': 280.0, 'max_depth': 7}. Best is trial 79 with value: 0.36649746192893407.\n"
     ]
    },
    {
     "name": "stderr",
     "output_type": "stream",
     "text": [
      "[I 2020-07-30 11:44:00,979] Trial 94 finished with value: 0.36649746192893407 and parameters: {'min_samples_split': 6, 'max_leaf_nodes': 40.0, 'criterion': 'entropy', 'n_estimators': 310.0, 'max_depth': 7}. Best is trial 79 with value: 0.36649746192893407.\n",
      "[I 2020-07-30 11:44:06,236] Trial 95 finished with value: 0.37055837563451777 and parameters: {'min_samples_split': 6, 'max_leaf_nodes': 48.0, 'criterion': 'entropy', 'n_estimators': 310.0, 'max_depth': 7}. Best is trial 79 with value: 0.36649746192893407.\n",
      "[I 2020-07-30 11:44:11,833] Trial 96 finished with value: 0.36954314720812187 and parameters: {'min_samples_split': 4, 'max_leaf_nodes': 44.0, 'criterion': 'entropy', 'n_estimators': 310.0, 'max_depth': 7}. Best is trial 79 with value: 0.36649746192893407.\n",
      "[I 2020-07-30 11:44:13,178] Trial 97 finished with value: 0.3776649746192894 and parameters: {'min_samples_split': 6, 'max_leaf_nodes': 40.0, 'criterion': 'entropy', 'n_estimators': 70.0, 'max_depth': 7}. Best is trial 79 with value: 0.36649746192893407.\n",
      "[I 2020-07-30 11:44:18,729] Trial 98 finished with value: 0.36954314720812187 and parameters: {'min_samples_split': 9, 'max_leaf_nodes': 44.0, 'criterion': 'entropy', 'n_estimators': 310.0, 'max_depth': 8}. Best is trial 79 with value: 0.36649746192893407.\n",
      "[I 2020-07-30 11:44:23,703] Trial 99 finished with value: 0.36954314720812187 and parameters: {'min_samples_split': 8, 'max_leaf_nodes': 36.0, 'criterion': 'entropy', 'n_estimators': 280.0, 'max_depth': 6}. Best is trial 79 with value: 0.36649746192893407.\n"
     ]
    },
    {
     "data": {
      "application/vnd.plotly.v1+json": {
       "config": {
        "plotlyServerURL": "https://plot.ly"
       },
       "data": [
        {
         "type": "scatter",
         "xaxis": "x",
         "yaxis": "y"
        },
        {
         "colorbar": {
          "title": {
           "text": "Objective Value"
          }
         },
         "colorscale": [
          [
           0,
           "rgb(220,220,220)"
          ],
          [
           0.30000000000000004,
           "rgb(106,137,247)"
          ],
          [
           0.4,
           "rgb(90,120,245)"
          ],
          [
           0.5,
           "rgb(70,100,245)"
          ],
          [
           0.65,
           "rgb(40,60,190)"
          ],
          [
           1,
           "rgb(5,10,172)"
          ]
         ],
         "connectgaps": true,
         "contours": {
          "coloring": "heatmap"
         },
         "hoverinfo": "none",
         "line": {
          "smoothing": 1.3
         },
         "showscale": true,
         "type": "contour",
         "x": [
          3,
          4,
          5,
          6,
          7,
          8,
          9,
          10
         ],
         "xaxis": "x4",
         "y": [
          4,
          8,
          12,
          20,
          24,
          28,
          32,
          36,
          40,
          44,
          48,
          52,
          56,
          60,
          64
         ],
         "yaxis": "y4",
         "z": [
          [
           null,
           null,
           null,
           0.3959390862944162,
           0.3959390862944162,
           null,
           null,
           null
          ],
          [
           0.3817258883248731,
           null,
           null,
           null,
           null,
           null,
           null,
           null
          ],
          [
           null,
           null,
           null,
           null,
           null,
           null,
           null,
           0.37461928934010147
          ],
          [
           null,
           null,
           null,
           null,
           null,
           0.37461928934010147,
           0.3766497461928934,
           0.3766497461928934
          ],
          [
           null,
           null,
           null,
           null,
           null,
           0.3756345177664975,
           0.3725888324873097,
           0.3725888324873097
          ],
          [
           null,
           null,
           null,
           null,
           0.37055837563451777,
           0.36954314720812187,
           0.37157360406091366,
           0.37055837563451777
          ],
          [
           null,
           null,
           null,
           0.36954314720812187,
           null,
           0.3725888324873097,
           0.36954314720812187,
           0.36852791878172586
          ],
          [
           null,
           null,
           null,
           0.36954314720812187,
           0.37055837563451777,
           0.37055837563451777,
           0.37157360406091366,
           0.36954314720812187
          ],
          [
           null,
           null,
           0.3756345177664975,
           null,
           0.3776649746192894,
           0.36751269035532996,
           0.37360406091370557,
           0.37360406091370557
          ],
          [
           0.3786802030456853,
           0.3756345177664975,
           0.3756345177664975,
           0.36852791878172586,
           0.36954314720812187,
           0.36954314720812187,
           0.37157360406091366,
           0.37360406091370557
          ],
          [
           null,
           null,
           0.3766497461928934,
           null,
           0.37055837563451777,
           null,
           0.37157360406091366,
           null
          ],
          [
           0.3888324873096447,
           null,
           null,
           0.3725888324873097,
           null,
           null,
           0.3725888324873097,
           null
          ],
          [
           null,
           null,
           null,
           0.3766497461928934,
           null,
           null,
           null,
           null
          ],
          [
           null,
           null,
           null,
           null,
           null,
           0.3766497461928934,
           null,
           null
          ],
          [
           null,
           null,
           null,
           null,
           null,
           null,
           0.3776649746192894,
           null
          ]
         ]
        },
        {
         "marker": {
          "color": "black"
         },
         "mode": "markers",
         "showlegend": false,
         "type": "scatter",
         "x": [
          3,
          5,
          8,
          3,
          5,
          6,
          9,
          6,
          6,
          7,
          10,
          10,
          10,
          9,
          9,
          9,
          10,
          8,
          8,
          8,
          7,
          8,
          8,
          8,
          7,
          8,
          7,
          10,
          9,
          5,
          8,
          9,
          9,
          10,
          10,
          3,
          10,
          10,
          4,
          7,
          9,
          8,
          9,
          9,
          10,
          10,
          9,
          9,
          10,
          6,
          9,
          9,
          9,
          8,
          9,
          10,
          10,
          8,
          9,
          7,
          7,
          6,
          8,
          9,
          7,
          10,
          8,
          9,
          7,
          10,
          8,
          9,
          9,
          8,
          8,
          7,
          7,
          7,
          6,
          7,
          7,
          6,
          7,
          7,
          6,
          7,
          7,
          6,
          7,
          7,
          5,
          7,
          7,
          7,
          7,
          7,
          7,
          7,
          8,
          6
         ],
         "xaxis": "x4",
         "y": [
          8,
          48,
          32,
          52,
          48,
          56,
          48,
          52,
          4,
          4,
          32,
          28,
          20,
          64,
          40,
          20,
          40,
          40,
          20,
          36,
          40,
          28,
          36,
          40,
          36,
          24,
          36,
          12,
          28,
          44,
          60,
          32,
          32,
          32,
          32,
          44,
          24,
          12,
          44,
          48,
          24,
          36,
          32,
          32,
          28,
          32,
          52,
          44,
          28,
          36,
          32,
          32,
          24,
          40,
          32,
          36,
          28,
          40,
          20,
          40,
          48,
          32,
          40,
          36,
          28,
          32,
          40,
          24,
          36,
          44,
          28,
          32,
          32,
          36,
          40,
          40,
          40,
          48,
          44,
          40,
          40,
          44,
          44,
          40,
          36,
          40,
          40,
          36,
          48,
          40,
          40,
          40,
          44,
          40,
          40,
          48,
          44,
          40,
          44,
          36
         ],
         "yaxis": "y4"
        },
        {
         "colorbar": {
          "title": {
           "text": "Objective Value"
          }
         },
         "colorscale": [
          [
           0,
           "rgb(220,220,220)"
          ],
          [
           0.30000000000000004,
           "rgb(106,137,247)"
          ],
          [
           0.4,
           "rgb(90,120,245)"
          ],
          [
           0.5,
           "rgb(70,100,245)"
          ],
          [
           0.65,
           "rgb(40,60,190)"
          ],
          [
           1,
           "rgb(5,10,172)"
          ]
         ],
         "connectgaps": true,
         "contours": {
          "coloring": "heatmap"
         },
         "hoverinfo": "none",
         "line": {
          "smoothing": 1.3
         },
         "showscale": false,
         "type": "contour",
         "x": [
          3,
          4,
          5,
          6,
          7,
          8,
          9,
          10
         ],
         "xaxis": "x7",
         "y": [
          10,
          70,
          100,
          130,
          160,
          190,
          220,
          250,
          280,
          310
         ],
         "yaxis": "y7",
         "z": [
          [
           0.3888324873096447,
           null,
           0.3817258883248731,
           null,
           null,
           null,
           null,
           0.37360406091370557
          ],
          [
           null,
           null,
           0.3766497461928934,
           0.3766497461928934,
           0.3776649746192894,
           null,
           0.3796954314720812,
           null
          ],
          [
           null,
           null,
           null,
           null,
           0.3725888324873097,
           null,
           0.3776649746192894,
           null
          ],
          [
           0.3817258883248731,
           null,
           null,
           null,
           null,
           null,
           null,
           0.3725888324873097
          ],
          [
           0.3786802030456853,
           null,
           null,
           0.3725888324873097,
           null,
           null,
           0.36954314720812187,
           null
          ],
          [
           null,
           0.3756345177664975,
           null,
           null,
           0.3959390862944162,
           0.37055837563451777,
           0.3725888324873097,
           0.37055837563451777
          ],
          [
           null,
           null,
           0.3756345177664975,
           0.3959390862944162,
           0.37055837563451777,
           0.37055837563451777,
           0.37360406091370557,
           0.36852791878172586
          ],
          [
           null,
           null,
           null,
           0.36954314720812187,
           0.37055837563451777,
           0.37055837563451777,
           0.3766497461928934,
           0.36751269035532996
          ],
          [
           null,
           null,
           null,
           0.36954314720812187,
           0.3725888324873097,
           0.36954314720812187,
           0.36852791878172586,
           0.36954314720812187
          ],
          [
           null,
           null,
           0.3756345177664975,
           0.36852791878172586,
           0.36954314720812187,
           0.36954314720812187,
           0.36954314720812187,
           0.3725888324873097
          ]
         ]
        },
        {
         "marker": {
          "color": "black"
         },
         "mode": "markers",
         "showlegend": false,
         "type": "scatter",
         "x": [
          3,
          5,
          8,
          3,
          5,
          6,
          9,
          6,
          6,
          7,
          10,
          10,
          10,
          9,
          9,
          9,
          10,
          8,
          8,
          8,
          7,
          8,
          8,
          8,
          7,
          8,
          7,
          10,
          9,
          5,
          8,
          9,
          9,
          10,
          10,
          3,
          10,
          10,
          4,
          7,
          9,
          8,
          9,
          9,
          10,
          10,
          9,
          9,
          10,
          6,
          9,
          9,
          9,
          8,
          9,
          10,
          10,
          8,
          9,
          7,
          7,
          6,
          8,
          9,
          7,
          10,
          8,
          9,
          7,
          10,
          8,
          9,
          9,
          8,
          8,
          7,
          7,
          7,
          6,
          7,
          7,
          6,
          7,
          7,
          6,
          7,
          7,
          6,
          7,
          7,
          5,
          7,
          7,
          7,
          7,
          7,
          7,
          7,
          8,
          6
         ],
         "xaxis": "x7",
         "y": [
          130,
          10,
          190,
          10,
          70,
          70,
          100,
          160,
          220,
          190,
          310,
          310,
          280,
          100,
          250,
          70,
          130,
          310,
          310,
          280,
          250,
          310,
          280,
          280,
          250,
          280,
          220,
          310,
          310,
          220,
          280,
          280,
          250,
          250,
          190,
          160,
          190,
          220,
          190,
          250,
          160,
          280,
          250,
          220,
          220,
          190,
          220,
          190,
          130,
          250,
          190,
          250,
          220,
          250,
          160,
          280,
          190,
          220,
          250,
          310,
          310,
          250,
          190,
          280,
          250,
          220,
          310,
          190,
          220,
          10,
          280,
          280,
          310,
          250,
          310,
          310,
          310,
          310,
          310,
          310,
          310,
          310,
          310,
          310,
          280,
          310,
          100,
          280,
          310,
          310,
          310,
          310,
          310,
          280,
          310,
          310,
          310,
          70,
          310,
          280
         ],
         "yaxis": "y7"
        },
        {
         "colorbar": {
          "title": {
           "text": "Objective Value"
          }
         },
         "colorscale": [
          [
           0,
           "rgb(220,220,220)"
          ],
          [
           0.30000000000000004,
           "rgb(106,137,247)"
          ],
          [
           0.4,
           "rgb(90,120,245)"
          ],
          [
           0.5,
           "rgb(70,100,245)"
          ],
          [
           0.65,
           "rgb(40,60,190)"
          ],
          [
           1,
           "rgb(5,10,172)"
          ]
         ],
         "connectgaps": true,
         "contours": {
          "coloring": "heatmap"
         },
         "hoverinfo": "none",
         "line": {
          "smoothing": 1.3
         },
         "showscale": false,
         "type": "contour",
         "x": [
          4,
          8,
          12,
          20,
          24,
          28,
          32,
          36,
          40,
          44,
          48,
          52,
          56,
          60,
          64
         ],
         "xaxis": "x2",
         "y": [
          3,
          4,
          5,
          6,
          7,
          8,
          9,
          10
         ],
         "yaxis": "y2",
         "z": [
          [
           null,
           0.3817258883248731,
           null,
           null,
           null,
           null,
           null,
           null,
           null,
           0.3786802030456853,
           null,
           0.3888324873096447,
           null,
           null,
           null
          ],
          [
           null,
           null,
           null,
           null,
           null,
           null,
           null,
           null,
           null,
           0.3756345177664975,
           null,
           null,
           null,
           null,
           null
          ],
          [
           null,
           null,
           null,
           null,
           null,
           null,
           null,
           null,
           0.3756345177664975,
           0.3756345177664975,
           0.3766497461928934,
           null,
           null,
           null,
           null
          ],
          [
           0.3959390862944162,
           null,
           null,
           null,
           null,
           null,
           0.36954314720812187,
           0.36954314720812187,
           null,
           0.36852791878172586,
           null,
           0.3725888324873097,
           0.3766497461928934,
           null,
           null
          ],
          [
           0.3959390862944162,
           null,
           null,
           null,
           null,
           0.37055837563451777,
           null,
           0.37055837563451777,
           0.3776649746192894,
           0.36954314720812187,
           0.37055837563451777,
           null,
           null,
           null,
           null
          ],
          [
           null,
           null,
           null,
           0.37461928934010147,
           0.3756345177664975,
           0.36954314720812187,
           0.3725888324873097,
           0.37055837563451777,
           0.36751269035532996,
           0.36954314720812187,
           null,
           null,
           null,
           0.3766497461928934,
           null
          ],
          [
           null,
           null,
           null,
           0.3766497461928934,
           0.3725888324873097,
           0.37157360406091366,
           0.36954314720812187,
           0.37157360406091366,
           0.37360406091370557,
           0.37157360406091366,
           0.37157360406091366,
           0.3725888324873097,
           null,
           null,
           0.3776649746192894
          ],
          [
           null,
           null,
           0.37461928934010147,
           0.3766497461928934,
           0.3725888324873097,
           0.37055837563451777,
           0.36852791878172586,
           0.36954314720812187,
           0.37360406091370557,
           0.37360406091370557,
           null,
           null,
           null,
           null,
           null
          ]
         ]
        },
        {
         "marker": {
          "color": "black"
         },
         "mode": "markers",
         "showlegend": false,
         "type": "scatter",
         "x": [
          8,
          48,
          32,
          52,
          48,
          56,
          48,
          52,
          4,
          4,
          32,
          28,
          20,
          64,
          40,
          20,
          40,
          40,
          20,
          36,
          40,
          28,
          36,
          40,
          36,
          24,
          36,
          12,
          28,
          44,
          60,
          32,
          32,
          32,
          32,
          44,
          24,
          12,
          44,
          48,
          24,
          36,
          32,
          32,
          28,
          32,
          52,
          44,
          28,
          36,
          32,
          32,
          24,
          40,
          32,
          36,
          28,
          40,
          20,
          40,
          48,
          32,
          40,
          36,
          28,
          32,
          40,
          24,
          36,
          44,
          28,
          32,
          32,
          36,
          40,
          40,
          40,
          48,
          44,
          40,
          40,
          44,
          44,
          40,
          36,
          40,
          40,
          36,
          48,
          40,
          40,
          40,
          44,
          40,
          40,
          48,
          44,
          40,
          44,
          36
         ],
         "xaxis": "x2",
         "y": [
          3,
          5,
          8,
          3,
          5,
          6,
          9,
          6,
          6,
          7,
          10,
          10,
          10,
          9,
          9,
          9,
          10,
          8,
          8,
          8,
          7,
          8,
          8,
          8,
          7,
          8,
          7,
          10,
          9,
          5,
          8,
          9,
          9,
          10,
          10,
          3,
          10,
          10,
          4,
          7,
          9,
          8,
          9,
          9,
          10,
          10,
          9,
          9,
          10,
          6,
          9,
          9,
          9,
          8,
          9,
          10,
          10,
          8,
          9,
          7,
          7,
          6,
          8,
          9,
          7,
          10,
          8,
          9,
          7,
          10,
          8,
          9,
          9,
          8,
          8,
          7,
          7,
          7,
          6,
          7,
          7,
          6,
          7,
          7,
          6,
          7,
          7,
          6,
          7,
          7,
          5,
          7,
          7,
          7,
          7,
          7,
          7,
          7,
          8,
          6
         ],
         "yaxis": "y2"
        },
        {
         "type": "scatter",
         "xaxis": "x5",
         "yaxis": "y5"
        },
        {
         "colorbar": {
          "title": {
           "text": "Objective Value"
          }
         },
         "colorscale": [
          [
           0,
           "rgb(220,220,220)"
          ],
          [
           0.30000000000000004,
           "rgb(106,137,247)"
          ],
          [
           0.4,
           "rgb(90,120,245)"
          ],
          [
           0.5,
           "rgb(70,100,245)"
          ],
          [
           0.65,
           "rgb(40,60,190)"
          ],
          [
           1,
           "rgb(5,10,172)"
          ]
         ],
         "connectgaps": true,
         "contours": {
          "coloring": "heatmap"
         },
         "hoverinfo": "none",
         "line": {
          "smoothing": 1.3
         },
         "showscale": false,
         "type": "contour",
         "x": [
          4,
          8,
          12,
          20,
          24,
          28,
          32,
          36,
          40,
          44,
          48,
          52,
          56,
          60,
          64
         ],
         "xaxis": "x8",
         "y": [
          10,
          70,
          100,
          130,
          160,
          190,
          220,
          250,
          280,
          310
         ],
         "yaxis": "y8",
         "z": [
          [
           null,
           null,
           null,
           null,
           null,
           null,
           null,
           null,
           null,
           0.37360406091370557,
           0.3817258883248731,
           0.3888324873096447,
           null,
           null,
           null
          ],
          [
           null,
           null,
           null,
           0.3796954314720812,
           null,
           null,
           null,
           null,
           0.3776649746192894,
           null,
           0.3766497461928934,
           null,
           0.3766497461928934,
           null,
           null
          ],
          [
           null,
           null,
           null,
           null,
           null,
           null,
           null,
           null,
           0.3725888324873097,
           null,
           0.37157360406091366,
           null,
           null,
           null,
           0.3776649746192894
          ],
          [
           null,
           0.3817258883248731,
           null,
           null,
           null,
           0.3725888324873097,
           null,
           null,
           0.37360406091370557,
           null,
           null,
           null,
           null,
           null,
           null
          ],
          [
           null,
           null,
           null,
           null,
           0.3766497461928934,
           null,
           0.36954314720812187,
           null,
           null,
           0.3786802030456853,
           null,
           0.3725888324873097,
           null,
           null,
           null
          ],
          [
           0.3959390862944162,
           null,
           null,
           null,
           0.3725888324873097,
           0.37055837563451777,
           0.36852791878172586,
           null,
           0.37055837563451777,
           0.37157360406091366,
           null,
           null,
           null,
           null,
           null
          ],
          [
           0.3959390862944162,
           null,
           0.37461928934010147,
           null,
           0.37360406091370557,
           0.37157360406091366,
           0.36852791878172586,
           0.37055837563451777,
           0.37055837563451777,
           0.3756345177664975,
           null,
           0.3725888324873097,
           null,
           null,
           null
          ],
          [
           null,
           null,
           null,
           0.3766497461928934,
           null,
           0.37055837563451777,
           0.36954314720812187,
           0.37055837563451777,
           0.37360406091370557,
           null,
           0.36954314720812187,
           null,
           null,
           null,
           null
          ],
          [
           null,
           null,
           null,
           0.3766497461928934,
           0.3756345177664975,
           0.36954314720812187,
           0.36852791878172586,
           0.36954314720812187,
           0.3725888324873097,
           null,
           null,
           null,
           null,
           0.3766497461928934,
           null
          ],
          [
           null,
           null,
           0.3725888324873097,
           0.37461928934010147,
           null,
           0.37157360406091366,
           0.36954314720812187,
           null,
           0.36649746192893407,
           0.36954314720812187,
           0.37055837563451777,
           null,
           null,
           null,
           null
          ]
         ]
        },
        {
         "marker": {
          "color": "black"
         },
         "mode": "markers",
         "showlegend": false,
         "type": "scatter",
         "x": [
          8,
          48,
          32,
          52,
          48,
          56,
          48,
          52,
          4,
          4,
          32,
          28,
          20,
          64,
          40,
          20,
          40,
          40,
          20,
          36,
          40,
          28,
          36,
          40,
          36,
          24,
          36,
          12,
          28,
          44,
          60,
          32,
          32,
          32,
          32,
          44,
          24,
          12,
          44,
          48,
          24,
          36,
          32,
          32,
          28,
          32,
          52,
          44,
          28,
          36,
          32,
          32,
          24,
          40,
          32,
          36,
          28,
          40,
          20,
          40,
          48,
          32,
          40,
          36,
          28,
          32,
          40,
          24,
          36,
          44,
          28,
          32,
          32,
          36,
          40,
          40,
          40,
          48,
          44,
          40,
          40,
          44,
          44,
          40,
          36,
          40,
          40,
          36,
          48,
          40,
          40,
          40,
          44,
          40,
          40,
          48,
          44,
          40,
          44,
          36
         ],
         "xaxis": "x8",
         "y": [
          130,
          10,
          190,
          10,
          70,
          70,
          100,
          160,
          220,
          190,
          310,
          310,
          280,
          100,
          250,
          70,
          130,
          310,
          310,
          280,
          250,
          310,
          280,
          280,
          250,
          280,
          220,
          310,
          310,
          220,
          280,
          280,
          250,
          250,
          190,
          160,
          190,
          220,
          190,
          250,
          160,
          280,
          250,
          220,
          220,
          190,
          220,
          190,
          130,
          250,
          190,
          250,
          220,
          250,
          160,
          280,
          190,
          220,
          250,
          310,
          310,
          250,
          190,
          280,
          250,
          220,
          310,
          190,
          220,
          10,
          280,
          280,
          310,
          250,
          310,
          310,
          310,
          310,
          310,
          310,
          310,
          310,
          310,
          310,
          280,
          310,
          100,
          280,
          310,
          310,
          310,
          310,
          310,
          280,
          310,
          310,
          310,
          70,
          310,
          280
         ],
         "yaxis": "y8"
        },
        {
         "colorbar": {
          "title": {
           "text": "Objective Value"
          }
         },
         "colorscale": [
          [
           0,
           "rgb(220,220,220)"
          ],
          [
           0.30000000000000004,
           "rgb(106,137,247)"
          ],
          [
           0.4,
           "rgb(90,120,245)"
          ],
          [
           0.5,
           "rgb(70,100,245)"
          ],
          [
           0.65,
           "rgb(40,60,190)"
          ],
          [
           1,
           "rgb(5,10,172)"
          ]
         ],
         "connectgaps": true,
         "contours": {
          "coloring": "heatmap"
         },
         "hoverinfo": "none",
         "line": {
          "smoothing": 1.3
         },
         "showscale": false,
         "type": "contour",
         "x": [
          10,
          70,
          100,
          130,
          160,
          190,
          220,
          250,
          280,
          310
         ],
         "xaxis": "x3",
         "y": [
          3,
          4,
          5,
          6,
          7,
          8,
          9,
          10
         ],
         "yaxis": "y3",
         "z": [
          [
           0.3888324873096447,
           null,
           null,
           0.3817258883248731,
           0.3786802030456853,
           null,
           null,
           null,
           null,
           null
          ],
          [
           null,
           null,
           null,
           null,
           null,
           0.3756345177664975,
           null,
           null,
           null,
           null
          ],
          [
           0.3817258883248731,
           0.3766497461928934,
           null,
           null,
           null,
           null,
           0.3756345177664975,
           null,
           null,
           0.3756345177664975
          ],
          [
           null,
           0.3766497461928934,
           null,
           null,
           0.3725888324873097,
           null,
           0.3959390862944162,
           0.36954314720812187,
           0.36954314720812187,
           0.36852791878172586
          ],
          [
           null,
           0.3776649746192894,
           0.3725888324873097,
           null,
           null,
           0.3959390862944162,
           0.37055837563451777,
           0.37055837563451777,
           0.3725888324873097,
           0.36954314720812187
          ],
          [
           null,
           null,
           null,
           null,
           null,
           0.37055837563451777,
           0.37055837563451777,
           0.37055837563451777,
           0.36954314720812187,
           0.36954314720812187
          ],
          [
           null,
           0.3796954314720812,
           0.3776649746192894,
           null,
           0.36954314720812187,
           0.3725888324873097,
           0.37360406091370557,
           0.3766497461928934,
           0.36852791878172586,
           0.36954314720812187
          ],
          [
           0.37360406091370557,
           null,
           null,
           0.3725888324873097,
           null,
           0.37055837563451777,
           0.36852791878172586,
           0.36751269035532996,
           0.36954314720812187,
           0.3725888324873097
          ]
         ]
        },
        {
         "marker": {
          "color": "black"
         },
         "mode": "markers",
         "showlegend": false,
         "type": "scatter",
         "x": [
          130,
          10,
          190,
          10,
          70,
          70,
          100,
          160,
          220,
          190,
          310,
          310,
          280,
          100,
          250,
          70,
          130,
          310,
          310,
          280,
          250,
          310,
          280,
          280,
          250,
          280,
          220,
          310,
          310,
          220,
          280,
          280,
          250,
          250,
          190,
          160,
          190,
          220,
          190,
          250,
          160,
          280,
          250,
          220,
          220,
          190,
          220,
          190,
          130,
          250,
          190,
          250,
          220,
          250,
          160,
          280,
          190,
          220,
          250,
          310,
          310,
          250,
          190,
          280,
          250,
          220,
          310,
          190,
          220,
          10,
          280,
          280,
          310,
          250,
          310,
          310,
          310,
          310,
          310,
          310,
          310,
          310,
          310,
          310,
          280,
          310,
          100,
          280,
          310,
          310,
          310,
          310,
          310,
          280,
          310,
          310,
          310,
          70,
          310,
          280
         ],
         "xaxis": "x3",
         "y": [
          3,
          5,
          8,
          3,
          5,
          6,
          9,
          6,
          6,
          7,
          10,
          10,
          10,
          9,
          9,
          9,
          10,
          8,
          8,
          8,
          7,
          8,
          8,
          8,
          7,
          8,
          7,
          10,
          9,
          5,
          8,
          9,
          9,
          10,
          10,
          3,
          10,
          10,
          4,
          7,
          9,
          8,
          9,
          9,
          10,
          10,
          9,
          9,
          10,
          6,
          9,
          9,
          9,
          8,
          9,
          10,
          10,
          8,
          9,
          7,
          7,
          6,
          8,
          9,
          7,
          10,
          8,
          9,
          7,
          10,
          8,
          9,
          9,
          8,
          8,
          7,
          7,
          7,
          6,
          7,
          7,
          6,
          7,
          7,
          6,
          7,
          7,
          6,
          7,
          7,
          5,
          7,
          7,
          7,
          7,
          7,
          7,
          7,
          8,
          6
         ],
         "yaxis": "y3"
        },
        {
         "colorbar": {
          "title": {
           "text": "Objective Value"
          }
         },
         "colorscale": [
          [
           0,
           "rgb(220,220,220)"
          ],
          [
           0.30000000000000004,
           "rgb(106,137,247)"
          ],
          [
           0.4,
           "rgb(90,120,245)"
          ],
          [
           0.5,
           "rgb(70,100,245)"
          ],
          [
           0.65,
           "rgb(40,60,190)"
          ],
          [
           1,
           "rgb(5,10,172)"
          ]
         ],
         "connectgaps": true,
         "contours": {
          "coloring": "heatmap"
         },
         "hoverinfo": "none",
         "line": {
          "smoothing": 1.3
         },
         "showscale": false,
         "type": "contour",
         "x": [
          10,
          70,
          100,
          130,
          160,
          190,
          220,
          250,
          280,
          310
         ],
         "xaxis": "x6",
         "y": [
          4,
          8,
          12,
          20,
          24,
          28,
          32,
          36,
          40,
          44,
          48,
          52,
          56,
          60,
          64
         ],
         "yaxis": "y6",
         "z": [
          [
           null,
           null,
           null,
           null,
           null,
           0.3959390862944162,
           0.3959390862944162,
           null,
           null,
           null
          ],
          [
           null,
           null,
           null,
           0.3817258883248731,
           null,
           null,
           null,
           null,
           null,
           null
          ],
          [
           null,
           null,
           null,
           null,
           null,
           null,
           0.37461928934010147,
           null,
           null,
           0.3725888324873097
          ],
          [
           null,
           0.3796954314720812,
           null,
           null,
           null,
           null,
           null,
           0.3766497461928934,
           0.3766497461928934,
           0.37461928934010147
          ],
          [
           null,
           null,
           null,
           null,
           0.3766497461928934,
           0.3725888324873097,
           0.37360406091370557,
           null,
           0.3756345177664975,
           null
          ],
          [
           null,
           null,
           null,
           0.3725888324873097,
           null,
           0.37055837563451777,
           0.37157360406091366,
           0.37055837563451777,
           0.36954314720812187,
           0.37157360406091366
          ],
          [
           null,
           null,
           null,
           null,
           0.36954314720812187,
           0.36852791878172586,
           0.36852791878172586,
           0.36954314720812187,
           0.36852791878172586,
           0.36954314720812187
          ],
          [
           null,
           null,
           null,
           null,
           null,
           null,
           0.37055837563451777,
           0.37055837563451777,
           0.36954314720812187,
           null
          ],
          [
           null,
           0.3776649746192894,
           0.3725888324873097,
           0.37360406091370557,
           null,
           0.37055837563451777,
           0.37055837563451777,
           0.37360406091370557,
           0.3725888324873097,
           0.36649746192893407
          ],
          [
           0.37360406091370557,
           null,
           null,
           null,
           0.3786802030456853,
           0.37157360406091366,
           0.3756345177664975,
           null,
           null,
           0.36954314720812187
          ],
          [
           0.3817258883248731,
           0.3766497461928934,
           0.37157360406091366,
           null,
           null,
           null,
           null,
           0.36954314720812187,
           null,
           0.37055837563451777
          ],
          [
           0.3888324873096447,
           null,
           null,
           null,
           0.3725888324873097,
           null,
           0.3725888324873097,
           null,
           null,
           null
          ],
          [
           null,
           0.3766497461928934,
           null,
           null,
           null,
           null,
           null,
           null,
           null,
           null
          ],
          [
           null,
           null,
           null,
           null,
           null,
           null,
           null,
           null,
           0.3766497461928934,
           null
          ],
          [
           null,
           null,
           0.3776649746192894,
           null,
           null,
           null,
           null,
           null,
           null,
           null
          ]
         ]
        },
        {
         "marker": {
          "color": "black"
         },
         "mode": "markers",
         "showlegend": false,
         "type": "scatter",
         "x": [
          130,
          10,
          190,
          10,
          70,
          70,
          100,
          160,
          220,
          190,
          310,
          310,
          280,
          100,
          250,
          70,
          130,
          310,
          310,
          280,
          250,
          310,
          280,
          280,
          250,
          280,
          220,
          310,
          310,
          220,
          280,
          280,
          250,
          250,
          190,
          160,
          190,
          220,
          190,
          250,
          160,
          280,
          250,
          220,
          220,
          190,
          220,
          190,
          130,
          250,
          190,
          250,
          220,
          250,
          160,
          280,
          190,
          220,
          250,
          310,
          310,
          250,
          190,
          280,
          250,
          220,
          310,
          190,
          220,
          10,
          280,
          280,
          310,
          250,
          310,
          310,
          310,
          310,
          310,
          310,
          310,
          310,
          310,
          310,
          280,
          310,
          100,
          280,
          310,
          310,
          310,
          310,
          310,
          280,
          310,
          310,
          310,
          70,
          310,
          280
         ],
         "xaxis": "x6",
         "y": [
          8,
          48,
          32,
          52,
          48,
          56,
          48,
          52,
          4,
          4,
          32,
          28,
          20,
          64,
          40,
          20,
          40,
          40,
          20,
          36,
          40,
          28,
          36,
          40,
          36,
          24,
          36,
          12,
          28,
          44,
          60,
          32,
          32,
          32,
          32,
          44,
          24,
          12,
          44,
          48,
          24,
          36,
          32,
          32,
          28,
          32,
          52,
          44,
          28,
          36,
          32,
          32,
          24,
          40,
          32,
          36,
          28,
          40,
          20,
          40,
          48,
          32,
          40,
          36,
          28,
          32,
          40,
          24,
          36,
          44,
          28,
          32,
          32,
          36,
          40,
          40,
          40,
          48,
          44,
          40,
          40,
          44,
          44,
          40,
          36,
          40,
          40,
          36,
          48,
          40,
          40,
          40,
          44,
          40,
          40,
          48,
          44,
          40,
          44,
          36
         ],
         "yaxis": "y6"
        },
        {
         "type": "scatter",
         "xaxis": "x9",
         "yaxis": "y9"
        }
       ],
       "layout": {
        "template": {
         "data": {
          "bar": [
           {
            "error_x": {
             "color": "#2a3f5f"
            },
            "error_y": {
             "color": "#2a3f5f"
            },
            "marker": {
             "line": {
              "color": "#E5ECF6",
              "width": 0.5
             }
            },
            "type": "bar"
           }
          ],
          "barpolar": [
           {
            "marker": {
             "line": {
              "color": "#E5ECF6",
              "width": 0.5
             }
            },
            "type": "barpolar"
           }
          ],
          "carpet": [
           {
            "aaxis": {
             "endlinecolor": "#2a3f5f",
             "gridcolor": "white",
             "linecolor": "white",
             "minorgridcolor": "white",
             "startlinecolor": "#2a3f5f"
            },
            "baxis": {
             "endlinecolor": "#2a3f5f",
             "gridcolor": "white",
             "linecolor": "white",
             "minorgridcolor": "white",
             "startlinecolor": "#2a3f5f"
            },
            "type": "carpet"
           }
          ],
          "choropleth": [
           {
            "colorbar": {
             "outlinewidth": 0,
             "ticks": ""
            },
            "type": "choropleth"
           }
          ],
          "contour": [
           {
            "colorbar": {
             "outlinewidth": 0,
             "ticks": ""
            },
            "colorscale": [
             [
              0,
              "#0d0887"
             ],
             [
              0.1111111111111111,
              "#46039f"
             ],
             [
              0.2222222222222222,
              "#7201a8"
             ],
             [
              0.3333333333333333,
              "#9c179e"
             ],
             [
              0.4444444444444444,
              "#bd3786"
             ],
             [
              0.5555555555555556,
              "#d8576b"
             ],
             [
              0.6666666666666666,
              "#ed7953"
             ],
             [
              0.7777777777777778,
              "#fb9f3a"
             ],
             [
              0.8888888888888888,
              "#fdca26"
             ],
             [
              1,
              "#f0f921"
             ]
            ],
            "type": "contour"
           }
          ],
          "contourcarpet": [
           {
            "colorbar": {
             "outlinewidth": 0,
             "ticks": ""
            },
            "type": "contourcarpet"
           }
          ],
          "heatmap": [
           {
            "colorbar": {
             "outlinewidth": 0,
             "ticks": ""
            },
            "colorscale": [
             [
              0,
              "#0d0887"
             ],
             [
              0.1111111111111111,
              "#46039f"
             ],
             [
              0.2222222222222222,
              "#7201a8"
             ],
             [
              0.3333333333333333,
              "#9c179e"
             ],
             [
              0.4444444444444444,
              "#bd3786"
             ],
             [
              0.5555555555555556,
              "#d8576b"
             ],
             [
              0.6666666666666666,
              "#ed7953"
             ],
             [
              0.7777777777777778,
              "#fb9f3a"
             ],
             [
              0.8888888888888888,
              "#fdca26"
             ],
             [
              1,
              "#f0f921"
             ]
            ],
            "type": "heatmap"
           }
          ],
          "heatmapgl": [
           {
            "colorbar": {
             "outlinewidth": 0,
             "ticks": ""
            },
            "colorscale": [
             [
              0,
              "#0d0887"
             ],
             [
              0.1111111111111111,
              "#46039f"
             ],
             [
              0.2222222222222222,
              "#7201a8"
             ],
             [
              0.3333333333333333,
              "#9c179e"
             ],
             [
              0.4444444444444444,
              "#bd3786"
             ],
             [
              0.5555555555555556,
              "#d8576b"
             ],
             [
              0.6666666666666666,
              "#ed7953"
             ],
             [
              0.7777777777777778,
              "#fb9f3a"
             ],
             [
              0.8888888888888888,
              "#fdca26"
             ],
             [
              1,
              "#f0f921"
             ]
            ],
            "type": "heatmapgl"
           }
          ],
          "histogram": [
           {
            "marker": {
             "colorbar": {
              "outlinewidth": 0,
              "ticks": ""
             }
            },
            "type": "histogram"
           }
          ],
          "histogram2d": [
           {
            "colorbar": {
             "outlinewidth": 0,
             "ticks": ""
            },
            "colorscale": [
             [
              0,
              "#0d0887"
             ],
             [
              0.1111111111111111,
              "#46039f"
             ],
             [
              0.2222222222222222,
              "#7201a8"
             ],
             [
              0.3333333333333333,
              "#9c179e"
             ],
             [
              0.4444444444444444,
              "#bd3786"
             ],
             [
              0.5555555555555556,
              "#d8576b"
             ],
             [
              0.6666666666666666,
              "#ed7953"
             ],
             [
              0.7777777777777778,
              "#fb9f3a"
             ],
             [
              0.8888888888888888,
              "#fdca26"
             ],
             [
              1,
              "#f0f921"
             ]
            ],
            "type": "histogram2d"
           }
          ],
          "histogram2dcontour": [
           {
            "colorbar": {
             "outlinewidth": 0,
             "ticks": ""
            },
            "colorscale": [
             [
              0,
              "#0d0887"
             ],
             [
              0.1111111111111111,
              "#46039f"
             ],
             [
              0.2222222222222222,
              "#7201a8"
             ],
             [
              0.3333333333333333,
              "#9c179e"
             ],
             [
              0.4444444444444444,
              "#bd3786"
             ],
             [
              0.5555555555555556,
              "#d8576b"
             ],
             [
              0.6666666666666666,
              "#ed7953"
             ],
             [
              0.7777777777777778,
              "#fb9f3a"
             ],
             [
              0.8888888888888888,
              "#fdca26"
             ],
             [
              1,
              "#f0f921"
             ]
            ],
            "type": "histogram2dcontour"
           }
          ],
          "mesh3d": [
           {
            "colorbar": {
             "outlinewidth": 0,
             "ticks": ""
            },
            "type": "mesh3d"
           }
          ],
          "parcoords": [
           {
            "line": {
             "colorbar": {
              "outlinewidth": 0,
              "ticks": ""
             }
            },
            "type": "parcoords"
           }
          ],
          "pie": [
           {
            "automargin": true,
            "type": "pie"
           }
          ],
          "scatter": [
           {
            "marker": {
             "colorbar": {
              "outlinewidth": 0,
              "ticks": ""
             }
            },
            "type": "scatter"
           }
          ],
          "scatter3d": [
           {
            "line": {
             "colorbar": {
              "outlinewidth": 0,
              "ticks": ""
             }
            },
            "marker": {
             "colorbar": {
              "outlinewidth": 0,
              "ticks": ""
             }
            },
            "type": "scatter3d"
           }
          ],
          "scattercarpet": [
           {
            "marker": {
             "colorbar": {
              "outlinewidth": 0,
              "ticks": ""
             }
            },
            "type": "scattercarpet"
           }
          ],
          "scattergeo": [
           {
            "marker": {
             "colorbar": {
              "outlinewidth": 0,
              "ticks": ""
             }
            },
            "type": "scattergeo"
           }
          ],
          "scattergl": [
           {
            "marker": {
             "colorbar": {
              "outlinewidth": 0,
              "ticks": ""
             }
            },
            "type": "scattergl"
           }
          ],
          "scattermapbox": [
           {
            "marker": {
             "colorbar": {
              "outlinewidth": 0,
              "ticks": ""
             }
            },
            "type": "scattermapbox"
           }
          ],
          "scatterpolar": [
           {
            "marker": {
             "colorbar": {
              "outlinewidth": 0,
              "ticks": ""
             }
            },
            "type": "scatterpolar"
           }
          ],
          "scatterpolargl": [
           {
            "marker": {
             "colorbar": {
              "outlinewidth": 0,
              "ticks": ""
             }
            },
            "type": "scatterpolargl"
           }
          ],
          "scatterternary": [
           {
            "marker": {
             "colorbar": {
              "outlinewidth": 0,
              "ticks": ""
             }
            },
            "type": "scatterternary"
           }
          ],
          "surface": [
           {
            "colorbar": {
             "outlinewidth": 0,
             "ticks": ""
            },
            "colorscale": [
             [
              0,
              "#0d0887"
             ],
             [
              0.1111111111111111,
              "#46039f"
             ],
             [
              0.2222222222222222,
              "#7201a8"
             ],
             [
              0.3333333333333333,
              "#9c179e"
             ],
             [
              0.4444444444444444,
              "#bd3786"
             ],
             [
              0.5555555555555556,
              "#d8576b"
             ],
             [
              0.6666666666666666,
              "#ed7953"
             ],
             [
              0.7777777777777778,
              "#fb9f3a"
             ],
             [
              0.8888888888888888,
              "#fdca26"
             ],
             [
              1,
              "#f0f921"
             ]
            ],
            "type": "surface"
           }
          ],
          "table": [
           {
            "cells": {
             "fill": {
              "color": "#EBF0F8"
             },
             "line": {
              "color": "white"
             }
            },
            "header": {
             "fill": {
              "color": "#C8D4E3"
             },
             "line": {
              "color": "white"
             }
            },
            "type": "table"
           }
          ]
         },
         "layout": {
          "annotationdefaults": {
           "arrowcolor": "#2a3f5f",
           "arrowhead": 0,
           "arrowwidth": 1
          },
          "coloraxis": {
           "colorbar": {
            "outlinewidth": 0,
            "ticks": ""
           }
          },
          "colorscale": {
           "diverging": [
            [
             0,
             "#8e0152"
            ],
            [
             0.1,
             "#c51b7d"
            ],
            [
             0.2,
             "#de77ae"
            ],
            [
             0.3,
             "#f1b6da"
            ],
            [
             0.4,
             "#fde0ef"
            ],
            [
             0.5,
             "#f7f7f7"
            ],
            [
             0.6,
             "#e6f5d0"
            ],
            [
             0.7,
             "#b8e186"
            ],
            [
             0.8,
             "#7fbc41"
            ],
            [
             0.9,
             "#4d9221"
            ],
            [
             1,
             "#276419"
            ]
           ],
           "sequential": [
            [
             0,
             "#0d0887"
            ],
            [
             0.1111111111111111,
             "#46039f"
            ],
            [
             0.2222222222222222,
             "#7201a8"
            ],
            [
             0.3333333333333333,
             "#9c179e"
            ],
            [
             0.4444444444444444,
             "#bd3786"
            ],
            [
             0.5555555555555556,
             "#d8576b"
            ],
            [
             0.6666666666666666,
             "#ed7953"
            ],
            [
             0.7777777777777778,
             "#fb9f3a"
            ],
            [
             0.8888888888888888,
             "#fdca26"
            ],
            [
             1,
             "#f0f921"
            ]
           ],
           "sequentialminus": [
            [
             0,
             "#0d0887"
            ],
            [
             0.1111111111111111,
             "#46039f"
            ],
            [
             0.2222222222222222,
             "#7201a8"
            ],
            [
             0.3333333333333333,
             "#9c179e"
            ],
            [
             0.4444444444444444,
             "#bd3786"
            ],
            [
             0.5555555555555556,
             "#d8576b"
            ],
            [
             0.6666666666666666,
             "#ed7953"
            ],
            [
             0.7777777777777778,
             "#fb9f3a"
            ],
            [
             0.8888888888888888,
             "#fdca26"
            ],
            [
             1,
             "#f0f921"
            ]
           ]
          },
          "colorway": [
           "#636efa",
           "#EF553B",
           "#00cc96",
           "#ab63fa",
           "#FFA15A",
           "#19d3f3",
           "#FF6692",
           "#B6E880",
           "#FF97FF",
           "#FECB52"
          ],
          "font": {
           "color": "#2a3f5f"
          },
          "geo": {
           "bgcolor": "white",
           "lakecolor": "white",
           "landcolor": "#E5ECF6",
           "showlakes": true,
           "showland": true,
           "subunitcolor": "white"
          },
          "hoverlabel": {
           "align": "left"
          },
          "hovermode": "closest",
          "mapbox": {
           "style": "light"
          },
          "paper_bgcolor": "white",
          "plot_bgcolor": "#E5ECF6",
          "polar": {
           "angularaxis": {
            "gridcolor": "white",
            "linecolor": "white",
            "ticks": ""
           },
           "bgcolor": "#E5ECF6",
           "radialaxis": {
            "gridcolor": "white",
            "linecolor": "white",
            "ticks": ""
           }
          },
          "scene": {
           "xaxis": {
            "backgroundcolor": "#E5ECF6",
            "gridcolor": "white",
            "gridwidth": 2,
            "linecolor": "white",
            "showbackground": true,
            "ticks": "",
            "zerolinecolor": "white"
           },
           "yaxis": {
            "backgroundcolor": "#E5ECF6",
            "gridcolor": "white",
            "gridwidth": 2,
            "linecolor": "white",
            "showbackground": true,
            "ticks": "",
            "zerolinecolor": "white"
           },
           "zaxis": {
            "backgroundcolor": "#E5ECF6",
            "gridcolor": "white",
            "gridwidth": 2,
            "linecolor": "white",
            "showbackground": true,
            "ticks": "",
            "zerolinecolor": "white"
           }
          },
          "shapedefaults": {
           "line": {
            "color": "#2a3f5f"
           }
          },
          "ternary": {
           "aaxis": {
            "gridcolor": "white",
            "linecolor": "white",
            "ticks": ""
           },
           "baxis": {
            "gridcolor": "white",
            "linecolor": "white",
            "ticks": ""
           },
           "bgcolor": "#E5ECF6",
           "caxis": {
            "gridcolor": "white",
            "linecolor": "white",
            "ticks": ""
           }
          },
          "title": {
           "x": 0.05
          },
          "xaxis": {
           "automargin": true,
           "gridcolor": "white",
           "linecolor": "white",
           "ticks": "",
           "title": {
            "standoff": 15
           },
           "zerolinecolor": "white",
           "zerolinewidth": 2
          },
          "yaxis": {
           "automargin": true,
           "gridcolor": "white",
           "linecolor": "white",
           "ticks": "",
           "title": {
            "standoff": 15
           },
           "zerolinecolor": "white",
           "zerolinewidth": 2
          }
         }
        },
        "title": {
         "text": "Contour Plot"
        },
        "xaxis": {
         "anchor": "y",
         "domain": [
          0,
          0.2888888888888889
         ],
         "matches": "x7",
         "range": [
          3,
          10
         ],
         "showticklabels": false
        },
        "xaxis2": {
         "anchor": "y2",
         "domain": [
          0.35555555555555557,
          0.6444444444444445
         ],
         "matches": "x8",
         "range": [
          4,
          64
         ],
         "showticklabels": false
        },
        "xaxis3": {
         "anchor": "y3",
         "domain": [
          0.7111111111111111,
          1
         ],
         "matches": "x9",
         "range": [
          10,
          310
         ],
         "showticklabels": false
        },
        "xaxis4": {
         "anchor": "y4",
         "domain": [
          0,
          0.2888888888888889
         ],
         "matches": "x7",
         "range": [
          3,
          10
         ],
         "showticklabels": false
        },
        "xaxis5": {
         "anchor": "y5",
         "domain": [
          0.35555555555555557,
          0.6444444444444445
         ],
         "matches": "x8",
         "range": [
          4,
          64
         ],
         "showticklabels": false
        },
        "xaxis6": {
         "anchor": "y6",
         "domain": [
          0.7111111111111111,
          1
         ],
         "matches": "x9",
         "range": [
          10,
          310
         ],
         "showticklabels": false
        },
        "xaxis7": {
         "anchor": "y7",
         "domain": [
          0,
          0.2888888888888889
         ],
         "range": [
          3,
          10
         ],
         "title": {
          "text": "max_depth"
         }
        },
        "xaxis8": {
         "anchor": "y8",
         "domain": [
          0.35555555555555557,
          0.6444444444444445
         ],
         "range": [
          4,
          64
         ],
         "title": {
          "text": "max_leaf_nodes"
         }
        },
        "xaxis9": {
         "anchor": "y9",
         "domain": [
          0.7111111111111111,
          1
         ],
         "range": [
          10,
          310
         ],
         "title": {
          "text": "n_estimators"
         }
        },
        "yaxis": {
         "anchor": "x",
         "domain": [
          0.7333333333333333,
          1
         ],
         "range": [
          3,
          10
         ],
         "title": {
          "text": "max_depth"
         }
        },
        "yaxis2": {
         "anchor": "x2",
         "domain": [
          0.7333333333333333,
          1
         ],
         "matches": "y",
         "range": [
          3,
          10
         ],
         "showticklabels": false
        },
        "yaxis3": {
         "anchor": "x3",
         "domain": [
          0.7333333333333333,
          1
         ],
         "matches": "y",
         "range": [
          3,
          10
         ],
         "showticklabels": false
        },
        "yaxis4": {
         "anchor": "x4",
         "domain": [
          0.36666666666666664,
          0.6333333333333333
         ],
         "range": [
          4,
          64
         ],
         "title": {
          "text": "max_leaf_nodes"
         }
        },
        "yaxis5": {
         "anchor": "x5",
         "domain": [
          0.36666666666666664,
          0.6333333333333333
         ],
         "matches": "y4",
         "range": [
          4,
          64
         ],
         "showticklabels": false
        },
        "yaxis6": {
         "anchor": "x6",
         "domain": [
          0.36666666666666664,
          0.6333333333333333
         ],
         "matches": "y4",
         "range": [
          4,
          64
         ],
         "showticklabels": false
        },
        "yaxis7": {
         "anchor": "x7",
         "domain": [
          0,
          0.26666666666666666
         ],
         "range": [
          10,
          310
         ],
         "title": {
          "text": "n_estimators"
         }
        },
        "yaxis8": {
         "anchor": "x8",
         "domain": [
          0,
          0.26666666666666666
         ],
         "matches": "y7",
         "range": [
          10,
          310
         ],
         "showticklabels": false
        },
        "yaxis9": {
         "anchor": "x9",
         "domain": [
          0,
          0.26666666666666666
         ],
         "matches": "y7",
         "range": [
          10,
          310
         ],
         "showticklabels": false
        }
       }
      },
      "text/html": [
       "<div>\n",
       "        \n",
       "        \n",
       "            <div id=\"4c5b78a7-b659-4683-95d0-011afd8a49a2\" class=\"plotly-graph-div\" style=\"height:525px; width:100%;\"></div>\n",
       "            <script type=\"text/javascript\">\n",
       "                require([\"plotly\"], function(Plotly) {\n",
       "                    window.PLOTLYENV=window.PLOTLYENV || {};\n",
       "                    \n",
       "                if (document.getElementById(\"4c5b78a7-b659-4683-95d0-011afd8a49a2\")) {\n",
       "                    Plotly.newPlot(\n",
       "                        '4c5b78a7-b659-4683-95d0-011afd8a49a2',\n",
       "                        [{\"type\": \"scatter\", \"xaxis\": \"x\", \"yaxis\": \"y\"}, {\"colorbar\": {\"title\": {\"text\": \"Objective Value\"}}, \"colorscale\": [[0, \"rgb(220,220,220)\"], [0.30000000000000004, \"rgb(106,137,247)\"], [0.4, \"rgb(90,120,245)\"], [0.5, \"rgb(70,100,245)\"], [0.65, \"rgb(40,60,190)\"], [1, \"rgb(5,10,172)\"]], \"connectgaps\": true, \"contours\": {\"coloring\": \"heatmap\"}, \"hoverinfo\": \"none\", \"line\": {\"smoothing\": 1.3}, \"showscale\": true, \"type\": \"contour\", \"x\": [3, 4, 5, 6, 7, 8, 9, 10], \"xaxis\": \"x4\", \"y\": [4.0, 8.0, 12.0, 20.0, 24.0, 28.0, 32.0, 36.0, 40.0, 44.0, 48.0, 52.0, 56.0, 60.0, 64.0], \"yaxis\": \"y4\", \"z\": [[null, null, null, 0.3959390862944162, 0.3959390862944162, null, null, null], [0.3817258883248731, null, null, null, null, null, null, null], [null, null, null, null, null, null, null, 0.37461928934010147], [null, null, null, null, null, 0.37461928934010147, 0.3766497461928934, 0.3766497461928934], [null, null, null, null, null, 0.3756345177664975, 0.3725888324873097, 0.3725888324873097], [null, null, null, null, 0.37055837563451777, 0.36954314720812187, 0.37157360406091366, 0.37055837563451777], [null, null, null, 0.36954314720812187, null, 0.3725888324873097, 0.36954314720812187, 0.36852791878172586], [null, null, null, 0.36954314720812187, 0.37055837563451777, 0.37055837563451777, 0.37157360406091366, 0.36954314720812187], [null, null, 0.3756345177664975, null, 0.3776649746192894, 0.36751269035532996, 0.37360406091370557, 0.37360406091370557], [0.3786802030456853, 0.3756345177664975, 0.3756345177664975, 0.36852791878172586, 0.36954314720812187, 0.36954314720812187, 0.37157360406091366, 0.37360406091370557], [null, null, 0.3766497461928934, null, 0.37055837563451777, null, 0.37157360406091366, null], [0.3888324873096447, null, null, 0.3725888324873097, null, null, 0.3725888324873097, null], [null, null, null, 0.3766497461928934, null, null, null, null], [null, null, null, null, null, 0.3766497461928934, null, null], [null, null, null, null, null, null, 0.3776649746192894, null]]}, {\"marker\": {\"color\": \"black\"}, \"mode\": \"markers\", \"showlegend\": false, \"type\": \"scatter\", \"x\": [3, 5, 8, 3, 5, 6, 9, 6, 6, 7, 10, 10, 10, 9, 9, 9, 10, 8, 8, 8, 7, 8, 8, 8, 7, 8, 7, 10, 9, 5, 8, 9, 9, 10, 10, 3, 10, 10, 4, 7, 9, 8, 9, 9, 10, 10, 9, 9, 10, 6, 9, 9, 9, 8, 9, 10, 10, 8, 9, 7, 7, 6, 8, 9, 7, 10, 8, 9, 7, 10, 8, 9, 9, 8, 8, 7, 7, 7, 6, 7, 7, 6, 7, 7, 6, 7, 7, 6, 7, 7, 5, 7, 7, 7, 7, 7, 7, 7, 8, 6], \"xaxis\": \"x4\", \"y\": [8.0, 48.0, 32.0, 52.0, 48.0, 56.0, 48.0, 52.0, 4.0, 4.0, 32.0, 28.0, 20.0, 64.0, 40.0, 20.0, 40.0, 40.0, 20.0, 36.0, 40.0, 28.0, 36.0, 40.0, 36.0, 24.0, 36.0, 12.0, 28.0, 44.0, 60.0, 32.0, 32.0, 32.0, 32.0, 44.0, 24.0, 12.0, 44.0, 48.0, 24.0, 36.0, 32.0, 32.0, 28.0, 32.0, 52.0, 44.0, 28.0, 36.0, 32.0, 32.0, 24.0, 40.0, 32.0, 36.0, 28.0, 40.0, 20.0, 40.0, 48.0, 32.0, 40.0, 36.0, 28.0, 32.0, 40.0, 24.0, 36.0, 44.0, 28.0, 32.0, 32.0, 36.0, 40.0, 40.0, 40.0, 48.0, 44.0, 40.0, 40.0, 44.0, 44.0, 40.0, 36.0, 40.0, 40.0, 36.0, 48.0, 40.0, 40.0, 40.0, 44.0, 40.0, 40.0, 48.0, 44.0, 40.0, 44.0, 36.0], \"yaxis\": \"y4\"}, {\"colorbar\": {\"title\": {\"text\": \"Objective Value\"}}, \"colorscale\": [[0, \"rgb(220,220,220)\"], [0.30000000000000004, \"rgb(106,137,247)\"], [0.4, \"rgb(90,120,245)\"], [0.5, \"rgb(70,100,245)\"], [0.65, \"rgb(40,60,190)\"], [1, \"rgb(5,10,172)\"]], \"connectgaps\": true, \"contours\": {\"coloring\": \"heatmap\"}, \"hoverinfo\": \"none\", \"line\": {\"smoothing\": 1.3}, \"showscale\": false, \"type\": \"contour\", \"x\": [3, 4, 5, 6, 7, 8, 9, 10], \"xaxis\": \"x7\", \"y\": [10.0, 70.0, 100.0, 130.0, 160.0, 190.0, 220.0, 250.0, 280.0, 310.0], \"yaxis\": \"y7\", \"z\": [[0.3888324873096447, null, 0.3817258883248731, null, null, null, null, 0.37360406091370557], [null, null, 0.3766497461928934, 0.3766497461928934, 0.3776649746192894, null, 0.3796954314720812, null], [null, null, null, null, 0.3725888324873097, null, 0.3776649746192894, null], [0.3817258883248731, null, null, null, null, null, null, 0.3725888324873097], [0.3786802030456853, null, null, 0.3725888324873097, null, null, 0.36954314720812187, null], [null, 0.3756345177664975, null, null, 0.3959390862944162, 0.37055837563451777, 0.3725888324873097, 0.37055837563451777], [null, null, 0.3756345177664975, 0.3959390862944162, 0.37055837563451777, 0.37055837563451777, 0.37360406091370557, 0.36852791878172586], [null, null, null, 0.36954314720812187, 0.37055837563451777, 0.37055837563451777, 0.3766497461928934, 0.36751269035532996], [null, null, null, 0.36954314720812187, 0.3725888324873097, 0.36954314720812187, 0.36852791878172586, 0.36954314720812187], [null, null, 0.3756345177664975, 0.36852791878172586, 0.36954314720812187, 0.36954314720812187, 0.36954314720812187, 0.3725888324873097]]}, {\"marker\": {\"color\": \"black\"}, \"mode\": \"markers\", \"showlegend\": false, \"type\": \"scatter\", \"x\": [3, 5, 8, 3, 5, 6, 9, 6, 6, 7, 10, 10, 10, 9, 9, 9, 10, 8, 8, 8, 7, 8, 8, 8, 7, 8, 7, 10, 9, 5, 8, 9, 9, 10, 10, 3, 10, 10, 4, 7, 9, 8, 9, 9, 10, 10, 9, 9, 10, 6, 9, 9, 9, 8, 9, 10, 10, 8, 9, 7, 7, 6, 8, 9, 7, 10, 8, 9, 7, 10, 8, 9, 9, 8, 8, 7, 7, 7, 6, 7, 7, 6, 7, 7, 6, 7, 7, 6, 7, 7, 5, 7, 7, 7, 7, 7, 7, 7, 8, 6], \"xaxis\": \"x7\", \"y\": [130.0, 10.0, 190.0, 10.0, 70.0, 70.0, 100.0, 160.0, 220.0, 190.0, 310.0, 310.0, 280.0, 100.0, 250.0, 70.0, 130.0, 310.0, 310.0, 280.0, 250.0, 310.0, 280.0, 280.0, 250.0, 280.0, 220.0, 310.0, 310.0, 220.0, 280.0, 280.0, 250.0, 250.0, 190.0, 160.0, 190.0, 220.0, 190.0, 250.0, 160.0, 280.0, 250.0, 220.0, 220.0, 190.0, 220.0, 190.0, 130.0, 250.0, 190.0, 250.0, 220.0, 250.0, 160.0, 280.0, 190.0, 220.0, 250.0, 310.0, 310.0, 250.0, 190.0, 280.0, 250.0, 220.0, 310.0, 190.0, 220.0, 10.0, 280.0, 280.0, 310.0, 250.0, 310.0, 310.0, 310.0, 310.0, 310.0, 310.0, 310.0, 310.0, 310.0, 310.0, 280.0, 310.0, 100.0, 280.0, 310.0, 310.0, 310.0, 310.0, 310.0, 280.0, 310.0, 310.0, 310.0, 70.0, 310.0, 280.0], \"yaxis\": \"y7\"}, {\"colorbar\": {\"title\": {\"text\": \"Objective Value\"}}, \"colorscale\": [[0, \"rgb(220,220,220)\"], [0.30000000000000004, \"rgb(106,137,247)\"], [0.4, \"rgb(90,120,245)\"], [0.5, \"rgb(70,100,245)\"], [0.65, \"rgb(40,60,190)\"], [1, \"rgb(5,10,172)\"]], \"connectgaps\": true, \"contours\": {\"coloring\": \"heatmap\"}, \"hoverinfo\": \"none\", \"line\": {\"smoothing\": 1.3}, \"showscale\": false, \"type\": \"contour\", \"x\": [4.0, 8.0, 12.0, 20.0, 24.0, 28.0, 32.0, 36.0, 40.0, 44.0, 48.0, 52.0, 56.0, 60.0, 64.0], \"xaxis\": \"x2\", \"y\": [3, 4, 5, 6, 7, 8, 9, 10], \"yaxis\": \"y2\", \"z\": [[null, 0.3817258883248731, null, null, null, null, null, null, null, 0.3786802030456853, null, 0.3888324873096447, null, null, null], [null, null, null, null, null, null, null, null, null, 0.3756345177664975, null, null, null, null, null], [null, null, null, null, null, null, null, null, 0.3756345177664975, 0.3756345177664975, 0.3766497461928934, null, null, null, null], [0.3959390862944162, null, null, null, null, null, 0.36954314720812187, 0.36954314720812187, null, 0.36852791878172586, null, 0.3725888324873097, 0.3766497461928934, null, null], [0.3959390862944162, null, null, null, null, 0.37055837563451777, null, 0.37055837563451777, 0.3776649746192894, 0.36954314720812187, 0.37055837563451777, null, null, null, null], [null, null, null, 0.37461928934010147, 0.3756345177664975, 0.36954314720812187, 0.3725888324873097, 0.37055837563451777, 0.36751269035532996, 0.36954314720812187, null, null, null, 0.3766497461928934, null], [null, null, null, 0.3766497461928934, 0.3725888324873097, 0.37157360406091366, 0.36954314720812187, 0.37157360406091366, 0.37360406091370557, 0.37157360406091366, 0.37157360406091366, 0.3725888324873097, null, null, 0.3776649746192894], [null, null, 0.37461928934010147, 0.3766497461928934, 0.3725888324873097, 0.37055837563451777, 0.36852791878172586, 0.36954314720812187, 0.37360406091370557, 0.37360406091370557, null, null, null, null, null]]}, {\"marker\": {\"color\": \"black\"}, \"mode\": \"markers\", \"showlegend\": false, \"type\": \"scatter\", \"x\": [8.0, 48.0, 32.0, 52.0, 48.0, 56.0, 48.0, 52.0, 4.0, 4.0, 32.0, 28.0, 20.0, 64.0, 40.0, 20.0, 40.0, 40.0, 20.0, 36.0, 40.0, 28.0, 36.0, 40.0, 36.0, 24.0, 36.0, 12.0, 28.0, 44.0, 60.0, 32.0, 32.0, 32.0, 32.0, 44.0, 24.0, 12.0, 44.0, 48.0, 24.0, 36.0, 32.0, 32.0, 28.0, 32.0, 52.0, 44.0, 28.0, 36.0, 32.0, 32.0, 24.0, 40.0, 32.0, 36.0, 28.0, 40.0, 20.0, 40.0, 48.0, 32.0, 40.0, 36.0, 28.0, 32.0, 40.0, 24.0, 36.0, 44.0, 28.0, 32.0, 32.0, 36.0, 40.0, 40.0, 40.0, 48.0, 44.0, 40.0, 40.0, 44.0, 44.0, 40.0, 36.0, 40.0, 40.0, 36.0, 48.0, 40.0, 40.0, 40.0, 44.0, 40.0, 40.0, 48.0, 44.0, 40.0, 44.0, 36.0], \"xaxis\": \"x2\", \"y\": [3, 5, 8, 3, 5, 6, 9, 6, 6, 7, 10, 10, 10, 9, 9, 9, 10, 8, 8, 8, 7, 8, 8, 8, 7, 8, 7, 10, 9, 5, 8, 9, 9, 10, 10, 3, 10, 10, 4, 7, 9, 8, 9, 9, 10, 10, 9, 9, 10, 6, 9, 9, 9, 8, 9, 10, 10, 8, 9, 7, 7, 6, 8, 9, 7, 10, 8, 9, 7, 10, 8, 9, 9, 8, 8, 7, 7, 7, 6, 7, 7, 6, 7, 7, 6, 7, 7, 6, 7, 7, 5, 7, 7, 7, 7, 7, 7, 7, 8, 6], \"yaxis\": \"y2\"}, {\"type\": \"scatter\", \"xaxis\": \"x5\", \"yaxis\": \"y5\"}, {\"colorbar\": {\"title\": {\"text\": \"Objective Value\"}}, \"colorscale\": [[0, \"rgb(220,220,220)\"], [0.30000000000000004, \"rgb(106,137,247)\"], [0.4, \"rgb(90,120,245)\"], [0.5, \"rgb(70,100,245)\"], [0.65, \"rgb(40,60,190)\"], [1, \"rgb(5,10,172)\"]], \"connectgaps\": true, \"contours\": {\"coloring\": \"heatmap\"}, \"hoverinfo\": \"none\", \"line\": {\"smoothing\": 1.3}, \"showscale\": false, \"type\": \"contour\", \"x\": [4.0, 8.0, 12.0, 20.0, 24.0, 28.0, 32.0, 36.0, 40.0, 44.0, 48.0, 52.0, 56.0, 60.0, 64.0], \"xaxis\": \"x8\", \"y\": [10.0, 70.0, 100.0, 130.0, 160.0, 190.0, 220.0, 250.0, 280.0, 310.0], \"yaxis\": \"y8\", \"z\": [[null, null, null, null, null, null, null, null, null, 0.37360406091370557, 0.3817258883248731, 0.3888324873096447, null, null, null], [null, null, null, 0.3796954314720812, null, null, null, null, 0.3776649746192894, null, 0.3766497461928934, null, 0.3766497461928934, null, null], [null, null, null, null, null, null, null, null, 0.3725888324873097, null, 0.37157360406091366, null, null, null, 0.3776649746192894], [null, 0.3817258883248731, null, null, null, 0.3725888324873097, null, null, 0.37360406091370557, null, null, null, null, null, null], [null, null, null, null, 0.3766497461928934, null, 0.36954314720812187, null, null, 0.3786802030456853, null, 0.3725888324873097, null, null, null], [0.3959390862944162, null, null, null, 0.3725888324873097, 0.37055837563451777, 0.36852791878172586, null, 0.37055837563451777, 0.37157360406091366, null, null, null, null, null], [0.3959390862944162, null, 0.37461928934010147, null, 0.37360406091370557, 0.37157360406091366, 0.36852791878172586, 0.37055837563451777, 0.37055837563451777, 0.3756345177664975, null, 0.3725888324873097, null, null, null], [null, null, null, 0.3766497461928934, null, 0.37055837563451777, 0.36954314720812187, 0.37055837563451777, 0.37360406091370557, null, 0.36954314720812187, null, null, null, null], [null, null, null, 0.3766497461928934, 0.3756345177664975, 0.36954314720812187, 0.36852791878172586, 0.36954314720812187, 0.3725888324873097, null, null, null, null, 0.3766497461928934, null], [null, null, 0.3725888324873097, 0.37461928934010147, null, 0.37157360406091366, 0.36954314720812187, null, 0.36649746192893407, 0.36954314720812187, 0.37055837563451777, null, null, null, null]]}, {\"marker\": {\"color\": \"black\"}, \"mode\": \"markers\", \"showlegend\": false, \"type\": \"scatter\", \"x\": [8.0, 48.0, 32.0, 52.0, 48.0, 56.0, 48.0, 52.0, 4.0, 4.0, 32.0, 28.0, 20.0, 64.0, 40.0, 20.0, 40.0, 40.0, 20.0, 36.0, 40.0, 28.0, 36.0, 40.0, 36.0, 24.0, 36.0, 12.0, 28.0, 44.0, 60.0, 32.0, 32.0, 32.0, 32.0, 44.0, 24.0, 12.0, 44.0, 48.0, 24.0, 36.0, 32.0, 32.0, 28.0, 32.0, 52.0, 44.0, 28.0, 36.0, 32.0, 32.0, 24.0, 40.0, 32.0, 36.0, 28.0, 40.0, 20.0, 40.0, 48.0, 32.0, 40.0, 36.0, 28.0, 32.0, 40.0, 24.0, 36.0, 44.0, 28.0, 32.0, 32.0, 36.0, 40.0, 40.0, 40.0, 48.0, 44.0, 40.0, 40.0, 44.0, 44.0, 40.0, 36.0, 40.0, 40.0, 36.0, 48.0, 40.0, 40.0, 40.0, 44.0, 40.0, 40.0, 48.0, 44.0, 40.0, 44.0, 36.0], \"xaxis\": \"x8\", \"y\": [130.0, 10.0, 190.0, 10.0, 70.0, 70.0, 100.0, 160.0, 220.0, 190.0, 310.0, 310.0, 280.0, 100.0, 250.0, 70.0, 130.0, 310.0, 310.0, 280.0, 250.0, 310.0, 280.0, 280.0, 250.0, 280.0, 220.0, 310.0, 310.0, 220.0, 280.0, 280.0, 250.0, 250.0, 190.0, 160.0, 190.0, 220.0, 190.0, 250.0, 160.0, 280.0, 250.0, 220.0, 220.0, 190.0, 220.0, 190.0, 130.0, 250.0, 190.0, 250.0, 220.0, 250.0, 160.0, 280.0, 190.0, 220.0, 250.0, 310.0, 310.0, 250.0, 190.0, 280.0, 250.0, 220.0, 310.0, 190.0, 220.0, 10.0, 280.0, 280.0, 310.0, 250.0, 310.0, 310.0, 310.0, 310.0, 310.0, 310.0, 310.0, 310.0, 310.0, 310.0, 280.0, 310.0, 100.0, 280.0, 310.0, 310.0, 310.0, 310.0, 310.0, 280.0, 310.0, 310.0, 310.0, 70.0, 310.0, 280.0], \"yaxis\": \"y8\"}, {\"colorbar\": {\"title\": {\"text\": \"Objective Value\"}}, \"colorscale\": [[0, \"rgb(220,220,220)\"], [0.30000000000000004, \"rgb(106,137,247)\"], [0.4, \"rgb(90,120,245)\"], [0.5, \"rgb(70,100,245)\"], [0.65, \"rgb(40,60,190)\"], [1, \"rgb(5,10,172)\"]], \"connectgaps\": true, \"contours\": {\"coloring\": \"heatmap\"}, \"hoverinfo\": \"none\", \"line\": {\"smoothing\": 1.3}, \"showscale\": false, \"type\": \"contour\", \"x\": [10.0, 70.0, 100.0, 130.0, 160.0, 190.0, 220.0, 250.0, 280.0, 310.0], \"xaxis\": \"x3\", \"y\": [3, 4, 5, 6, 7, 8, 9, 10], \"yaxis\": \"y3\", \"z\": [[0.3888324873096447, null, null, 0.3817258883248731, 0.3786802030456853, null, null, null, null, null], [null, null, null, null, null, 0.3756345177664975, null, null, null, null], [0.3817258883248731, 0.3766497461928934, null, null, null, null, 0.3756345177664975, null, null, 0.3756345177664975], [null, 0.3766497461928934, null, null, 0.3725888324873097, null, 0.3959390862944162, 0.36954314720812187, 0.36954314720812187, 0.36852791878172586], [null, 0.3776649746192894, 0.3725888324873097, null, null, 0.3959390862944162, 0.37055837563451777, 0.37055837563451777, 0.3725888324873097, 0.36954314720812187], [null, null, null, null, null, 0.37055837563451777, 0.37055837563451777, 0.37055837563451777, 0.36954314720812187, 0.36954314720812187], [null, 0.3796954314720812, 0.3776649746192894, null, 0.36954314720812187, 0.3725888324873097, 0.37360406091370557, 0.3766497461928934, 0.36852791878172586, 0.36954314720812187], [0.37360406091370557, null, null, 0.3725888324873097, null, 0.37055837563451777, 0.36852791878172586, 0.36751269035532996, 0.36954314720812187, 0.3725888324873097]]}, {\"marker\": {\"color\": \"black\"}, \"mode\": \"markers\", \"showlegend\": false, \"type\": \"scatter\", \"x\": [130.0, 10.0, 190.0, 10.0, 70.0, 70.0, 100.0, 160.0, 220.0, 190.0, 310.0, 310.0, 280.0, 100.0, 250.0, 70.0, 130.0, 310.0, 310.0, 280.0, 250.0, 310.0, 280.0, 280.0, 250.0, 280.0, 220.0, 310.0, 310.0, 220.0, 280.0, 280.0, 250.0, 250.0, 190.0, 160.0, 190.0, 220.0, 190.0, 250.0, 160.0, 280.0, 250.0, 220.0, 220.0, 190.0, 220.0, 190.0, 130.0, 250.0, 190.0, 250.0, 220.0, 250.0, 160.0, 280.0, 190.0, 220.0, 250.0, 310.0, 310.0, 250.0, 190.0, 280.0, 250.0, 220.0, 310.0, 190.0, 220.0, 10.0, 280.0, 280.0, 310.0, 250.0, 310.0, 310.0, 310.0, 310.0, 310.0, 310.0, 310.0, 310.0, 310.0, 310.0, 280.0, 310.0, 100.0, 280.0, 310.0, 310.0, 310.0, 310.0, 310.0, 280.0, 310.0, 310.0, 310.0, 70.0, 310.0, 280.0], \"xaxis\": \"x3\", \"y\": [3, 5, 8, 3, 5, 6, 9, 6, 6, 7, 10, 10, 10, 9, 9, 9, 10, 8, 8, 8, 7, 8, 8, 8, 7, 8, 7, 10, 9, 5, 8, 9, 9, 10, 10, 3, 10, 10, 4, 7, 9, 8, 9, 9, 10, 10, 9, 9, 10, 6, 9, 9, 9, 8, 9, 10, 10, 8, 9, 7, 7, 6, 8, 9, 7, 10, 8, 9, 7, 10, 8, 9, 9, 8, 8, 7, 7, 7, 6, 7, 7, 6, 7, 7, 6, 7, 7, 6, 7, 7, 5, 7, 7, 7, 7, 7, 7, 7, 8, 6], \"yaxis\": \"y3\"}, {\"colorbar\": {\"title\": {\"text\": \"Objective Value\"}}, \"colorscale\": [[0, \"rgb(220,220,220)\"], [0.30000000000000004, \"rgb(106,137,247)\"], [0.4, \"rgb(90,120,245)\"], [0.5, \"rgb(70,100,245)\"], [0.65, \"rgb(40,60,190)\"], [1, \"rgb(5,10,172)\"]], \"connectgaps\": true, \"contours\": {\"coloring\": \"heatmap\"}, \"hoverinfo\": \"none\", \"line\": {\"smoothing\": 1.3}, \"showscale\": false, \"type\": \"contour\", \"x\": [10.0, 70.0, 100.0, 130.0, 160.0, 190.0, 220.0, 250.0, 280.0, 310.0], \"xaxis\": \"x6\", \"y\": [4.0, 8.0, 12.0, 20.0, 24.0, 28.0, 32.0, 36.0, 40.0, 44.0, 48.0, 52.0, 56.0, 60.0, 64.0], \"yaxis\": \"y6\", \"z\": [[null, null, null, null, null, 0.3959390862944162, 0.3959390862944162, null, null, null], [null, null, null, 0.3817258883248731, null, null, null, null, null, null], [null, null, null, null, null, null, 0.37461928934010147, null, null, 0.3725888324873097], [null, 0.3796954314720812, null, null, null, null, null, 0.3766497461928934, 0.3766497461928934, 0.37461928934010147], [null, null, null, null, 0.3766497461928934, 0.3725888324873097, 0.37360406091370557, null, 0.3756345177664975, null], [null, null, null, 0.3725888324873097, null, 0.37055837563451777, 0.37157360406091366, 0.37055837563451777, 0.36954314720812187, 0.37157360406091366], [null, null, null, null, 0.36954314720812187, 0.36852791878172586, 0.36852791878172586, 0.36954314720812187, 0.36852791878172586, 0.36954314720812187], [null, null, null, null, null, null, 0.37055837563451777, 0.37055837563451777, 0.36954314720812187, null], [null, 0.3776649746192894, 0.3725888324873097, 0.37360406091370557, null, 0.37055837563451777, 0.37055837563451777, 0.37360406091370557, 0.3725888324873097, 0.36649746192893407], [0.37360406091370557, null, null, null, 0.3786802030456853, 0.37157360406091366, 0.3756345177664975, null, null, 0.36954314720812187], [0.3817258883248731, 0.3766497461928934, 0.37157360406091366, null, null, null, null, 0.36954314720812187, null, 0.37055837563451777], [0.3888324873096447, null, null, null, 0.3725888324873097, null, 0.3725888324873097, null, null, null], [null, 0.3766497461928934, null, null, null, null, null, null, null, null], [null, null, null, null, null, null, null, null, 0.3766497461928934, null], [null, null, 0.3776649746192894, null, null, null, null, null, null, null]]}, {\"marker\": {\"color\": \"black\"}, \"mode\": \"markers\", \"showlegend\": false, \"type\": \"scatter\", \"x\": [130.0, 10.0, 190.0, 10.0, 70.0, 70.0, 100.0, 160.0, 220.0, 190.0, 310.0, 310.0, 280.0, 100.0, 250.0, 70.0, 130.0, 310.0, 310.0, 280.0, 250.0, 310.0, 280.0, 280.0, 250.0, 280.0, 220.0, 310.0, 310.0, 220.0, 280.0, 280.0, 250.0, 250.0, 190.0, 160.0, 190.0, 220.0, 190.0, 250.0, 160.0, 280.0, 250.0, 220.0, 220.0, 190.0, 220.0, 190.0, 130.0, 250.0, 190.0, 250.0, 220.0, 250.0, 160.0, 280.0, 190.0, 220.0, 250.0, 310.0, 310.0, 250.0, 190.0, 280.0, 250.0, 220.0, 310.0, 190.0, 220.0, 10.0, 280.0, 280.0, 310.0, 250.0, 310.0, 310.0, 310.0, 310.0, 310.0, 310.0, 310.0, 310.0, 310.0, 310.0, 280.0, 310.0, 100.0, 280.0, 310.0, 310.0, 310.0, 310.0, 310.0, 280.0, 310.0, 310.0, 310.0, 70.0, 310.0, 280.0], \"xaxis\": \"x6\", \"y\": [8.0, 48.0, 32.0, 52.0, 48.0, 56.0, 48.0, 52.0, 4.0, 4.0, 32.0, 28.0, 20.0, 64.0, 40.0, 20.0, 40.0, 40.0, 20.0, 36.0, 40.0, 28.0, 36.0, 40.0, 36.0, 24.0, 36.0, 12.0, 28.0, 44.0, 60.0, 32.0, 32.0, 32.0, 32.0, 44.0, 24.0, 12.0, 44.0, 48.0, 24.0, 36.0, 32.0, 32.0, 28.0, 32.0, 52.0, 44.0, 28.0, 36.0, 32.0, 32.0, 24.0, 40.0, 32.0, 36.0, 28.0, 40.0, 20.0, 40.0, 48.0, 32.0, 40.0, 36.0, 28.0, 32.0, 40.0, 24.0, 36.0, 44.0, 28.0, 32.0, 32.0, 36.0, 40.0, 40.0, 40.0, 48.0, 44.0, 40.0, 40.0, 44.0, 44.0, 40.0, 36.0, 40.0, 40.0, 36.0, 48.0, 40.0, 40.0, 40.0, 44.0, 40.0, 40.0, 48.0, 44.0, 40.0, 44.0, 36.0], \"yaxis\": \"y6\"}, {\"type\": \"scatter\", \"xaxis\": \"x9\", \"yaxis\": \"y9\"}],\n",
       "                        {\"template\": {\"data\": {\"bar\": [{\"error_x\": {\"color\": \"#2a3f5f\"}, \"error_y\": {\"color\": \"#2a3f5f\"}, \"marker\": {\"line\": {\"color\": \"#E5ECF6\", \"width\": 0.5}}, \"type\": \"bar\"}], \"barpolar\": [{\"marker\": {\"line\": {\"color\": \"#E5ECF6\", \"width\": 0.5}}, \"type\": \"barpolar\"}], \"carpet\": [{\"aaxis\": {\"endlinecolor\": \"#2a3f5f\", \"gridcolor\": \"white\", \"linecolor\": \"white\", \"minorgridcolor\": \"white\", \"startlinecolor\": \"#2a3f5f\"}, \"baxis\": {\"endlinecolor\": \"#2a3f5f\", \"gridcolor\": \"white\", \"linecolor\": \"white\", \"minorgridcolor\": \"white\", \"startlinecolor\": \"#2a3f5f\"}, \"type\": \"carpet\"}], \"choropleth\": [{\"colorbar\": {\"outlinewidth\": 0, \"ticks\": \"\"}, \"type\": \"choropleth\"}], \"contour\": [{\"colorbar\": {\"outlinewidth\": 0, \"ticks\": \"\"}, \"colorscale\": [[0.0, \"#0d0887\"], [0.1111111111111111, \"#46039f\"], [0.2222222222222222, \"#7201a8\"], [0.3333333333333333, \"#9c179e\"], [0.4444444444444444, \"#bd3786\"], [0.5555555555555556, \"#d8576b\"], [0.6666666666666666, \"#ed7953\"], [0.7777777777777778, \"#fb9f3a\"], [0.8888888888888888, \"#fdca26\"], [1.0, \"#f0f921\"]], \"type\": \"contour\"}], \"contourcarpet\": [{\"colorbar\": {\"outlinewidth\": 0, \"ticks\": \"\"}, \"type\": \"contourcarpet\"}], \"heatmap\": [{\"colorbar\": {\"outlinewidth\": 0, \"ticks\": \"\"}, \"colorscale\": [[0.0, \"#0d0887\"], [0.1111111111111111, \"#46039f\"], [0.2222222222222222, \"#7201a8\"], [0.3333333333333333, \"#9c179e\"], [0.4444444444444444, \"#bd3786\"], [0.5555555555555556, \"#d8576b\"], [0.6666666666666666, \"#ed7953\"], [0.7777777777777778, \"#fb9f3a\"], [0.8888888888888888, \"#fdca26\"], [1.0, \"#f0f921\"]], \"type\": \"heatmap\"}], \"heatmapgl\": [{\"colorbar\": {\"outlinewidth\": 0, \"ticks\": \"\"}, \"colorscale\": [[0.0, \"#0d0887\"], [0.1111111111111111, \"#46039f\"], [0.2222222222222222, \"#7201a8\"], [0.3333333333333333, \"#9c179e\"], [0.4444444444444444, \"#bd3786\"], [0.5555555555555556, \"#d8576b\"], [0.6666666666666666, \"#ed7953\"], [0.7777777777777778, \"#fb9f3a\"], [0.8888888888888888, \"#fdca26\"], [1.0, \"#f0f921\"]], \"type\": \"heatmapgl\"}], \"histogram\": [{\"marker\": {\"colorbar\": {\"outlinewidth\": 0, \"ticks\": \"\"}}, \"type\": \"histogram\"}], \"histogram2d\": [{\"colorbar\": {\"outlinewidth\": 0, \"ticks\": \"\"}, \"colorscale\": [[0.0, \"#0d0887\"], [0.1111111111111111, \"#46039f\"], [0.2222222222222222, \"#7201a8\"], [0.3333333333333333, \"#9c179e\"], [0.4444444444444444, \"#bd3786\"], [0.5555555555555556, \"#d8576b\"], [0.6666666666666666, \"#ed7953\"], [0.7777777777777778, \"#fb9f3a\"], [0.8888888888888888, \"#fdca26\"], [1.0, \"#f0f921\"]], \"type\": \"histogram2d\"}], \"histogram2dcontour\": [{\"colorbar\": {\"outlinewidth\": 0, \"ticks\": \"\"}, \"colorscale\": [[0.0, \"#0d0887\"], [0.1111111111111111, \"#46039f\"], [0.2222222222222222, \"#7201a8\"], [0.3333333333333333, \"#9c179e\"], [0.4444444444444444, \"#bd3786\"], [0.5555555555555556, \"#d8576b\"], [0.6666666666666666, \"#ed7953\"], [0.7777777777777778, \"#fb9f3a\"], [0.8888888888888888, \"#fdca26\"], [1.0, \"#f0f921\"]], \"type\": \"histogram2dcontour\"}], \"mesh3d\": [{\"colorbar\": {\"outlinewidth\": 0, \"ticks\": \"\"}, \"type\": \"mesh3d\"}], \"parcoords\": [{\"line\": {\"colorbar\": {\"outlinewidth\": 0, \"ticks\": \"\"}}, \"type\": \"parcoords\"}], \"pie\": [{\"automargin\": true, \"type\": \"pie\"}], \"scatter\": [{\"marker\": {\"colorbar\": {\"outlinewidth\": 0, \"ticks\": \"\"}}, \"type\": \"scatter\"}], \"scatter3d\": [{\"line\": {\"colorbar\": {\"outlinewidth\": 0, \"ticks\": \"\"}}, \"marker\": {\"colorbar\": {\"outlinewidth\": 0, \"ticks\": \"\"}}, \"type\": \"scatter3d\"}], \"scattercarpet\": [{\"marker\": {\"colorbar\": {\"outlinewidth\": 0, \"ticks\": \"\"}}, \"type\": \"scattercarpet\"}], \"scattergeo\": [{\"marker\": {\"colorbar\": {\"outlinewidth\": 0, \"ticks\": \"\"}}, \"type\": \"scattergeo\"}], \"scattergl\": [{\"marker\": {\"colorbar\": {\"outlinewidth\": 0, \"ticks\": \"\"}}, \"type\": \"scattergl\"}], \"scattermapbox\": [{\"marker\": {\"colorbar\": {\"outlinewidth\": 0, \"ticks\": \"\"}}, \"type\": \"scattermapbox\"}], \"scatterpolar\": [{\"marker\": {\"colorbar\": {\"outlinewidth\": 0, \"ticks\": \"\"}}, \"type\": \"scatterpolar\"}], \"scatterpolargl\": [{\"marker\": {\"colorbar\": {\"outlinewidth\": 0, \"ticks\": \"\"}}, \"type\": \"scatterpolargl\"}], \"scatterternary\": [{\"marker\": {\"colorbar\": {\"outlinewidth\": 0, \"ticks\": \"\"}}, \"type\": \"scatterternary\"}], \"surface\": [{\"colorbar\": {\"outlinewidth\": 0, \"ticks\": \"\"}, \"colorscale\": [[0.0, \"#0d0887\"], [0.1111111111111111, \"#46039f\"], [0.2222222222222222, \"#7201a8\"], [0.3333333333333333, \"#9c179e\"], [0.4444444444444444, \"#bd3786\"], [0.5555555555555556, \"#d8576b\"], [0.6666666666666666, \"#ed7953\"], [0.7777777777777778, \"#fb9f3a\"], [0.8888888888888888, \"#fdca26\"], [1.0, \"#f0f921\"]], \"type\": \"surface\"}], \"table\": [{\"cells\": {\"fill\": {\"color\": \"#EBF0F8\"}, \"line\": {\"color\": \"white\"}}, \"header\": {\"fill\": {\"color\": \"#C8D4E3\"}, \"line\": {\"color\": \"white\"}}, \"type\": \"table\"}]}, \"layout\": {\"annotationdefaults\": {\"arrowcolor\": \"#2a3f5f\", \"arrowhead\": 0, \"arrowwidth\": 1}, \"coloraxis\": {\"colorbar\": {\"outlinewidth\": 0, \"ticks\": \"\"}}, \"colorscale\": {\"diverging\": [[0, \"#8e0152\"], [0.1, \"#c51b7d\"], [0.2, \"#de77ae\"], [0.3, \"#f1b6da\"], [0.4, \"#fde0ef\"], [0.5, \"#f7f7f7\"], [0.6, \"#e6f5d0\"], [0.7, \"#b8e186\"], [0.8, \"#7fbc41\"], [0.9, \"#4d9221\"], [1, \"#276419\"]], \"sequential\": [[0.0, \"#0d0887\"], [0.1111111111111111, \"#46039f\"], [0.2222222222222222, \"#7201a8\"], [0.3333333333333333, \"#9c179e\"], [0.4444444444444444, \"#bd3786\"], [0.5555555555555556, \"#d8576b\"], [0.6666666666666666, \"#ed7953\"], [0.7777777777777778, \"#fb9f3a\"], [0.8888888888888888, \"#fdca26\"], [1.0, \"#f0f921\"]], \"sequentialminus\": [[0.0, \"#0d0887\"], [0.1111111111111111, \"#46039f\"], [0.2222222222222222, \"#7201a8\"], [0.3333333333333333, \"#9c179e\"], [0.4444444444444444, \"#bd3786\"], [0.5555555555555556, \"#d8576b\"], [0.6666666666666666, \"#ed7953\"], [0.7777777777777778, \"#fb9f3a\"], [0.8888888888888888, \"#fdca26\"], [1.0, \"#f0f921\"]]}, \"colorway\": [\"#636efa\", \"#EF553B\", \"#00cc96\", \"#ab63fa\", \"#FFA15A\", \"#19d3f3\", \"#FF6692\", \"#B6E880\", \"#FF97FF\", \"#FECB52\"], \"font\": {\"color\": \"#2a3f5f\"}, \"geo\": {\"bgcolor\": \"white\", \"lakecolor\": \"white\", \"landcolor\": \"#E5ECF6\", \"showlakes\": true, \"showland\": true, \"subunitcolor\": \"white\"}, \"hoverlabel\": {\"align\": \"left\"}, \"hovermode\": \"closest\", \"mapbox\": {\"style\": \"light\"}, \"paper_bgcolor\": \"white\", \"plot_bgcolor\": \"#E5ECF6\", \"polar\": {\"angularaxis\": {\"gridcolor\": \"white\", \"linecolor\": \"white\", \"ticks\": \"\"}, \"bgcolor\": \"#E5ECF6\", \"radialaxis\": {\"gridcolor\": \"white\", \"linecolor\": \"white\", \"ticks\": \"\"}}, \"scene\": {\"xaxis\": {\"backgroundcolor\": \"#E5ECF6\", \"gridcolor\": \"white\", \"gridwidth\": 2, \"linecolor\": \"white\", \"showbackground\": true, \"ticks\": \"\", \"zerolinecolor\": \"white\"}, \"yaxis\": {\"backgroundcolor\": \"#E5ECF6\", \"gridcolor\": \"white\", \"gridwidth\": 2, \"linecolor\": \"white\", \"showbackground\": true, \"ticks\": \"\", \"zerolinecolor\": \"white\"}, \"zaxis\": {\"backgroundcolor\": \"#E5ECF6\", \"gridcolor\": \"white\", \"gridwidth\": 2, \"linecolor\": \"white\", \"showbackground\": true, \"ticks\": \"\", \"zerolinecolor\": \"white\"}}, \"shapedefaults\": {\"line\": {\"color\": \"#2a3f5f\"}}, \"ternary\": {\"aaxis\": {\"gridcolor\": \"white\", \"linecolor\": \"white\", \"ticks\": \"\"}, \"baxis\": {\"gridcolor\": \"white\", \"linecolor\": \"white\", \"ticks\": \"\"}, \"bgcolor\": \"#E5ECF6\", \"caxis\": {\"gridcolor\": \"white\", \"linecolor\": \"white\", \"ticks\": \"\"}}, \"title\": {\"x\": 0.05}, \"xaxis\": {\"automargin\": true, \"gridcolor\": \"white\", \"linecolor\": \"white\", \"ticks\": \"\", \"title\": {\"standoff\": 15}, \"zerolinecolor\": \"white\", \"zerolinewidth\": 2}, \"yaxis\": {\"automargin\": true, \"gridcolor\": \"white\", \"linecolor\": \"white\", \"ticks\": \"\", \"title\": {\"standoff\": 15}, \"zerolinecolor\": \"white\", \"zerolinewidth\": 2}}}, \"title\": {\"text\": \"Contour Plot\"}, \"xaxis\": {\"anchor\": \"y\", \"domain\": [0.0, 0.2888888888888889], \"matches\": \"x7\", \"range\": [3, 10], \"showticklabels\": false}, \"xaxis2\": {\"anchor\": \"y2\", \"domain\": [0.35555555555555557, 0.6444444444444445], \"matches\": \"x8\", \"range\": [4.0, 64.0], \"showticklabels\": false}, \"xaxis3\": {\"anchor\": \"y3\", \"domain\": [0.7111111111111111, 1.0], \"matches\": \"x9\", \"range\": [10.0, 310.0], \"showticklabels\": false}, \"xaxis4\": {\"anchor\": \"y4\", \"domain\": [0.0, 0.2888888888888889], \"matches\": \"x7\", \"range\": [3, 10], \"showticklabels\": false}, \"xaxis5\": {\"anchor\": \"y5\", \"domain\": [0.35555555555555557, 0.6444444444444445], \"matches\": \"x8\", \"range\": [4.0, 64.0], \"showticklabels\": false}, \"xaxis6\": {\"anchor\": \"y6\", \"domain\": [0.7111111111111111, 1.0], \"matches\": \"x9\", \"range\": [10.0, 310.0], \"showticklabels\": false}, \"xaxis7\": {\"anchor\": \"y7\", \"domain\": [0.0, 0.2888888888888889], \"range\": [3, 10], \"title\": {\"text\": \"max_depth\"}}, \"xaxis8\": {\"anchor\": \"y8\", \"domain\": [0.35555555555555557, 0.6444444444444445], \"range\": [4.0, 64.0], \"title\": {\"text\": \"max_leaf_nodes\"}}, \"xaxis9\": {\"anchor\": \"y9\", \"domain\": [0.7111111111111111, 1.0], \"range\": [10.0, 310.0], \"title\": {\"text\": \"n_estimators\"}}, \"yaxis\": {\"anchor\": \"x\", \"domain\": [0.7333333333333333, 1.0], \"range\": [3, 10], \"title\": {\"text\": \"max_depth\"}}, \"yaxis2\": {\"anchor\": \"x2\", \"domain\": [0.7333333333333333, 1.0], \"matches\": \"y\", \"range\": [3, 10], \"showticklabels\": false}, \"yaxis3\": {\"anchor\": \"x3\", \"domain\": [0.7333333333333333, 1.0], \"matches\": \"y\", \"range\": [3, 10], \"showticklabels\": false}, \"yaxis4\": {\"anchor\": \"x4\", \"domain\": [0.36666666666666664, 0.6333333333333333], \"range\": [4.0, 64.0], \"title\": {\"text\": \"max_leaf_nodes\"}}, \"yaxis5\": {\"anchor\": \"x5\", \"domain\": [0.36666666666666664, 0.6333333333333333], \"matches\": \"y4\", \"range\": [4.0, 64.0], \"showticklabels\": false}, \"yaxis6\": {\"anchor\": \"x6\", \"domain\": [0.36666666666666664, 0.6333333333333333], \"matches\": \"y4\", \"range\": [4.0, 64.0], \"showticklabels\": false}, \"yaxis7\": {\"anchor\": \"x7\", \"domain\": [0.0, 0.26666666666666666], \"range\": [10.0, 310.0], \"title\": {\"text\": \"n_estimators\"}}, \"yaxis8\": {\"anchor\": \"x8\", \"domain\": [0.0, 0.26666666666666666], \"matches\": \"y7\", \"range\": [10.0, 310.0], \"showticklabels\": false}, \"yaxis9\": {\"anchor\": \"x9\", \"domain\": [0.0, 0.26666666666666666], \"matches\": \"y7\", \"range\": [10.0, 310.0], \"showticklabels\": false}},\n",
       "                        {\"responsive\": true}\n",
       "                    ).then(function(){\n",
       "                            \n",
       "var gd = document.getElementById('4c5b78a7-b659-4683-95d0-011afd8a49a2');\n",
       "var x = new MutationObserver(function (mutations, observer) {{\n",
       "        var display = window.getComputedStyle(gd).display;\n",
       "        if (!display || display === 'none') {{\n",
       "            console.log([gd, 'removed!']);\n",
       "            Plotly.purge(gd);\n",
       "            observer.disconnect();\n",
       "        }}\n",
       "}});\n",
       "\n",
       "// Listen for the removal of the full notebook cells\n",
       "var notebookContainer = gd.closest('#notebook-container');\n",
       "if (notebookContainer) {{\n",
       "    x.observe(notebookContainer, {childList: true});\n",
       "}}\n",
       "\n",
       "// Listen for the clearing of the current output cell\n",
       "var outputEl = gd.closest('.output');\n",
       "if (outputEl) {{\n",
       "    x.observe(outputEl, {childList: true});\n",
       "}}\n",
       "\n",
       "                        })\n",
       "                };\n",
       "                });\n",
       "            </script>\n",
       "        </div>"
      ]
     },
     "metadata": {},
     "output_type": "display_data"
    }
   ],
   "source": [
    "import pandas as pd\n",
    "df = pd.read_csv(\"USD_JPY.csv\")\n",
    "\n",
    "# 特徴量の作成\n",
    "import talib as ta\n",
    "import numpy as np\n",
    "import plotly\n",
    "\n",
    "# 全ての計算で終値を使う\n",
    "close = np.array(df[\"終値\"])\n",
    "\n",
    "# 特徴量を入れるための空のdataframeを作成\n",
    "df_feature = pd.DataFrame(index=range(len(df)),\n",
    "                          columns=[\"SMA5/current\", \"SMA20/current\", \"RSI\", \"MACD\", \"BBANDS+2σ\", \"BBANDS-2σ\"])\n",
    "\n",
    "# 以下、talibを用いてテクニカル指標（今回の学習で用いる特徴量）を算出しdf_feature入れる\n",
    "\n",
    "# 単純移動平均は、単純移動平均値とその日の終値の比を特徴量として用いる\n",
    "df_feature[\"SMA5/current\"] = ta.SMA(close, timeperiod=5) / close\n",
    "df_feature[\"SMA20/current\"] = ta.SMA(close, timeperiod=20) / close\n",
    "\n",
    "# RSI\n",
    "df_feature[\"RSI\"] = ta.RSI(close, timeperiod=14)\n",
    "\n",
    "# MACD\n",
    "df_feature[\"MACD\"], _, _ = ta.MACD(close, fastperiod=12, slowperiod=26, signalperiod=9)\n",
    "\n",
    "# ボリンジャーバンド\n",
    "upper, middle, lower = ta.BBANDS(close, timeperiod=20, nbdevup=3, nbdevdn=3)\n",
    "df_feature[\"BBANDS+2σ\"] = upper / close\n",
    "df_feature[\"BBANDS-2σ\"] = lower / close\n",
    "\n",
    "df[\"前日比_float\"] = df[\"前日比%\"].apply(lambda x: float(x.replace(\"%\", \"\")))\n",
    "\n",
    "\n",
    "# 前日比%の分類の仕方。できるだけ各クラスのサンプルが等しいようにわける\n",
    "def classify_1(x):\n",
    "    if x <= -0.2:\n",
    "        return 0\n",
    "    elif -0.2 < x < 0.2:\n",
    "        return 1\n",
    "    elif 0.2 <= x:\n",
    "        return 2\n",
    "\n",
    "\n",
    "def classify_2(x):\n",
    "    if x <= -0.40:\n",
    "        return 1\n",
    "    elif -0.4 < x <= -0.10:\n",
    "        return 2\n",
    "    elif -0.10 < x <= 0.10:\n",
    "        return 3\n",
    "    elif 0.10 < x <= 0.4:\n",
    "        return 4\n",
    "    elif 0.4 < x:\n",
    "        return 5\n",
    "\n",
    "\n",
    "def classify_3(x):\n",
    "    if x <= 0:\n",
    "        return 0\n",
    "    else:\n",
    "        return 1\n",
    "\n",
    "\n",
    "df[\"前日比_classified\"] = df[\"前日比_float\"].apply(lambda x: classify_1(x))\n",
    "\n",
    "df_y = df[\"前日比_classified\"].shift()\n",
    "\n",
    "df_xy = pd.concat([df_feature, df_y], axis=1)\n",
    "df_xy = df_xy.dropna(how=\"any\")\n",
    "\n",
    "from sklearn.model_selection import train_test_split\n",
    "from sklearn.ensemble import RandomForestClassifier\n",
    "from sklearn.metrics import accuracy_score\n",
    "import optuna\n",
    "\n",
    "X_train, X_test, Y_train, Y_test = train_test_split(df_xy[[\"SMA5/current\", \"SMA20/current\",\"RSI\",\"MACD\",\"BBANDS+2σ\",\"BBANDS-2σ\"]],df_xy[\"前日比_classified\"], train_size=0.8)\n",
    "\n",
    "def objective(trial):\n",
    "    min_samples_split = trial.suggest_int(\"min_samples_split\", 2,16)\n",
    "    max_leaf_nodes = int(trial.suggest_discrete_uniform(\"max_leaf_nodes\", 4,64,4))\n",
    "    criterion = trial.suggest_categorical(\"criterion\", [\"gini\", \"entropy\"])\n",
    "    n_estimators = int(trial.suggest_discrete_uniform(\"n_estimators\", 10,310,30))\n",
    "    max_depth = trial.suggest_int(\"max_depth\", 3,10)\n",
    "    clf = RandomForestClassifier(random_state=1, n_estimators = n_estimators, max_leaf_nodes = max_leaf_nodes, max_depth=max_depth, max_features=None,criterion=criterion,min_samples_split=min_samples_split)\n",
    "    clf.fit(X_train, Y_train)\n",
    "    return 1 - accuracy_score(Y_test, clf.predict(X_test))\n",
    "\n",
    "study = optuna.create_study()\n",
    "study.optimize(objective, n_trials=100)\n",
    "\n",
    "optuna.visualization.plot_contour(study,params=[\"n_estimators\", \"max_depth\",\"max_leaf_nodes\"])\n"
   ]
  },
  {
   "cell_type": "code",
   "execution_count": 22,
   "metadata": {},
   "outputs": [
    {
     "data": {
      "application/vnd.plotly.v1+json": {
       "config": {
        "plotlyServerURL": "https://plot.ly"
       },
       "data": [
        {
         "type": "scatter",
         "xaxis": "x",
         "yaxis": "y"
        },
        {
         "colorbar": {
          "title": {
           "text": "Objective Value"
          }
         },
         "colorscale": [
          [
           0,
           "rgb(220,220,220)"
          ],
          [
           0.30000000000000004,
           "rgb(106,137,247)"
          ],
          [
           0.4,
           "rgb(90,120,245)"
          ],
          [
           0.5,
           "rgb(70,100,245)"
          ],
          [
           0.65,
           "rgb(40,60,190)"
          ],
          [
           1,
           "rgb(5,10,172)"
          ]
         ],
         "connectgaps": true,
         "contours": {
          "coloring": "heatmap"
         },
         "hoverinfo": "none",
         "line": {
          "smoothing": 1.3
         },
         "showscale": true,
         "type": "contour",
         "x": [
          3,
          4,
          5,
          6,
          7,
          8,
          9,
          10
         ],
         "xaxis": "x4",
         "y": [
          2,
          3,
          4,
          5,
          6,
          7,
          8,
          9,
          10,
          11,
          12,
          13,
          14,
          15,
          16
         ],
         "yaxis": "y4",
         "z": [
          [
           null,
           null,
           null,
           null,
           null,
           0.37055837563451777,
           null,
           null
          ],
          [
           null,
           null,
           0.3817258883248731,
           0.3725888324873097,
           null,
           null,
           null,
           null
          ],
          [
           0.3817258883248731,
           null,
           null,
           null,
           0.36954314720812187,
           0.3725888324873097,
           null,
           null
          ],
          [
           0.3888324873096447,
           null,
           null,
           0.37461928934010147,
           0.37055837563451777,
           null,
           null,
           null
          ],
          [
           null,
           null,
           null,
           0.3766497461928934,
           0.3776649746192894,
           null,
           null,
           null
          ],
          [
           null,
           null,
           0.3756345177664975,
           0.36954314720812187,
           0.36954314720812187,
           null,
           null,
           null
          ],
          [
           null,
           null,
           null,
           0.36954314720812187,
           0.3725888324873097,
           null,
           0.3796954314720812,
           null
          ],
          [
           null,
           0.3756345177664975,
           null,
           0.3959390862944162,
           null,
           0.36954314720812187,
           0.37157360406091366,
           null
          ],
          [
           0.3786802030456853,
           null,
           null,
           0.37461928934010147,
           null,
           0.36954314720812187,
           0.37157360406091366,
           0.37461928934010147
          ],
          [
           null,
           null,
           null,
           null,
           null,
           null,
           0.3766497461928934,
           0.36852791878172586
          ],
          [
           null,
           null,
           null,
           null,
           0.37055837563451777,
           null,
           0.36954314720812187,
           0.3725888324873097
          ],
          [
           null,
           null,
           null,
           0.36954314720812187,
           null,
           null,
           0.37360406091370557,
           0.36852791878172586
          ],
          [
           null,
           null,
           null,
           null,
           0.3959390862944162,
           0.36852791878172586,
           0.36954314720812187,
           0.37055837563451777
          ],
          [
           null,
           null,
           0.3766497461928934,
           null,
           0.37055837563451777,
           0.37055837563451777,
           0.36751269035532996,
           0.37360406091370557
          ],
          [
           null,
           null,
           null,
           0.36954314720812187,
           0.36954314720812187,
           0.36751269035532996,
           0.36852791878172586,
           null
          ]
         ]
        },
        {
         "marker": {
          "color": "black"
         },
         "mode": "markers",
         "showlegend": false,
         "type": "scatter",
         "x": [
          3,
          5,
          8,
          3,
          5,
          6,
          9,
          6,
          6,
          7,
          10,
          10,
          10,
          9,
          9,
          9,
          10,
          8,
          8,
          8,
          7,
          8,
          8,
          8,
          7,
          8,
          7,
          10,
          9,
          5,
          8,
          9,
          9,
          10,
          10,
          3,
          10,
          10,
          4,
          7,
          9,
          8,
          9,
          9,
          10,
          10,
          9,
          9,
          10,
          6,
          9,
          9,
          9,
          8,
          9,
          10,
          10,
          8,
          9,
          7,
          7,
          6,
          8,
          9,
          7,
          10,
          8,
          9,
          7,
          10,
          8,
          9,
          9,
          8,
          8,
          7,
          7,
          7,
          6,
          7,
          7,
          6,
          7,
          7,
          6,
          7,
          7,
          6,
          7,
          7,
          5,
          7,
          7,
          7,
          7,
          7,
          7,
          7,
          8,
          6
         ],
         "xaxis": "x4",
         "y": [
          4,
          3,
          4,
          5,
          15,
          6,
          10,
          3,
          9,
          14,
          11,
          11,
          12,
          8,
          11,
          8,
          13,
          16,
          14,
          16,
          16,
          16,
          16,
          16,
          15,
          14,
          16,
          12,
          13,
          7,
          15,
          15,
          13,
          12,
          10,
          10,
          12,
          10,
          9,
          6,
          14,
          15,
          13,
          13,
          11,
          11,
          12,
          9,
          13,
          10,
          14,
          15,
          13,
          15,
          12,
          15,
          14,
          2,
          11,
          16,
          8,
          13,
          14,
          16,
          12,
          13,
          14,
          16,
          15,
          15,
          10,
          16,
          14,
          15,
          16,
          16,
          16,
          16,
          16,
          8,
          8,
          7,
          8,
          7,
          7,
          6,
          6,
          5,
          5,
          7,
          7,
          7,
          7,
          8,
          6,
          6,
          4,
          6,
          9,
          8
         ],
         "yaxis": "y4"
        },
        {
         "colorbar": {
          "title": {
           "text": "Objective Value"
          }
         },
         "colorscale": [
          [
           0,
           "rgb(220,220,220)"
          ],
          [
           0.30000000000000004,
           "rgb(106,137,247)"
          ],
          [
           0.4,
           "rgb(90,120,245)"
          ],
          [
           0.5,
           "rgb(70,100,245)"
          ],
          [
           0.65,
           "rgb(40,60,190)"
          ],
          [
           1,
           "rgb(5,10,172)"
          ]
         ],
         "connectgaps": true,
         "contours": {
          "coloring": "heatmap"
         },
         "hoverinfo": "none",
         "line": {
          "smoothing": 1.3
         },
         "showscale": false,
         "type": "contour",
         "x": [
          3,
          4,
          5,
          6,
          7,
          8,
          9,
          10
         ],
         "xaxis": "x7",
         "y": [
          10,
          70,
          100,
          130,
          160,
          190,
          220,
          250,
          280,
          310
         ],
         "yaxis": "y7",
         "z": [
          [
           0.3888324873096447,
           null,
           0.3817258883248731,
           null,
           null,
           null,
           null,
           0.37360406091370557
          ],
          [
           null,
           null,
           0.3766497461928934,
           0.3766497461928934,
           0.3776649746192894,
           null,
           0.3796954314720812,
           null
          ],
          [
           null,
           null,
           null,
           null,
           0.3725888324873097,
           null,
           0.3776649746192894,
           null
          ],
          [
           0.3817258883248731,
           null,
           null,
           null,
           null,
           null,
           null,
           0.3725888324873097
          ],
          [
           0.3786802030456853,
           null,
           null,
           0.3725888324873097,
           null,
           null,
           0.36954314720812187,
           null
          ],
          [
           null,
           0.3756345177664975,
           null,
           null,
           0.3959390862944162,
           0.37055837563451777,
           0.3725888324873097,
           0.37055837563451777
          ],
          [
           null,
           null,
           0.3756345177664975,
           0.3959390862944162,
           0.37055837563451777,
           0.37055837563451777,
           0.37360406091370557,
           0.36852791878172586
          ],
          [
           null,
           null,
           null,
           0.36954314720812187,
           0.37055837563451777,
           0.37055837563451777,
           0.3766497461928934,
           0.36751269035532996
          ],
          [
           null,
           null,
           null,
           0.36954314720812187,
           0.3725888324873097,
           0.36954314720812187,
           0.36852791878172586,
           0.36954314720812187
          ],
          [
           null,
           null,
           0.3756345177664975,
           0.36852791878172586,
           0.36954314720812187,
           0.36954314720812187,
           0.36954314720812187,
           0.3725888324873097
          ]
         ]
        },
        {
         "marker": {
          "color": "black"
         },
         "mode": "markers",
         "showlegend": false,
         "type": "scatter",
         "x": [
          3,
          5,
          8,
          3,
          5,
          6,
          9,
          6,
          6,
          7,
          10,
          10,
          10,
          9,
          9,
          9,
          10,
          8,
          8,
          8,
          7,
          8,
          8,
          8,
          7,
          8,
          7,
          10,
          9,
          5,
          8,
          9,
          9,
          10,
          10,
          3,
          10,
          10,
          4,
          7,
          9,
          8,
          9,
          9,
          10,
          10,
          9,
          9,
          10,
          6,
          9,
          9,
          9,
          8,
          9,
          10,
          10,
          8,
          9,
          7,
          7,
          6,
          8,
          9,
          7,
          10,
          8,
          9,
          7,
          10,
          8,
          9,
          9,
          8,
          8,
          7,
          7,
          7,
          6,
          7,
          7,
          6,
          7,
          7,
          6,
          7,
          7,
          6,
          7,
          7,
          5,
          7,
          7,
          7,
          7,
          7,
          7,
          7,
          8,
          6
         ],
         "xaxis": "x7",
         "y": [
          130,
          10,
          190,
          10,
          70,
          70,
          100,
          160,
          220,
          190,
          310,
          310,
          280,
          100,
          250,
          70,
          130,
          310,
          310,
          280,
          250,
          310,
          280,
          280,
          250,
          280,
          220,
          310,
          310,
          220,
          280,
          280,
          250,
          250,
          190,
          160,
          190,
          220,
          190,
          250,
          160,
          280,
          250,
          220,
          220,
          190,
          220,
          190,
          130,
          250,
          190,
          250,
          220,
          250,
          160,
          280,
          190,
          220,
          250,
          310,
          310,
          250,
          190,
          280,
          250,
          220,
          310,
          190,
          220,
          10,
          280,
          280,
          310,
          250,
          310,
          310,
          310,
          310,
          310,
          310,
          310,
          310,
          310,
          310,
          280,
          310,
          100,
          280,
          310,
          310,
          310,
          310,
          310,
          280,
          310,
          310,
          310,
          70,
          310,
          280
         ],
         "yaxis": "y7"
        },
        {
         "colorbar": {
          "title": {
           "text": "Objective Value"
          }
         },
         "colorscale": [
          [
           0,
           "rgb(220,220,220)"
          ],
          [
           0.30000000000000004,
           "rgb(106,137,247)"
          ],
          [
           0.4,
           "rgb(90,120,245)"
          ],
          [
           0.5,
           "rgb(70,100,245)"
          ],
          [
           0.65,
           "rgb(40,60,190)"
          ],
          [
           1,
           "rgb(5,10,172)"
          ]
         ],
         "connectgaps": true,
         "contours": {
          "coloring": "heatmap"
         },
         "hoverinfo": "none",
         "line": {
          "smoothing": 1.3
         },
         "showscale": false,
         "type": "contour",
         "x": [
          2,
          3,
          4,
          5,
          6,
          7,
          8,
          9,
          10,
          11,
          12,
          13,
          14,
          15,
          16
         ],
         "xaxis": "x2",
         "y": [
          3,
          4,
          5,
          6,
          7,
          8,
          9,
          10
         ],
         "yaxis": "y2",
         "z": [
          [
           null,
           null,
           0.3817258883248731,
           0.3888324873096447,
           null,
           null,
           null,
           null,
           0.3786802030456853,
           null,
           null,
           null,
           null,
           null,
           null
          ],
          [
           null,
           null,
           null,
           null,
           null,
           null,
           null,
           0.3756345177664975,
           null,
           null,
           null,
           null,
           null,
           null,
           null
          ],
          [
           null,
           0.3817258883248731,
           null,
           null,
           null,
           0.3756345177664975,
           null,
           null,
           null,
           null,
           null,
           null,
           null,
           0.3766497461928934,
           null
          ],
          [
           null,
           0.3725888324873097,
           null,
           0.37461928934010147,
           0.3766497461928934,
           0.36954314720812187,
           0.36954314720812187,
           0.3959390862944162,
           0.37461928934010147,
           null,
           null,
           0.36954314720812187,
           null,
           null,
           0.36954314720812187
          ],
          [
           null,
           null,
           0.36954314720812187,
           0.37055837563451777,
           0.3776649746192894,
           0.36954314720812187,
           0.3725888324873097,
           null,
           null,
           null,
           0.37055837563451777,
           null,
           0.3959390862944162,
           0.37055837563451777,
           0.36954314720812187
          ],
          [
           0.37055837563451777,
           null,
           0.3725888324873097,
           null,
           null,
           null,
           null,
           0.36954314720812187,
           0.36954314720812187,
           null,
           null,
           null,
           0.36852791878172586,
           0.37055837563451777,
           0.36751269035532996
          ],
          [
           null,
           null,
           null,
           null,
           null,
           null,
           0.3796954314720812,
           0.37157360406091366,
           0.37157360406091366,
           0.3766497461928934,
           0.36954314720812187,
           0.37360406091370557,
           0.36954314720812187,
           0.36751269035532996,
           0.36852791878172586
          ],
          [
           null,
           null,
           null,
           null,
           null,
           null,
           null,
           null,
           0.37461928934010147,
           0.36852791878172586,
           0.3725888324873097,
           0.36852791878172586,
           0.37055837563451777,
           0.37360406091370557,
           null
          ]
         ]
        },
        {
         "marker": {
          "color": "black"
         },
         "mode": "markers",
         "showlegend": false,
         "type": "scatter",
         "x": [
          4,
          3,
          4,
          5,
          15,
          6,
          10,
          3,
          9,
          14,
          11,
          11,
          12,
          8,
          11,
          8,
          13,
          16,
          14,
          16,
          16,
          16,
          16,
          16,
          15,
          14,
          16,
          12,
          13,
          7,
          15,
          15,
          13,
          12,
          10,
          10,
          12,
          10,
          9,
          6,
          14,
          15,
          13,
          13,
          11,
          11,
          12,
          9,
          13,
          10,
          14,
          15,
          13,
          15,
          12,
          15,
          14,
          2,
          11,
          16,
          8,
          13,
          14,
          16,
          12,
          13,
          14,
          16,
          15,
          15,
          10,
          16,
          14,
          15,
          16,
          16,
          16,
          16,
          16,
          8,
          8,
          7,
          8,
          7,
          7,
          6,
          6,
          5,
          5,
          7,
          7,
          7,
          7,
          8,
          6,
          6,
          4,
          6,
          9,
          8
         ],
         "xaxis": "x2",
         "y": [
          3,
          5,
          8,
          3,
          5,
          6,
          9,
          6,
          6,
          7,
          10,
          10,
          10,
          9,
          9,
          9,
          10,
          8,
          8,
          8,
          7,
          8,
          8,
          8,
          7,
          8,
          7,
          10,
          9,
          5,
          8,
          9,
          9,
          10,
          10,
          3,
          10,
          10,
          4,
          7,
          9,
          8,
          9,
          9,
          10,
          10,
          9,
          9,
          10,
          6,
          9,
          9,
          9,
          8,
          9,
          10,
          10,
          8,
          9,
          7,
          7,
          6,
          8,
          9,
          7,
          10,
          8,
          9,
          7,
          10,
          8,
          9,
          9,
          8,
          8,
          7,
          7,
          7,
          6,
          7,
          7,
          6,
          7,
          7,
          6,
          7,
          7,
          6,
          7,
          7,
          5,
          7,
          7,
          7,
          7,
          7,
          7,
          7,
          8,
          6
         ],
         "yaxis": "y2"
        },
        {
         "type": "scatter",
         "xaxis": "x5",
         "yaxis": "y5"
        },
        {
         "colorbar": {
          "title": {
           "text": "Objective Value"
          }
         },
         "colorscale": [
          [
           0,
           "rgb(220,220,220)"
          ],
          [
           0.30000000000000004,
           "rgb(106,137,247)"
          ],
          [
           0.4,
           "rgb(90,120,245)"
          ],
          [
           0.5,
           "rgb(70,100,245)"
          ],
          [
           0.65,
           "rgb(40,60,190)"
          ],
          [
           1,
           "rgb(5,10,172)"
          ]
         ],
         "connectgaps": true,
         "contours": {
          "coloring": "heatmap"
         },
         "hoverinfo": "none",
         "line": {
          "smoothing": 1.3
         },
         "showscale": false,
         "type": "contour",
         "x": [
          2,
          3,
          4,
          5,
          6,
          7,
          8,
          9,
          10,
          11,
          12,
          13,
          14,
          15,
          16
         ],
         "xaxis": "x8",
         "y": [
          10,
          70,
          100,
          130,
          160,
          190,
          220,
          250,
          280,
          310
         ],
         "yaxis": "y8",
         "z": [
          [
           null,
           0.3817258883248731,
           null,
           0.3888324873096447,
           null,
           null,
           null,
           null,
           null,
           null,
           null,
           null,
           null,
           0.37360406091370557,
           null
          ],
          [
           null,
           null,
           null,
           null,
           0.3776649746192894,
           null,
           0.3796954314720812,
           null,
           null,
           null,
           null,
           null,
           null,
           0.3766497461928934,
           null
          ],
          [
           null,
           null,
           null,
           null,
           0.3725888324873097,
           null,
           0.3776649746192894,
           null,
           0.37157360406091366,
           null,
           null,
           null,
           null,
           null,
           null
          ],
          [
           null,
           null,
           0.3817258883248731,
           null,
           null,
           null,
           null,
           null,
           null,
           null,
           null,
           0.3725888324873097,
           null,
           null,
           null
          ],
          [
           null,
           0.3725888324873097,
           null,
           null,
           null,
           null,
           null,
           null,
           0.3786802030456853,
           null,
           0.36954314720812187,
           null,
           0.3766497461928934,
           null,
           null
          ],
          [
           null,
           null,
           0.3725888324873097,
           null,
           null,
           null,
           null,
           0.37157360406091366,
           0.36751269035532996,
           0.36852791878172586,
           0.3725888324873097,
           null,
           0.37055837563451777,
           null,
           0.3725888324873097
          ],
          [
           0.37055837563451777,
           null,
           null,
           null,
           null,
           0.3756345177664975,
           null,
           0.3959390862944162,
           0.37461928934010147,
           0.37157360406091366,
           0.3725888324873097,
           0.36852791878172586,
           null,
           0.37055837563451777,
           0.37055837563451777
          ],
          [
           null,
           null,
           null,
           null,
           0.36954314720812187,
           null,
           null,
           null,
           0.37461928934010147,
           0.3766497461928934,
           0.37055837563451777,
           0.36954314720812187,
           null,
           0.37055837563451777,
           0.36954314720812187
          ],
          [
           null,
           null,
           null,
           0.37461928934010147,
           null,
           0.36954314720812187,
           0.36954314720812187,
           null,
           0.36954314720812187,
           null,
           0.3766497461928934,
           null,
           0.3756345177664975,
           0.36954314720812187,
           0.36852791878172586
          ],
          [
           null,
           null,
           0.36954314720812187,
           0.37055837563451777,
           0.37055837563451777,
           0.36954314720812187,
           0.36954314720812187,
           0.36954314720812187,
           null,
           0.37157360406091366,
           0.3725888324873097,
           0.37157360406091366,
           0.36954314720812187,
           null,
           0.36954314720812187
          ]
         ]
        },
        {
         "marker": {
          "color": "black"
         },
         "mode": "markers",
         "showlegend": false,
         "type": "scatter",
         "x": [
          4,
          3,
          4,
          5,
          15,
          6,
          10,
          3,
          9,
          14,
          11,
          11,
          12,
          8,
          11,
          8,
          13,
          16,
          14,
          16,
          16,
          16,
          16,
          16,
          15,
          14,
          16,
          12,
          13,
          7,
          15,
          15,
          13,
          12,
          10,
          10,
          12,
          10,
          9,
          6,
          14,
          15,
          13,
          13,
          11,
          11,
          12,
          9,
          13,
          10,
          14,
          15,
          13,
          15,
          12,
          15,
          14,
          2,
          11,
          16,
          8,
          13,
          14,
          16,
          12,
          13,
          14,
          16,
          15,
          15,
          10,
          16,
          14,
          15,
          16,
          16,
          16,
          16,
          16,
          8,
          8,
          7,
          8,
          7,
          7,
          6,
          6,
          5,
          5,
          7,
          7,
          7,
          7,
          8,
          6,
          6,
          4,
          6,
          9,
          8
         ],
         "xaxis": "x8",
         "y": [
          130,
          10,
          190,
          10,
          70,
          70,
          100,
          160,
          220,
          190,
          310,
          310,
          280,
          100,
          250,
          70,
          130,
          310,
          310,
          280,
          250,
          310,
          280,
          280,
          250,
          280,
          220,
          310,
          310,
          220,
          280,
          280,
          250,
          250,
          190,
          160,
          190,
          220,
          190,
          250,
          160,
          280,
          250,
          220,
          220,
          190,
          220,
          190,
          130,
          250,
          190,
          250,
          220,
          250,
          160,
          280,
          190,
          220,
          250,
          310,
          310,
          250,
          190,
          280,
          250,
          220,
          310,
          190,
          220,
          10,
          280,
          280,
          310,
          250,
          310,
          310,
          310,
          310,
          310,
          310,
          310,
          310,
          310,
          310,
          280,
          310,
          100,
          280,
          310,
          310,
          310,
          310,
          310,
          280,
          310,
          310,
          310,
          70,
          310,
          280
         ],
         "yaxis": "y8"
        },
        {
         "colorbar": {
          "title": {
           "text": "Objective Value"
          }
         },
         "colorscale": [
          [
           0,
           "rgb(220,220,220)"
          ],
          [
           0.30000000000000004,
           "rgb(106,137,247)"
          ],
          [
           0.4,
           "rgb(90,120,245)"
          ],
          [
           0.5,
           "rgb(70,100,245)"
          ],
          [
           0.65,
           "rgb(40,60,190)"
          ],
          [
           1,
           "rgb(5,10,172)"
          ]
         ],
         "connectgaps": true,
         "contours": {
          "coloring": "heatmap"
         },
         "hoverinfo": "none",
         "line": {
          "smoothing": 1.3
         },
         "showscale": false,
         "type": "contour",
         "x": [
          10,
          70,
          100,
          130,
          160,
          190,
          220,
          250,
          280,
          310
         ],
         "xaxis": "x3",
         "y": [
          3,
          4,
          5,
          6,
          7,
          8,
          9,
          10
         ],
         "yaxis": "y3",
         "z": [
          [
           0.3888324873096447,
           null,
           null,
           0.3817258883248731,
           0.3786802030456853,
           null,
           null,
           null,
           null,
           null
          ],
          [
           null,
           null,
           null,
           null,
           null,
           0.3756345177664975,
           null,
           null,
           null,
           null
          ],
          [
           0.3817258883248731,
           0.3766497461928934,
           null,
           null,
           null,
           null,
           0.3756345177664975,
           null,
           null,
           0.3756345177664975
          ],
          [
           null,
           0.3766497461928934,
           null,
           null,
           0.3725888324873097,
           null,
           0.3959390862944162,
           0.36954314720812187,
           0.36954314720812187,
           0.36852791878172586
          ],
          [
           null,
           0.3776649746192894,
           0.3725888324873097,
           null,
           null,
           0.3959390862944162,
           0.37055837563451777,
           0.37055837563451777,
           0.3725888324873097,
           0.36954314720812187
          ],
          [
           null,
           null,
           null,
           null,
           null,
           0.37055837563451777,
           0.37055837563451777,
           0.37055837563451777,
           0.36954314720812187,
           0.36954314720812187
          ],
          [
           null,
           0.3796954314720812,
           0.3776649746192894,
           null,
           0.36954314720812187,
           0.3725888324873097,
           0.37360406091370557,
           0.3766497461928934,
           0.36852791878172586,
           0.36954314720812187
          ],
          [
           0.37360406091370557,
           null,
           null,
           0.3725888324873097,
           null,
           0.37055837563451777,
           0.36852791878172586,
           0.36751269035532996,
           0.36954314720812187,
           0.3725888324873097
          ]
         ]
        },
        {
         "marker": {
          "color": "black"
         },
         "mode": "markers",
         "showlegend": false,
         "type": "scatter",
         "x": [
          130,
          10,
          190,
          10,
          70,
          70,
          100,
          160,
          220,
          190,
          310,
          310,
          280,
          100,
          250,
          70,
          130,
          310,
          310,
          280,
          250,
          310,
          280,
          280,
          250,
          280,
          220,
          310,
          310,
          220,
          280,
          280,
          250,
          250,
          190,
          160,
          190,
          220,
          190,
          250,
          160,
          280,
          250,
          220,
          220,
          190,
          220,
          190,
          130,
          250,
          190,
          250,
          220,
          250,
          160,
          280,
          190,
          220,
          250,
          310,
          310,
          250,
          190,
          280,
          250,
          220,
          310,
          190,
          220,
          10,
          280,
          280,
          310,
          250,
          310,
          310,
          310,
          310,
          310,
          310,
          310,
          310,
          310,
          310,
          280,
          310,
          100,
          280,
          310,
          310,
          310,
          310,
          310,
          280,
          310,
          310,
          310,
          70,
          310,
          280
         ],
         "xaxis": "x3",
         "y": [
          3,
          5,
          8,
          3,
          5,
          6,
          9,
          6,
          6,
          7,
          10,
          10,
          10,
          9,
          9,
          9,
          10,
          8,
          8,
          8,
          7,
          8,
          8,
          8,
          7,
          8,
          7,
          10,
          9,
          5,
          8,
          9,
          9,
          10,
          10,
          3,
          10,
          10,
          4,
          7,
          9,
          8,
          9,
          9,
          10,
          10,
          9,
          9,
          10,
          6,
          9,
          9,
          9,
          8,
          9,
          10,
          10,
          8,
          9,
          7,
          7,
          6,
          8,
          9,
          7,
          10,
          8,
          9,
          7,
          10,
          8,
          9,
          9,
          8,
          8,
          7,
          7,
          7,
          6,
          7,
          7,
          6,
          7,
          7,
          6,
          7,
          7,
          6,
          7,
          7,
          5,
          7,
          7,
          7,
          7,
          7,
          7,
          7,
          8,
          6
         ],
         "yaxis": "y3"
        },
        {
         "colorbar": {
          "title": {
           "text": "Objective Value"
          }
         },
         "colorscale": [
          [
           0,
           "rgb(220,220,220)"
          ],
          [
           0.30000000000000004,
           "rgb(106,137,247)"
          ],
          [
           0.4,
           "rgb(90,120,245)"
          ],
          [
           0.5,
           "rgb(70,100,245)"
          ],
          [
           0.65,
           "rgb(40,60,190)"
          ],
          [
           1,
           "rgb(5,10,172)"
          ]
         ],
         "connectgaps": true,
         "contours": {
          "coloring": "heatmap"
         },
         "hoverinfo": "none",
         "line": {
          "smoothing": 1.3
         },
         "showscale": false,
         "type": "contour",
         "x": [
          10,
          70,
          100,
          130,
          160,
          190,
          220,
          250,
          280,
          310
         ],
         "xaxis": "x6",
         "y": [
          2,
          3,
          4,
          5,
          6,
          7,
          8,
          9,
          10,
          11,
          12,
          13,
          14,
          15,
          16
         ],
         "yaxis": "y6",
         "z": [
          [
           null,
           null,
           null,
           null,
           null,
           null,
           0.37055837563451777,
           null,
           null,
           null
          ],
          [
           0.3817258883248731,
           null,
           null,
           null,
           0.3725888324873097,
           null,
           null,
           null,
           null,
           null
          ],
          [
           null,
           null,
           null,
           0.3817258883248731,
           null,
           0.3725888324873097,
           null,
           null,
           null,
           0.36954314720812187
          ],
          [
           0.3888324873096447,
           null,
           null,
           null,
           null,
           null,
           null,
           null,
           0.37461928934010147,
           0.37055837563451777
          ],
          [
           null,
           0.3776649746192894,
           0.3725888324873097,
           null,
           null,
           null,
           null,
           0.36954314720812187,
           null,
           0.37055837563451777
          ],
          [
           null,
           null,
           null,
           null,
           null,
           null,
           0.3756345177664975,
           null,
           0.36954314720812187,
           0.36954314720812187
          ],
          [
           null,
           0.3796954314720812,
           0.3776649746192894,
           null,
           null,
           null,
           null,
           null,
           0.36954314720812187,
           0.36954314720812187
          ],
          [
           null,
           null,
           null,
           null,
           null,
           0.37157360406091366,
           0.3959390862944162,
           null,
           null,
           0.36954314720812187
          ],
          [
           null,
           null,
           0.37157360406091366,
           null,
           0.3786802030456853,
           0.36751269035532996,
           0.37461928934010147,
           0.37461928934010147,
           0.36954314720812187,
           null
          ],
          [
           null,
           null,
           null,
           null,
           null,
           0.36852791878172586,
           0.37157360406091366,
           0.3766497461928934,
           null,
           0.37157360406091366
          ],
          [
           null,
           null,
           null,
           null,
           0.36954314720812187,
           0.3725888324873097,
           0.3725888324873097,
           0.37055837563451777,
           0.3766497461928934,
           0.3725888324873097
          ],
          [
           null,
           null,
           null,
           0.3725888324873097,
           null,
           null,
           0.36852791878172586,
           0.36954314720812187,
           null,
           0.37157360406091366
          ],
          [
           null,
           null,
           null,
           null,
           0.3766497461928934,
           0.37055837563451777,
           null,
           null,
           0.3756345177664975,
           0.36954314720812187
          ],
          [
           0.37360406091370557,
           0.3766497461928934,
           null,
           null,
           null,
           null,
           0.37055837563451777,
           0.37055837563451777,
           0.36954314720812187,
           null
          ],
          [
           null,
           null,
           null,
           null,
           null,
           0.3725888324873097,
           0.37055837563451777,
           0.36954314720812187,
           0.36852791878172586,
           0.36954314720812187
          ]
         ]
        },
        {
         "marker": {
          "color": "black"
         },
         "mode": "markers",
         "showlegend": false,
         "type": "scatter",
         "x": [
          130,
          10,
          190,
          10,
          70,
          70,
          100,
          160,
          220,
          190,
          310,
          310,
          280,
          100,
          250,
          70,
          130,
          310,
          310,
          280,
          250,
          310,
          280,
          280,
          250,
          280,
          220,
          310,
          310,
          220,
          280,
          280,
          250,
          250,
          190,
          160,
          190,
          220,
          190,
          250,
          160,
          280,
          250,
          220,
          220,
          190,
          220,
          190,
          130,
          250,
          190,
          250,
          220,
          250,
          160,
          280,
          190,
          220,
          250,
          310,
          310,
          250,
          190,
          280,
          250,
          220,
          310,
          190,
          220,
          10,
          280,
          280,
          310,
          250,
          310,
          310,
          310,
          310,
          310,
          310,
          310,
          310,
          310,
          310,
          280,
          310,
          100,
          280,
          310,
          310,
          310,
          310,
          310,
          280,
          310,
          310,
          310,
          70,
          310,
          280
         ],
         "xaxis": "x6",
         "y": [
          4,
          3,
          4,
          5,
          15,
          6,
          10,
          3,
          9,
          14,
          11,
          11,
          12,
          8,
          11,
          8,
          13,
          16,
          14,
          16,
          16,
          16,
          16,
          16,
          15,
          14,
          16,
          12,
          13,
          7,
          15,
          15,
          13,
          12,
          10,
          10,
          12,
          10,
          9,
          6,
          14,
          15,
          13,
          13,
          11,
          11,
          12,
          9,
          13,
          10,
          14,
          15,
          13,
          15,
          12,
          15,
          14,
          2,
          11,
          16,
          8,
          13,
          14,
          16,
          12,
          13,
          14,
          16,
          15,
          15,
          10,
          16,
          14,
          15,
          16,
          16,
          16,
          16,
          16,
          8,
          8,
          7,
          8,
          7,
          7,
          6,
          6,
          5,
          5,
          7,
          7,
          7,
          7,
          8,
          6,
          6,
          4,
          6,
          9,
          8
         ],
         "yaxis": "y6"
        },
        {
         "type": "scatter",
         "xaxis": "x9",
         "yaxis": "y9"
        }
       ],
       "layout": {
        "template": {
         "data": {
          "bar": [
           {
            "error_x": {
             "color": "#2a3f5f"
            },
            "error_y": {
             "color": "#2a3f5f"
            },
            "marker": {
             "line": {
              "color": "#E5ECF6",
              "width": 0.5
             }
            },
            "type": "bar"
           }
          ],
          "barpolar": [
           {
            "marker": {
             "line": {
              "color": "#E5ECF6",
              "width": 0.5
             }
            },
            "type": "barpolar"
           }
          ],
          "carpet": [
           {
            "aaxis": {
             "endlinecolor": "#2a3f5f",
             "gridcolor": "white",
             "linecolor": "white",
             "minorgridcolor": "white",
             "startlinecolor": "#2a3f5f"
            },
            "baxis": {
             "endlinecolor": "#2a3f5f",
             "gridcolor": "white",
             "linecolor": "white",
             "minorgridcolor": "white",
             "startlinecolor": "#2a3f5f"
            },
            "type": "carpet"
           }
          ],
          "choropleth": [
           {
            "colorbar": {
             "outlinewidth": 0,
             "ticks": ""
            },
            "type": "choropleth"
           }
          ],
          "contour": [
           {
            "colorbar": {
             "outlinewidth": 0,
             "ticks": ""
            },
            "colorscale": [
             [
              0,
              "#0d0887"
             ],
             [
              0.1111111111111111,
              "#46039f"
             ],
             [
              0.2222222222222222,
              "#7201a8"
             ],
             [
              0.3333333333333333,
              "#9c179e"
             ],
             [
              0.4444444444444444,
              "#bd3786"
             ],
             [
              0.5555555555555556,
              "#d8576b"
             ],
             [
              0.6666666666666666,
              "#ed7953"
             ],
             [
              0.7777777777777778,
              "#fb9f3a"
             ],
             [
              0.8888888888888888,
              "#fdca26"
             ],
             [
              1,
              "#f0f921"
             ]
            ],
            "type": "contour"
           }
          ],
          "contourcarpet": [
           {
            "colorbar": {
             "outlinewidth": 0,
             "ticks": ""
            },
            "type": "contourcarpet"
           }
          ],
          "heatmap": [
           {
            "colorbar": {
             "outlinewidth": 0,
             "ticks": ""
            },
            "colorscale": [
             [
              0,
              "#0d0887"
             ],
             [
              0.1111111111111111,
              "#46039f"
             ],
             [
              0.2222222222222222,
              "#7201a8"
             ],
             [
              0.3333333333333333,
              "#9c179e"
             ],
             [
              0.4444444444444444,
              "#bd3786"
             ],
             [
              0.5555555555555556,
              "#d8576b"
             ],
             [
              0.6666666666666666,
              "#ed7953"
             ],
             [
              0.7777777777777778,
              "#fb9f3a"
             ],
             [
              0.8888888888888888,
              "#fdca26"
             ],
             [
              1,
              "#f0f921"
             ]
            ],
            "type": "heatmap"
           }
          ],
          "heatmapgl": [
           {
            "colorbar": {
             "outlinewidth": 0,
             "ticks": ""
            },
            "colorscale": [
             [
              0,
              "#0d0887"
             ],
             [
              0.1111111111111111,
              "#46039f"
             ],
             [
              0.2222222222222222,
              "#7201a8"
             ],
             [
              0.3333333333333333,
              "#9c179e"
             ],
             [
              0.4444444444444444,
              "#bd3786"
             ],
             [
              0.5555555555555556,
              "#d8576b"
             ],
             [
              0.6666666666666666,
              "#ed7953"
             ],
             [
              0.7777777777777778,
              "#fb9f3a"
             ],
             [
              0.8888888888888888,
              "#fdca26"
             ],
             [
              1,
              "#f0f921"
             ]
            ],
            "type": "heatmapgl"
           }
          ],
          "histogram": [
           {
            "marker": {
             "colorbar": {
              "outlinewidth": 0,
              "ticks": ""
             }
            },
            "type": "histogram"
           }
          ],
          "histogram2d": [
           {
            "colorbar": {
             "outlinewidth": 0,
             "ticks": ""
            },
            "colorscale": [
             [
              0,
              "#0d0887"
             ],
             [
              0.1111111111111111,
              "#46039f"
             ],
             [
              0.2222222222222222,
              "#7201a8"
             ],
             [
              0.3333333333333333,
              "#9c179e"
             ],
             [
              0.4444444444444444,
              "#bd3786"
             ],
             [
              0.5555555555555556,
              "#d8576b"
             ],
             [
              0.6666666666666666,
              "#ed7953"
             ],
             [
              0.7777777777777778,
              "#fb9f3a"
             ],
             [
              0.8888888888888888,
              "#fdca26"
             ],
             [
              1,
              "#f0f921"
             ]
            ],
            "type": "histogram2d"
           }
          ],
          "histogram2dcontour": [
           {
            "colorbar": {
             "outlinewidth": 0,
             "ticks": ""
            },
            "colorscale": [
             [
              0,
              "#0d0887"
             ],
             [
              0.1111111111111111,
              "#46039f"
             ],
             [
              0.2222222222222222,
              "#7201a8"
             ],
             [
              0.3333333333333333,
              "#9c179e"
             ],
             [
              0.4444444444444444,
              "#bd3786"
             ],
             [
              0.5555555555555556,
              "#d8576b"
             ],
             [
              0.6666666666666666,
              "#ed7953"
             ],
             [
              0.7777777777777778,
              "#fb9f3a"
             ],
             [
              0.8888888888888888,
              "#fdca26"
             ],
             [
              1,
              "#f0f921"
             ]
            ],
            "type": "histogram2dcontour"
           }
          ],
          "mesh3d": [
           {
            "colorbar": {
             "outlinewidth": 0,
             "ticks": ""
            },
            "type": "mesh3d"
           }
          ],
          "parcoords": [
           {
            "line": {
             "colorbar": {
              "outlinewidth": 0,
              "ticks": ""
             }
            },
            "type": "parcoords"
           }
          ],
          "pie": [
           {
            "automargin": true,
            "type": "pie"
           }
          ],
          "scatter": [
           {
            "marker": {
             "colorbar": {
              "outlinewidth": 0,
              "ticks": ""
             }
            },
            "type": "scatter"
           }
          ],
          "scatter3d": [
           {
            "line": {
             "colorbar": {
              "outlinewidth": 0,
              "ticks": ""
             }
            },
            "marker": {
             "colorbar": {
              "outlinewidth": 0,
              "ticks": ""
             }
            },
            "type": "scatter3d"
           }
          ],
          "scattercarpet": [
           {
            "marker": {
             "colorbar": {
              "outlinewidth": 0,
              "ticks": ""
             }
            },
            "type": "scattercarpet"
           }
          ],
          "scattergeo": [
           {
            "marker": {
             "colorbar": {
              "outlinewidth": 0,
              "ticks": ""
             }
            },
            "type": "scattergeo"
           }
          ],
          "scattergl": [
           {
            "marker": {
             "colorbar": {
              "outlinewidth": 0,
              "ticks": ""
             }
            },
            "type": "scattergl"
           }
          ],
          "scattermapbox": [
           {
            "marker": {
             "colorbar": {
              "outlinewidth": 0,
              "ticks": ""
             }
            },
            "type": "scattermapbox"
           }
          ],
          "scatterpolar": [
           {
            "marker": {
             "colorbar": {
              "outlinewidth": 0,
              "ticks": ""
             }
            },
            "type": "scatterpolar"
           }
          ],
          "scatterpolargl": [
           {
            "marker": {
             "colorbar": {
              "outlinewidth": 0,
              "ticks": ""
             }
            },
            "type": "scatterpolargl"
           }
          ],
          "scatterternary": [
           {
            "marker": {
             "colorbar": {
              "outlinewidth": 0,
              "ticks": ""
             }
            },
            "type": "scatterternary"
           }
          ],
          "surface": [
           {
            "colorbar": {
             "outlinewidth": 0,
             "ticks": ""
            },
            "colorscale": [
             [
              0,
              "#0d0887"
             ],
             [
              0.1111111111111111,
              "#46039f"
             ],
             [
              0.2222222222222222,
              "#7201a8"
             ],
             [
              0.3333333333333333,
              "#9c179e"
             ],
             [
              0.4444444444444444,
              "#bd3786"
             ],
             [
              0.5555555555555556,
              "#d8576b"
             ],
             [
              0.6666666666666666,
              "#ed7953"
             ],
             [
              0.7777777777777778,
              "#fb9f3a"
             ],
             [
              0.8888888888888888,
              "#fdca26"
             ],
             [
              1,
              "#f0f921"
             ]
            ],
            "type": "surface"
           }
          ],
          "table": [
           {
            "cells": {
             "fill": {
              "color": "#EBF0F8"
             },
             "line": {
              "color": "white"
             }
            },
            "header": {
             "fill": {
              "color": "#C8D4E3"
             },
             "line": {
              "color": "white"
             }
            },
            "type": "table"
           }
          ]
         },
         "layout": {
          "annotationdefaults": {
           "arrowcolor": "#2a3f5f",
           "arrowhead": 0,
           "arrowwidth": 1
          },
          "coloraxis": {
           "colorbar": {
            "outlinewidth": 0,
            "ticks": ""
           }
          },
          "colorscale": {
           "diverging": [
            [
             0,
             "#8e0152"
            ],
            [
             0.1,
             "#c51b7d"
            ],
            [
             0.2,
             "#de77ae"
            ],
            [
             0.3,
             "#f1b6da"
            ],
            [
             0.4,
             "#fde0ef"
            ],
            [
             0.5,
             "#f7f7f7"
            ],
            [
             0.6,
             "#e6f5d0"
            ],
            [
             0.7,
             "#b8e186"
            ],
            [
             0.8,
             "#7fbc41"
            ],
            [
             0.9,
             "#4d9221"
            ],
            [
             1,
             "#276419"
            ]
           ],
           "sequential": [
            [
             0,
             "#0d0887"
            ],
            [
             0.1111111111111111,
             "#46039f"
            ],
            [
             0.2222222222222222,
             "#7201a8"
            ],
            [
             0.3333333333333333,
             "#9c179e"
            ],
            [
             0.4444444444444444,
             "#bd3786"
            ],
            [
             0.5555555555555556,
             "#d8576b"
            ],
            [
             0.6666666666666666,
             "#ed7953"
            ],
            [
             0.7777777777777778,
             "#fb9f3a"
            ],
            [
             0.8888888888888888,
             "#fdca26"
            ],
            [
             1,
             "#f0f921"
            ]
           ],
           "sequentialminus": [
            [
             0,
             "#0d0887"
            ],
            [
             0.1111111111111111,
             "#46039f"
            ],
            [
             0.2222222222222222,
             "#7201a8"
            ],
            [
             0.3333333333333333,
             "#9c179e"
            ],
            [
             0.4444444444444444,
             "#bd3786"
            ],
            [
             0.5555555555555556,
             "#d8576b"
            ],
            [
             0.6666666666666666,
             "#ed7953"
            ],
            [
             0.7777777777777778,
             "#fb9f3a"
            ],
            [
             0.8888888888888888,
             "#fdca26"
            ],
            [
             1,
             "#f0f921"
            ]
           ]
          },
          "colorway": [
           "#636efa",
           "#EF553B",
           "#00cc96",
           "#ab63fa",
           "#FFA15A",
           "#19d3f3",
           "#FF6692",
           "#B6E880",
           "#FF97FF",
           "#FECB52"
          ],
          "font": {
           "color": "#2a3f5f"
          },
          "geo": {
           "bgcolor": "white",
           "lakecolor": "white",
           "landcolor": "#E5ECF6",
           "showlakes": true,
           "showland": true,
           "subunitcolor": "white"
          },
          "hoverlabel": {
           "align": "left"
          },
          "hovermode": "closest",
          "mapbox": {
           "style": "light"
          },
          "paper_bgcolor": "white",
          "plot_bgcolor": "#E5ECF6",
          "polar": {
           "angularaxis": {
            "gridcolor": "white",
            "linecolor": "white",
            "ticks": ""
           },
           "bgcolor": "#E5ECF6",
           "radialaxis": {
            "gridcolor": "white",
            "linecolor": "white",
            "ticks": ""
           }
          },
          "scene": {
           "xaxis": {
            "backgroundcolor": "#E5ECF6",
            "gridcolor": "white",
            "gridwidth": 2,
            "linecolor": "white",
            "showbackground": true,
            "ticks": "",
            "zerolinecolor": "white"
           },
           "yaxis": {
            "backgroundcolor": "#E5ECF6",
            "gridcolor": "white",
            "gridwidth": 2,
            "linecolor": "white",
            "showbackground": true,
            "ticks": "",
            "zerolinecolor": "white"
           },
           "zaxis": {
            "backgroundcolor": "#E5ECF6",
            "gridcolor": "white",
            "gridwidth": 2,
            "linecolor": "white",
            "showbackground": true,
            "ticks": "",
            "zerolinecolor": "white"
           }
          },
          "shapedefaults": {
           "line": {
            "color": "#2a3f5f"
           }
          },
          "ternary": {
           "aaxis": {
            "gridcolor": "white",
            "linecolor": "white",
            "ticks": ""
           },
           "baxis": {
            "gridcolor": "white",
            "linecolor": "white",
            "ticks": ""
           },
           "bgcolor": "#E5ECF6",
           "caxis": {
            "gridcolor": "white",
            "linecolor": "white",
            "ticks": ""
           }
          },
          "title": {
           "x": 0.05
          },
          "xaxis": {
           "automargin": true,
           "gridcolor": "white",
           "linecolor": "white",
           "ticks": "",
           "title": {
            "standoff": 15
           },
           "zerolinecolor": "white",
           "zerolinewidth": 2
          },
          "yaxis": {
           "automargin": true,
           "gridcolor": "white",
           "linecolor": "white",
           "ticks": "",
           "title": {
            "standoff": 15
           },
           "zerolinecolor": "white",
           "zerolinewidth": 2
          }
         }
        },
        "title": {
         "text": "Contour Plot"
        },
        "xaxis": {
         "anchor": "y",
         "domain": [
          0,
          0.2888888888888889
         ],
         "matches": "x7",
         "range": [
          3,
          10
         ],
         "showticklabels": false
        },
        "xaxis2": {
         "anchor": "y2",
         "domain": [
          0.35555555555555557,
          0.6444444444444445
         ],
         "matches": "x8",
         "range": [
          2,
          16
         ],
         "showticklabels": false
        },
        "xaxis3": {
         "anchor": "y3",
         "domain": [
          0.7111111111111111,
          1
         ],
         "matches": "x9",
         "range": [
          10,
          310
         ],
         "showticklabels": false
        },
        "xaxis4": {
         "anchor": "y4",
         "domain": [
          0,
          0.2888888888888889
         ],
         "matches": "x7",
         "range": [
          3,
          10
         ],
         "showticklabels": false
        },
        "xaxis5": {
         "anchor": "y5",
         "domain": [
          0.35555555555555557,
          0.6444444444444445
         ],
         "matches": "x8",
         "range": [
          2,
          16
         ],
         "showticklabels": false
        },
        "xaxis6": {
         "anchor": "y6",
         "domain": [
          0.7111111111111111,
          1
         ],
         "matches": "x9",
         "range": [
          10,
          310
         ],
         "showticklabels": false
        },
        "xaxis7": {
         "anchor": "y7",
         "domain": [
          0,
          0.2888888888888889
         ],
         "range": [
          3,
          10
         ],
         "title": {
          "text": "max_depth"
         }
        },
        "xaxis8": {
         "anchor": "y8",
         "domain": [
          0.35555555555555557,
          0.6444444444444445
         ],
         "range": [
          2,
          16
         ],
         "title": {
          "text": "min_samples_split"
         }
        },
        "xaxis9": {
         "anchor": "y9",
         "domain": [
          0.7111111111111111,
          1
         ],
         "range": [
          10,
          310
         ],
         "title": {
          "text": "n_estimators"
         }
        },
        "yaxis": {
         "anchor": "x",
         "domain": [
          0.7333333333333333,
          1
         ],
         "range": [
          3,
          10
         ],
         "title": {
          "text": "max_depth"
         }
        },
        "yaxis2": {
         "anchor": "x2",
         "domain": [
          0.7333333333333333,
          1
         ],
         "matches": "y",
         "range": [
          3,
          10
         ],
         "showticklabels": false
        },
        "yaxis3": {
         "anchor": "x3",
         "domain": [
          0.7333333333333333,
          1
         ],
         "matches": "y",
         "range": [
          3,
          10
         ],
         "showticklabels": false
        },
        "yaxis4": {
         "anchor": "x4",
         "domain": [
          0.36666666666666664,
          0.6333333333333333
         ],
         "range": [
          2,
          16
         ],
         "title": {
          "text": "min_samples_split"
         }
        },
        "yaxis5": {
         "anchor": "x5",
         "domain": [
          0.36666666666666664,
          0.6333333333333333
         ],
         "matches": "y4",
         "range": [
          2,
          16
         ],
         "showticklabels": false
        },
        "yaxis6": {
         "anchor": "x6",
         "domain": [
          0.36666666666666664,
          0.6333333333333333
         ],
         "matches": "y4",
         "range": [
          2,
          16
         ],
         "showticklabels": false
        },
        "yaxis7": {
         "anchor": "x7",
         "domain": [
          0,
          0.26666666666666666
         ],
         "range": [
          10,
          310
         ],
         "title": {
          "text": "n_estimators"
         }
        },
        "yaxis8": {
         "anchor": "x8",
         "domain": [
          0,
          0.26666666666666666
         ],
         "matches": "y7",
         "range": [
          10,
          310
         ],
         "showticklabels": false
        },
        "yaxis9": {
         "anchor": "x9",
         "domain": [
          0,
          0.26666666666666666
         ],
         "matches": "y7",
         "range": [
          10,
          310
         ],
         "showticklabels": false
        }
       }
      },
      "text/html": [
       "<div>\n",
       "        \n",
       "        \n",
       "            <div id=\"1a247a68-6690-459b-8b0b-dd47da4cfd5f\" class=\"plotly-graph-div\" style=\"height:525px; width:100%;\"></div>\n",
       "            <script type=\"text/javascript\">\n",
       "                require([\"plotly\"], function(Plotly) {\n",
       "                    window.PLOTLYENV=window.PLOTLYENV || {};\n",
       "                    \n",
       "                if (document.getElementById(\"1a247a68-6690-459b-8b0b-dd47da4cfd5f\")) {\n",
       "                    Plotly.newPlot(\n",
       "                        '1a247a68-6690-459b-8b0b-dd47da4cfd5f',\n",
       "                        [{\"type\": \"scatter\", \"xaxis\": \"x\", \"yaxis\": \"y\"}, {\"colorbar\": {\"title\": {\"text\": \"Objective Value\"}}, \"colorscale\": [[0, \"rgb(220,220,220)\"], [0.30000000000000004, \"rgb(106,137,247)\"], [0.4, \"rgb(90,120,245)\"], [0.5, \"rgb(70,100,245)\"], [0.65, \"rgb(40,60,190)\"], [1, \"rgb(5,10,172)\"]], \"connectgaps\": true, \"contours\": {\"coloring\": \"heatmap\"}, \"hoverinfo\": \"none\", \"line\": {\"smoothing\": 1.3}, \"showscale\": true, \"type\": \"contour\", \"x\": [3, 4, 5, 6, 7, 8, 9, 10], \"xaxis\": \"x4\", \"y\": [2, 3, 4, 5, 6, 7, 8, 9, 10, 11, 12, 13, 14, 15, 16], \"yaxis\": \"y4\", \"z\": [[null, null, null, null, null, 0.37055837563451777, null, null], [null, null, 0.3817258883248731, 0.3725888324873097, null, null, null, null], [0.3817258883248731, null, null, null, 0.36954314720812187, 0.3725888324873097, null, null], [0.3888324873096447, null, null, 0.37461928934010147, 0.37055837563451777, null, null, null], [null, null, null, 0.3766497461928934, 0.3776649746192894, null, null, null], [null, null, 0.3756345177664975, 0.36954314720812187, 0.36954314720812187, null, null, null], [null, null, null, 0.36954314720812187, 0.3725888324873097, null, 0.3796954314720812, null], [null, 0.3756345177664975, null, 0.3959390862944162, null, 0.36954314720812187, 0.37157360406091366, null], [0.3786802030456853, null, null, 0.37461928934010147, null, 0.36954314720812187, 0.37157360406091366, 0.37461928934010147], [null, null, null, null, null, null, 0.3766497461928934, 0.36852791878172586], [null, null, null, null, 0.37055837563451777, null, 0.36954314720812187, 0.3725888324873097], [null, null, null, 0.36954314720812187, null, null, 0.37360406091370557, 0.36852791878172586], [null, null, null, null, 0.3959390862944162, 0.36852791878172586, 0.36954314720812187, 0.37055837563451777], [null, null, 0.3766497461928934, null, 0.37055837563451777, 0.37055837563451777, 0.36751269035532996, 0.37360406091370557], [null, null, null, 0.36954314720812187, 0.36954314720812187, 0.36751269035532996, 0.36852791878172586, null]]}, {\"marker\": {\"color\": \"black\"}, \"mode\": \"markers\", \"showlegend\": false, \"type\": \"scatter\", \"x\": [3, 5, 8, 3, 5, 6, 9, 6, 6, 7, 10, 10, 10, 9, 9, 9, 10, 8, 8, 8, 7, 8, 8, 8, 7, 8, 7, 10, 9, 5, 8, 9, 9, 10, 10, 3, 10, 10, 4, 7, 9, 8, 9, 9, 10, 10, 9, 9, 10, 6, 9, 9, 9, 8, 9, 10, 10, 8, 9, 7, 7, 6, 8, 9, 7, 10, 8, 9, 7, 10, 8, 9, 9, 8, 8, 7, 7, 7, 6, 7, 7, 6, 7, 7, 6, 7, 7, 6, 7, 7, 5, 7, 7, 7, 7, 7, 7, 7, 8, 6], \"xaxis\": \"x4\", \"y\": [4, 3, 4, 5, 15, 6, 10, 3, 9, 14, 11, 11, 12, 8, 11, 8, 13, 16, 14, 16, 16, 16, 16, 16, 15, 14, 16, 12, 13, 7, 15, 15, 13, 12, 10, 10, 12, 10, 9, 6, 14, 15, 13, 13, 11, 11, 12, 9, 13, 10, 14, 15, 13, 15, 12, 15, 14, 2, 11, 16, 8, 13, 14, 16, 12, 13, 14, 16, 15, 15, 10, 16, 14, 15, 16, 16, 16, 16, 16, 8, 8, 7, 8, 7, 7, 6, 6, 5, 5, 7, 7, 7, 7, 8, 6, 6, 4, 6, 9, 8], \"yaxis\": \"y4\"}, {\"colorbar\": {\"title\": {\"text\": \"Objective Value\"}}, \"colorscale\": [[0, \"rgb(220,220,220)\"], [0.30000000000000004, \"rgb(106,137,247)\"], [0.4, \"rgb(90,120,245)\"], [0.5, \"rgb(70,100,245)\"], [0.65, \"rgb(40,60,190)\"], [1, \"rgb(5,10,172)\"]], \"connectgaps\": true, \"contours\": {\"coloring\": \"heatmap\"}, \"hoverinfo\": \"none\", \"line\": {\"smoothing\": 1.3}, \"showscale\": false, \"type\": \"contour\", \"x\": [3, 4, 5, 6, 7, 8, 9, 10], \"xaxis\": \"x7\", \"y\": [10.0, 70.0, 100.0, 130.0, 160.0, 190.0, 220.0, 250.0, 280.0, 310.0], \"yaxis\": \"y7\", \"z\": [[0.3888324873096447, null, 0.3817258883248731, null, null, null, null, 0.37360406091370557], [null, null, 0.3766497461928934, 0.3766497461928934, 0.3776649746192894, null, 0.3796954314720812, null], [null, null, null, null, 0.3725888324873097, null, 0.3776649746192894, null], [0.3817258883248731, null, null, null, null, null, null, 0.3725888324873097], [0.3786802030456853, null, null, 0.3725888324873097, null, null, 0.36954314720812187, null], [null, 0.3756345177664975, null, null, 0.3959390862944162, 0.37055837563451777, 0.3725888324873097, 0.37055837563451777], [null, null, 0.3756345177664975, 0.3959390862944162, 0.37055837563451777, 0.37055837563451777, 0.37360406091370557, 0.36852791878172586], [null, null, null, 0.36954314720812187, 0.37055837563451777, 0.37055837563451777, 0.3766497461928934, 0.36751269035532996], [null, null, null, 0.36954314720812187, 0.3725888324873097, 0.36954314720812187, 0.36852791878172586, 0.36954314720812187], [null, null, 0.3756345177664975, 0.36852791878172586, 0.36954314720812187, 0.36954314720812187, 0.36954314720812187, 0.3725888324873097]]}, {\"marker\": {\"color\": \"black\"}, \"mode\": \"markers\", \"showlegend\": false, \"type\": \"scatter\", \"x\": [3, 5, 8, 3, 5, 6, 9, 6, 6, 7, 10, 10, 10, 9, 9, 9, 10, 8, 8, 8, 7, 8, 8, 8, 7, 8, 7, 10, 9, 5, 8, 9, 9, 10, 10, 3, 10, 10, 4, 7, 9, 8, 9, 9, 10, 10, 9, 9, 10, 6, 9, 9, 9, 8, 9, 10, 10, 8, 9, 7, 7, 6, 8, 9, 7, 10, 8, 9, 7, 10, 8, 9, 9, 8, 8, 7, 7, 7, 6, 7, 7, 6, 7, 7, 6, 7, 7, 6, 7, 7, 5, 7, 7, 7, 7, 7, 7, 7, 8, 6], \"xaxis\": \"x7\", \"y\": [130.0, 10.0, 190.0, 10.0, 70.0, 70.0, 100.0, 160.0, 220.0, 190.0, 310.0, 310.0, 280.0, 100.0, 250.0, 70.0, 130.0, 310.0, 310.0, 280.0, 250.0, 310.0, 280.0, 280.0, 250.0, 280.0, 220.0, 310.0, 310.0, 220.0, 280.0, 280.0, 250.0, 250.0, 190.0, 160.0, 190.0, 220.0, 190.0, 250.0, 160.0, 280.0, 250.0, 220.0, 220.0, 190.0, 220.0, 190.0, 130.0, 250.0, 190.0, 250.0, 220.0, 250.0, 160.0, 280.0, 190.0, 220.0, 250.0, 310.0, 310.0, 250.0, 190.0, 280.0, 250.0, 220.0, 310.0, 190.0, 220.0, 10.0, 280.0, 280.0, 310.0, 250.0, 310.0, 310.0, 310.0, 310.0, 310.0, 310.0, 310.0, 310.0, 310.0, 310.0, 280.0, 310.0, 100.0, 280.0, 310.0, 310.0, 310.0, 310.0, 310.0, 280.0, 310.0, 310.0, 310.0, 70.0, 310.0, 280.0], \"yaxis\": \"y7\"}, {\"colorbar\": {\"title\": {\"text\": \"Objective Value\"}}, \"colorscale\": [[0, \"rgb(220,220,220)\"], [0.30000000000000004, \"rgb(106,137,247)\"], [0.4, \"rgb(90,120,245)\"], [0.5, \"rgb(70,100,245)\"], [0.65, \"rgb(40,60,190)\"], [1, \"rgb(5,10,172)\"]], \"connectgaps\": true, \"contours\": {\"coloring\": \"heatmap\"}, \"hoverinfo\": \"none\", \"line\": {\"smoothing\": 1.3}, \"showscale\": false, \"type\": \"contour\", \"x\": [2, 3, 4, 5, 6, 7, 8, 9, 10, 11, 12, 13, 14, 15, 16], \"xaxis\": \"x2\", \"y\": [3, 4, 5, 6, 7, 8, 9, 10], \"yaxis\": \"y2\", \"z\": [[null, null, 0.3817258883248731, 0.3888324873096447, null, null, null, null, 0.3786802030456853, null, null, null, null, null, null], [null, null, null, null, null, null, null, 0.3756345177664975, null, null, null, null, null, null, null], [null, 0.3817258883248731, null, null, null, 0.3756345177664975, null, null, null, null, null, null, null, 0.3766497461928934, null], [null, 0.3725888324873097, null, 0.37461928934010147, 0.3766497461928934, 0.36954314720812187, 0.36954314720812187, 0.3959390862944162, 0.37461928934010147, null, null, 0.36954314720812187, null, null, 0.36954314720812187], [null, null, 0.36954314720812187, 0.37055837563451777, 0.3776649746192894, 0.36954314720812187, 0.3725888324873097, null, null, null, 0.37055837563451777, null, 0.3959390862944162, 0.37055837563451777, 0.36954314720812187], [0.37055837563451777, null, 0.3725888324873097, null, null, null, null, 0.36954314720812187, 0.36954314720812187, null, null, null, 0.36852791878172586, 0.37055837563451777, 0.36751269035532996], [null, null, null, null, null, null, 0.3796954314720812, 0.37157360406091366, 0.37157360406091366, 0.3766497461928934, 0.36954314720812187, 0.37360406091370557, 0.36954314720812187, 0.36751269035532996, 0.36852791878172586], [null, null, null, null, null, null, null, null, 0.37461928934010147, 0.36852791878172586, 0.3725888324873097, 0.36852791878172586, 0.37055837563451777, 0.37360406091370557, null]]}, {\"marker\": {\"color\": \"black\"}, \"mode\": \"markers\", \"showlegend\": false, \"type\": \"scatter\", \"x\": [4, 3, 4, 5, 15, 6, 10, 3, 9, 14, 11, 11, 12, 8, 11, 8, 13, 16, 14, 16, 16, 16, 16, 16, 15, 14, 16, 12, 13, 7, 15, 15, 13, 12, 10, 10, 12, 10, 9, 6, 14, 15, 13, 13, 11, 11, 12, 9, 13, 10, 14, 15, 13, 15, 12, 15, 14, 2, 11, 16, 8, 13, 14, 16, 12, 13, 14, 16, 15, 15, 10, 16, 14, 15, 16, 16, 16, 16, 16, 8, 8, 7, 8, 7, 7, 6, 6, 5, 5, 7, 7, 7, 7, 8, 6, 6, 4, 6, 9, 8], \"xaxis\": \"x2\", \"y\": [3, 5, 8, 3, 5, 6, 9, 6, 6, 7, 10, 10, 10, 9, 9, 9, 10, 8, 8, 8, 7, 8, 8, 8, 7, 8, 7, 10, 9, 5, 8, 9, 9, 10, 10, 3, 10, 10, 4, 7, 9, 8, 9, 9, 10, 10, 9, 9, 10, 6, 9, 9, 9, 8, 9, 10, 10, 8, 9, 7, 7, 6, 8, 9, 7, 10, 8, 9, 7, 10, 8, 9, 9, 8, 8, 7, 7, 7, 6, 7, 7, 6, 7, 7, 6, 7, 7, 6, 7, 7, 5, 7, 7, 7, 7, 7, 7, 7, 8, 6], \"yaxis\": \"y2\"}, {\"type\": \"scatter\", \"xaxis\": \"x5\", \"yaxis\": \"y5\"}, {\"colorbar\": {\"title\": {\"text\": \"Objective Value\"}}, \"colorscale\": [[0, \"rgb(220,220,220)\"], [0.30000000000000004, \"rgb(106,137,247)\"], [0.4, \"rgb(90,120,245)\"], [0.5, \"rgb(70,100,245)\"], [0.65, \"rgb(40,60,190)\"], [1, \"rgb(5,10,172)\"]], \"connectgaps\": true, \"contours\": {\"coloring\": \"heatmap\"}, \"hoverinfo\": \"none\", \"line\": {\"smoothing\": 1.3}, \"showscale\": false, \"type\": \"contour\", \"x\": [2, 3, 4, 5, 6, 7, 8, 9, 10, 11, 12, 13, 14, 15, 16], \"xaxis\": \"x8\", \"y\": [10.0, 70.0, 100.0, 130.0, 160.0, 190.0, 220.0, 250.0, 280.0, 310.0], \"yaxis\": \"y8\", \"z\": [[null, 0.3817258883248731, null, 0.3888324873096447, null, null, null, null, null, null, null, null, null, 0.37360406091370557, null], [null, null, null, null, 0.3776649746192894, null, 0.3796954314720812, null, null, null, null, null, null, 0.3766497461928934, null], [null, null, null, null, 0.3725888324873097, null, 0.3776649746192894, null, 0.37157360406091366, null, null, null, null, null, null], [null, null, 0.3817258883248731, null, null, null, null, null, null, null, null, 0.3725888324873097, null, null, null], [null, 0.3725888324873097, null, null, null, null, null, null, 0.3786802030456853, null, 0.36954314720812187, null, 0.3766497461928934, null, null], [null, null, 0.3725888324873097, null, null, null, null, 0.37157360406091366, 0.36751269035532996, 0.36852791878172586, 0.3725888324873097, null, 0.37055837563451777, null, 0.3725888324873097], [0.37055837563451777, null, null, null, null, 0.3756345177664975, null, 0.3959390862944162, 0.37461928934010147, 0.37157360406091366, 0.3725888324873097, 0.36852791878172586, null, 0.37055837563451777, 0.37055837563451777], [null, null, null, null, 0.36954314720812187, null, null, null, 0.37461928934010147, 0.3766497461928934, 0.37055837563451777, 0.36954314720812187, null, 0.37055837563451777, 0.36954314720812187], [null, null, null, 0.37461928934010147, null, 0.36954314720812187, 0.36954314720812187, null, 0.36954314720812187, null, 0.3766497461928934, null, 0.3756345177664975, 0.36954314720812187, 0.36852791878172586], [null, null, 0.36954314720812187, 0.37055837563451777, 0.37055837563451777, 0.36954314720812187, 0.36954314720812187, 0.36954314720812187, null, 0.37157360406091366, 0.3725888324873097, 0.37157360406091366, 0.36954314720812187, null, 0.36954314720812187]]}, {\"marker\": {\"color\": \"black\"}, \"mode\": \"markers\", \"showlegend\": false, \"type\": \"scatter\", \"x\": [4, 3, 4, 5, 15, 6, 10, 3, 9, 14, 11, 11, 12, 8, 11, 8, 13, 16, 14, 16, 16, 16, 16, 16, 15, 14, 16, 12, 13, 7, 15, 15, 13, 12, 10, 10, 12, 10, 9, 6, 14, 15, 13, 13, 11, 11, 12, 9, 13, 10, 14, 15, 13, 15, 12, 15, 14, 2, 11, 16, 8, 13, 14, 16, 12, 13, 14, 16, 15, 15, 10, 16, 14, 15, 16, 16, 16, 16, 16, 8, 8, 7, 8, 7, 7, 6, 6, 5, 5, 7, 7, 7, 7, 8, 6, 6, 4, 6, 9, 8], \"xaxis\": \"x8\", \"y\": [130.0, 10.0, 190.0, 10.0, 70.0, 70.0, 100.0, 160.0, 220.0, 190.0, 310.0, 310.0, 280.0, 100.0, 250.0, 70.0, 130.0, 310.0, 310.0, 280.0, 250.0, 310.0, 280.0, 280.0, 250.0, 280.0, 220.0, 310.0, 310.0, 220.0, 280.0, 280.0, 250.0, 250.0, 190.0, 160.0, 190.0, 220.0, 190.0, 250.0, 160.0, 280.0, 250.0, 220.0, 220.0, 190.0, 220.0, 190.0, 130.0, 250.0, 190.0, 250.0, 220.0, 250.0, 160.0, 280.0, 190.0, 220.0, 250.0, 310.0, 310.0, 250.0, 190.0, 280.0, 250.0, 220.0, 310.0, 190.0, 220.0, 10.0, 280.0, 280.0, 310.0, 250.0, 310.0, 310.0, 310.0, 310.0, 310.0, 310.0, 310.0, 310.0, 310.0, 310.0, 280.0, 310.0, 100.0, 280.0, 310.0, 310.0, 310.0, 310.0, 310.0, 280.0, 310.0, 310.0, 310.0, 70.0, 310.0, 280.0], \"yaxis\": \"y8\"}, {\"colorbar\": {\"title\": {\"text\": \"Objective Value\"}}, \"colorscale\": [[0, \"rgb(220,220,220)\"], [0.30000000000000004, \"rgb(106,137,247)\"], [0.4, \"rgb(90,120,245)\"], [0.5, \"rgb(70,100,245)\"], [0.65, \"rgb(40,60,190)\"], [1, \"rgb(5,10,172)\"]], \"connectgaps\": true, \"contours\": {\"coloring\": \"heatmap\"}, \"hoverinfo\": \"none\", \"line\": {\"smoothing\": 1.3}, \"showscale\": false, \"type\": \"contour\", \"x\": [10.0, 70.0, 100.0, 130.0, 160.0, 190.0, 220.0, 250.0, 280.0, 310.0], \"xaxis\": \"x3\", \"y\": [3, 4, 5, 6, 7, 8, 9, 10], \"yaxis\": \"y3\", \"z\": [[0.3888324873096447, null, null, 0.3817258883248731, 0.3786802030456853, null, null, null, null, null], [null, null, null, null, null, 0.3756345177664975, null, null, null, null], [0.3817258883248731, 0.3766497461928934, null, null, null, null, 0.3756345177664975, null, null, 0.3756345177664975], [null, 0.3766497461928934, null, null, 0.3725888324873097, null, 0.3959390862944162, 0.36954314720812187, 0.36954314720812187, 0.36852791878172586], [null, 0.3776649746192894, 0.3725888324873097, null, null, 0.3959390862944162, 0.37055837563451777, 0.37055837563451777, 0.3725888324873097, 0.36954314720812187], [null, null, null, null, null, 0.37055837563451777, 0.37055837563451777, 0.37055837563451777, 0.36954314720812187, 0.36954314720812187], [null, 0.3796954314720812, 0.3776649746192894, null, 0.36954314720812187, 0.3725888324873097, 0.37360406091370557, 0.3766497461928934, 0.36852791878172586, 0.36954314720812187], [0.37360406091370557, null, null, 0.3725888324873097, null, 0.37055837563451777, 0.36852791878172586, 0.36751269035532996, 0.36954314720812187, 0.3725888324873097]]}, {\"marker\": {\"color\": \"black\"}, \"mode\": \"markers\", \"showlegend\": false, \"type\": \"scatter\", \"x\": [130.0, 10.0, 190.0, 10.0, 70.0, 70.0, 100.0, 160.0, 220.0, 190.0, 310.0, 310.0, 280.0, 100.0, 250.0, 70.0, 130.0, 310.0, 310.0, 280.0, 250.0, 310.0, 280.0, 280.0, 250.0, 280.0, 220.0, 310.0, 310.0, 220.0, 280.0, 280.0, 250.0, 250.0, 190.0, 160.0, 190.0, 220.0, 190.0, 250.0, 160.0, 280.0, 250.0, 220.0, 220.0, 190.0, 220.0, 190.0, 130.0, 250.0, 190.0, 250.0, 220.0, 250.0, 160.0, 280.0, 190.0, 220.0, 250.0, 310.0, 310.0, 250.0, 190.0, 280.0, 250.0, 220.0, 310.0, 190.0, 220.0, 10.0, 280.0, 280.0, 310.0, 250.0, 310.0, 310.0, 310.0, 310.0, 310.0, 310.0, 310.0, 310.0, 310.0, 310.0, 280.0, 310.0, 100.0, 280.0, 310.0, 310.0, 310.0, 310.0, 310.0, 280.0, 310.0, 310.0, 310.0, 70.0, 310.0, 280.0], \"xaxis\": \"x3\", \"y\": [3, 5, 8, 3, 5, 6, 9, 6, 6, 7, 10, 10, 10, 9, 9, 9, 10, 8, 8, 8, 7, 8, 8, 8, 7, 8, 7, 10, 9, 5, 8, 9, 9, 10, 10, 3, 10, 10, 4, 7, 9, 8, 9, 9, 10, 10, 9, 9, 10, 6, 9, 9, 9, 8, 9, 10, 10, 8, 9, 7, 7, 6, 8, 9, 7, 10, 8, 9, 7, 10, 8, 9, 9, 8, 8, 7, 7, 7, 6, 7, 7, 6, 7, 7, 6, 7, 7, 6, 7, 7, 5, 7, 7, 7, 7, 7, 7, 7, 8, 6], \"yaxis\": \"y3\"}, {\"colorbar\": {\"title\": {\"text\": \"Objective Value\"}}, \"colorscale\": [[0, \"rgb(220,220,220)\"], [0.30000000000000004, \"rgb(106,137,247)\"], [0.4, \"rgb(90,120,245)\"], [0.5, \"rgb(70,100,245)\"], [0.65, \"rgb(40,60,190)\"], [1, \"rgb(5,10,172)\"]], \"connectgaps\": true, \"contours\": {\"coloring\": \"heatmap\"}, \"hoverinfo\": \"none\", \"line\": {\"smoothing\": 1.3}, \"showscale\": false, \"type\": \"contour\", \"x\": [10.0, 70.0, 100.0, 130.0, 160.0, 190.0, 220.0, 250.0, 280.0, 310.0], \"xaxis\": \"x6\", \"y\": [2, 3, 4, 5, 6, 7, 8, 9, 10, 11, 12, 13, 14, 15, 16], \"yaxis\": \"y6\", \"z\": [[null, null, null, null, null, null, 0.37055837563451777, null, null, null], [0.3817258883248731, null, null, null, 0.3725888324873097, null, null, null, null, null], [null, null, null, 0.3817258883248731, null, 0.3725888324873097, null, null, null, 0.36954314720812187], [0.3888324873096447, null, null, null, null, null, null, null, 0.37461928934010147, 0.37055837563451777], [null, 0.3776649746192894, 0.3725888324873097, null, null, null, null, 0.36954314720812187, null, 0.37055837563451777], [null, null, null, null, null, null, 0.3756345177664975, null, 0.36954314720812187, 0.36954314720812187], [null, 0.3796954314720812, 0.3776649746192894, null, null, null, null, null, 0.36954314720812187, 0.36954314720812187], [null, null, null, null, null, 0.37157360406091366, 0.3959390862944162, null, null, 0.36954314720812187], [null, null, 0.37157360406091366, null, 0.3786802030456853, 0.36751269035532996, 0.37461928934010147, 0.37461928934010147, 0.36954314720812187, null], [null, null, null, null, null, 0.36852791878172586, 0.37157360406091366, 0.3766497461928934, null, 0.37157360406091366], [null, null, null, null, 0.36954314720812187, 0.3725888324873097, 0.3725888324873097, 0.37055837563451777, 0.3766497461928934, 0.3725888324873097], [null, null, null, 0.3725888324873097, null, null, 0.36852791878172586, 0.36954314720812187, null, 0.37157360406091366], [null, null, null, null, 0.3766497461928934, 0.37055837563451777, null, null, 0.3756345177664975, 0.36954314720812187], [0.37360406091370557, 0.3766497461928934, null, null, null, null, 0.37055837563451777, 0.37055837563451777, 0.36954314720812187, null], [null, null, null, null, null, 0.3725888324873097, 0.37055837563451777, 0.36954314720812187, 0.36852791878172586, 0.36954314720812187]]}, {\"marker\": {\"color\": \"black\"}, \"mode\": \"markers\", \"showlegend\": false, \"type\": \"scatter\", \"x\": [130.0, 10.0, 190.0, 10.0, 70.0, 70.0, 100.0, 160.0, 220.0, 190.0, 310.0, 310.0, 280.0, 100.0, 250.0, 70.0, 130.0, 310.0, 310.0, 280.0, 250.0, 310.0, 280.0, 280.0, 250.0, 280.0, 220.0, 310.0, 310.0, 220.0, 280.0, 280.0, 250.0, 250.0, 190.0, 160.0, 190.0, 220.0, 190.0, 250.0, 160.0, 280.0, 250.0, 220.0, 220.0, 190.0, 220.0, 190.0, 130.0, 250.0, 190.0, 250.0, 220.0, 250.0, 160.0, 280.0, 190.0, 220.0, 250.0, 310.0, 310.0, 250.0, 190.0, 280.0, 250.0, 220.0, 310.0, 190.0, 220.0, 10.0, 280.0, 280.0, 310.0, 250.0, 310.0, 310.0, 310.0, 310.0, 310.0, 310.0, 310.0, 310.0, 310.0, 310.0, 280.0, 310.0, 100.0, 280.0, 310.0, 310.0, 310.0, 310.0, 310.0, 280.0, 310.0, 310.0, 310.0, 70.0, 310.0, 280.0], \"xaxis\": \"x6\", \"y\": [4, 3, 4, 5, 15, 6, 10, 3, 9, 14, 11, 11, 12, 8, 11, 8, 13, 16, 14, 16, 16, 16, 16, 16, 15, 14, 16, 12, 13, 7, 15, 15, 13, 12, 10, 10, 12, 10, 9, 6, 14, 15, 13, 13, 11, 11, 12, 9, 13, 10, 14, 15, 13, 15, 12, 15, 14, 2, 11, 16, 8, 13, 14, 16, 12, 13, 14, 16, 15, 15, 10, 16, 14, 15, 16, 16, 16, 16, 16, 8, 8, 7, 8, 7, 7, 6, 6, 5, 5, 7, 7, 7, 7, 8, 6, 6, 4, 6, 9, 8], \"yaxis\": \"y6\"}, {\"type\": \"scatter\", \"xaxis\": \"x9\", \"yaxis\": \"y9\"}],\n",
       "                        {\"template\": {\"data\": {\"bar\": [{\"error_x\": {\"color\": \"#2a3f5f\"}, \"error_y\": {\"color\": \"#2a3f5f\"}, \"marker\": {\"line\": {\"color\": \"#E5ECF6\", \"width\": 0.5}}, \"type\": \"bar\"}], \"barpolar\": [{\"marker\": {\"line\": {\"color\": \"#E5ECF6\", \"width\": 0.5}}, \"type\": \"barpolar\"}], \"carpet\": [{\"aaxis\": {\"endlinecolor\": \"#2a3f5f\", \"gridcolor\": \"white\", \"linecolor\": \"white\", \"minorgridcolor\": \"white\", \"startlinecolor\": \"#2a3f5f\"}, \"baxis\": {\"endlinecolor\": \"#2a3f5f\", \"gridcolor\": \"white\", \"linecolor\": \"white\", \"minorgridcolor\": \"white\", \"startlinecolor\": \"#2a3f5f\"}, \"type\": \"carpet\"}], \"choropleth\": [{\"colorbar\": {\"outlinewidth\": 0, \"ticks\": \"\"}, \"type\": \"choropleth\"}], \"contour\": [{\"colorbar\": {\"outlinewidth\": 0, \"ticks\": \"\"}, \"colorscale\": [[0.0, \"#0d0887\"], [0.1111111111111111, \"#46039f\"], [0.2222222222222222, \"#7201a8\"], [0.3333333333333333, \"#9c179e\"], [0.4444444444444444, \"#bd3786\"], [0.5555555555555556, \"#d8576b\"], [0.6666666666666666, \"#ed7953\"], [0.7777777777777778, \"#fb9f3a\"], [0.8888888888888888, \"#fdca26\"], [1.0, \"#f0f921\"]], \"type\": \"contour\"}], \"contourcarpet\": [{\"colorbar\": {\"outlinewidth\": 0, \"ticks\": \"\"}, \"type\": \"contourcarpet\"}], \"heatmap\": [{\"colorbar\": {\"outlinewidth\": 0, \"ticks\": \"\"}, \"colorscale\": [[0.0, \"#0d0887\"], [0.1111111111111111, \"#46039f\"], [0.2222222222222222, \"#7201a8\"], [0.3333333333333333, \"#9c179e\"], [0.4444444444444444, \"#bd3786\"], [0.5555555555555556, \"#d8576b\"], [0.6666666666666666, \"#ed7953\"], [0.7777777777777778, \"#fb9f3a\"], [0.8888888888888888, \"#fdca26\"], [1.0, \"#f0f921\"]], \"type\": \"heatmap\"}], \"heatmapgl\": [{\"colorbar\": {\"outlinewidth\": 0, \"ticks\": \"\"}, \"colorscale\": [[0.0, \"#0d0887\"], [0.1111111111111111, \"#46039f\"], [0.2222222222222222, \"#7201a8\"], [0.3333333333333333, \"#9c179e\"], [0.4444444444444444, \"#bd3786\"], [0.5555555555555556, \"#d8576b\"], [0.6666666666666666, \"#ed7953\"], [0.7777777777777778, \"#fb9f3a\"], [0.8888888888888888, \"#fdca26\"], [1.0, \"#f0f921\"]], \"type\": \"heatmapgl\"}], \"histogram\": [{\"marker\": {\"colorbar\": {\"outlinewidth\": 0, \"ticks\": \"\"}}, \"type\": \"histogram\"}], \"histogram2d\": [{\"colorbar\": {\"outlinewidth\": 0, \"ticks\": \"\"}, \"colorscale\": [[0.0, \"#0d0887\"], [0.1111111111111111, \"#46039f\"], [0.2222222222222222, \"#7201a8\"], [0.3333333333333333, \"#9c179e\"], [0.4444444444444444, \"#bd3786\"], [0.5555555555555556, \"#d8576b\"], [0.6666666666666666, \"#ed7953\"], [0.7777777777777778, \"#fb9f3a\"], [0.8888888888888888, \"#fdca26\"], [1.0, \"#f0f921\"]], \"type\": \"histogram2d\"}], \"histogram2dcontour\": [{\"colorbar\": {\"outlinewidth\": 0, \"ticks\": \"\"}, \"colorscale\": [[0.0, \"#0d0887\"], [0.1111111111111111, \"#46039f\"], [0.2222222222222222, \"#7201a8\"], [0.3333333333333333, \"#9c179e\"], [0.4444444444444444, \"#bd3786\"], [0.5555555555555556, \"#d8576b\"], [0.6666666666666666, \"#ed7953\"], [0.7777777777777778, \"#fb9f3a\"], [0.8888888888888888, \"#fdca26\"], [1.0, \"#f0f921\"]], \"type\": \"histogram2dcontour\"}], \"mesh3d\": [{\"colorbar\": {\"outlinewidth\": 0, \"ticks\": \"\"}, \"type\": \"mesh3d\"}], \"parcoords\": [{\"line\": {\"colorbar\": {\"outlinewidth\": 0, \"ticks\": \"\"}}, \"type\": \"parcoords\"}], \"pie\": [{\"automargin\": true, \"type\": \"pie\"}], \"scatter\": [{\"marker\": {\"colorbar\": {\"outlinewidth\": 0, \"ticks\": \"\"}}, \"type\": \"scatter\"}], \"scatter3d\": [{\"line\": {\"colorbar\": {\"outlinewidth\": 0, \"ticks\": \"\"}}, \"marker\": {\"colorbar\": {\"outlinewidth\": 0, \"ticks\": \"\"}}, \"type\": \"scatter3d\"}], \"scattercarpet\": [{\"marker\": {\"colorbar\": {\"outlinewidth\": 0, \"ticks\": \"\"}}, \"type\": \"scattercarpet\"}], \"scattergeo\": [{\"marker\": {\"colorbar\": {\"outlinewidth\": 0, \"ticks\": \"\"}}, \"type\": \"scattergeo\"}], \"scattergl\": [{\"marker\": {\"colorbar\": {\"outlinewidth\": 0, \"ticks\": \"\"}}, \"type\": \"scattergl\"}], \"scattermapbox\": [{\"marker\": {\"colorbar\": {\"outlinewidth\": 0, \"ticks\": \"\"}}, \"type\": \"scattermapbox\"}], \"scatterpolar\": [{\"marker\": {\"colorbar\": {\"outlinewidth\": 0, \"ticks\": \"\"}}, \"type\": \"scatterpolar\"}], \"scatterpolargl\": [{\"marker\": {\"colorbar\": {\"outlinewidth\": 0, \"ticks\": \"\"}}, \"type\": \"scatterpolargl\"}], \"scatterternary\": [{\"marker\": {\"colorbar\": {\"outlinewidth\": 0, \"ticks\": \"\"}}, \"type\": \"scatterternary\"}], \"surface\": [{\"colorbar\": {\"outlinewidth\": 0, \"ticks\": \"\"}, \"colorscale\": [[0.0, \"#0d0887\"], [0.1111111111111111, \"#46039f\"], [0.2222222222222222, \"#7201a8\"], [0.3333333333333333, \"#9c179e\"], [0.4444444444444444, \"#bd3786\"], [0.5555555555555556, \"#d8576b\"], [0.6666666666666666, \"#ed7953\"], [0.7777777777777778, \"#fb9f3a\"], [0.8888888888888888, \"#fdca26\"], [1.0, \"#f0f921\"]], \"type\": \"surface\"}], \"table\": [{\"cells\": {\"fill\": {\"color\": \"#EBF0F8\"}, \"line\": {\"color\": \"white\"}}, \"header\": {\"fill\": {\"color\": \"#C8D4E3\"}, \"line\": {\"color\": \"white\"}}, \"type\": \"table\"}]}, \"layout\": {\"annotationdefaults\": {\"arrowcolor\": \"#2a3f5f\", \"arrowhead\": 0, \"arrowwidth\": 1}, \"coloraxis\": {\"colorbar\": {\"outlinewidth\": 0, \"ticks\": \"\"}}, \"colorscale\": {\"diverging\": [[0, \"#8e0152\"], [0.1, \"#c51b7d\"], [0.2, \"#de77ae\"], [0.3, \"#f1b6da\"], [0.4, \"#fde0ef\"], [0.5, \"#f7f7f7\"], [0.6, \"#e6f5d0\"], [0.7, \"#b8e186\"], [0.8, \"#7fbc41\"], [0.9, \"#4d9221\"], [1, \"#276419\"]], \"sequential\": [[0.0, \"#0d0887\"], [0.1111111111111111, \"#46039f\"], [0.2222222222222222, \"#7201a8\"], [0.3333333333333333, \"#9c179e\"], [0.4444444444444444, \"#bd3786\"], [0.5555555555555556, \"#d8576b\"], [0.6666666666666666, \"#ed7953\"], [0.7777777777777778, \"#fb9f3a\"], [0.8888888888888888, \"#fdca26\"], [1.0, \"#f0f921\"]], \"sequentialminus\": [[0.0, \"#0d0887\"], [0.1111111111111111, \"#46039f\"], [0.2222222222222222, \"#7201a8\"], [0.3333333333333333, \"#9c179e\"], [0.4444444444444444, \"#bd3786\"], [0.5555555555555556, \"#d8576b\"], [0.6666666666666666, \"#ed7953\"], [0.7777777777777778, \"#fb9f3a\"], [0.8888888888888888, \"#fdca26\"], [1.0, \"#f0f921\"]]}, \"colorway\": [\"#636efa\", \"#EF553B\", \"#00cc96\", \"#ab63fa\", \"#FFA15A\", \"#19d3f3\", \"#FF6692\", \"#B6E880\", \"#FF97FF\", \"#FECB52\"], \"font\": {\"color\": \"#2a3f5f\"}, \"geo\": {\"bgcolor\": \"white\", \"lakecolor\": \"white\", \"landcolor\": \"#E5ECF6\", \"showlakes\": true, \"showland\": true, \"subunitcolor\": \"white\"}, \"hoverlabel\": {\"align\": \"left\"}, \"hovermode\": \"closest\", \"mapbox\": {\"style\": \"light\"}, \"paper_bgcolor\": \"white\", \"plot_bgcolor\": \"#E5ECF6\", \"polar\": {\"angularaxis\": {\"gridcolor\": \"white\", \"linecolor\": \"white\", \"ticks\": \"\"}, \"bgcolor\": \"#E5ECF6\", \"radialaxis\": {\"gridcolor\": \"white\", \"linecolor\": \"white\", \"ticks\": \"\"}}, \"scene\": {\"xaxis\": {\"backgroundcolor\": \"#E5ECF6\", \"gridcolor\": \"white\", \"gridwidth\": 2, \"linecolor\": \"white\", \"showbackground\": true, \"ticks\": \"\", \"zerolinecolor\": \"white\"}, \"yaxis\": {\"backgroundcolor\": \"#E5ECF6\", \"gridcolor\": \"white\", \"gridwidth\": 2, \"linecolor\": \"white\", \"showbackground\": true, \"ticks\": \"\", \"zerolinecolor\": \"white\"}, \"zaxis\": {\"backgroundcolor\": \"#E5ECF6\", \"gridcolor\": \"white\", \"gridwidth\": 2, \"linecolor\": \"white\", \"showbackground\": true, \"ticks\": \"\", \"zerolinecolor\": \"white\"}}, \"shapedefaults\": {\"line\": {\"color\": \"#2a3f5f\"}}, \"ternary\": {\"aaxis\": {\"gridcolor\": \"white\", \"linecolor\": \"white\", \"ticks\": \"\"}, \"baxis\": {\"gridcolor\": \"white\", \"linecolor\": \"white\", \"ticks\": \"\"}, \"bgcolor\": \"#E5ECF6\", \"caxis\": {\"gridcolor\": \"white\", \"linecolor\": \"white\", \"ticks\": \"\"}}, \"title\": {\"x\": 0.05}, \"xaxis\": {\"automargin\": true, \"gridcolor\": \"white\", \"linecolor\": \"white\", \"ticks\": \"\", \"title\": {\"standoff\": 15}, \"zerolinecolor\": \"white\", \"zerolinewidth\": 2}, \"yaxis\": {\"automargin\": true, \"gridcolor\": \"white\", \"linecolor\": \"white\", \"ticks\": \"\", \"title\": {\"standoff\": 15}, \"zerolinecolor\": \"white\", \"zerolinewidth\": 2}}}, \"title\": {\"text\": \"Contour Plot\"}, \"xaxis\": {\"anchor\": \"y\", \"domain\": [0.0, 0.2888888888888889], \"matches\": \"x7\", \"range\": [3, 10], \"showticklabels\": false}, \"xaxis2\": {\"anchor\": \"y2\", \"domain\": [0.35555555555555557, 0.6444444444444445], \"matches\": \"x8\", \"range\": [2, 16], \"showticklabels\": false}, \"xaxis3\": {\"anchor\": \"y3\", \"domain\": [0.7111111111111111, 1.0], \"matches\": \"x9\", \"range\": [10.0, 310.0], \"showticklabels\": false}, \"xaxis4\": {\"anchor\": \"y4\", \"domain\": [0.0, 0.2888888888888889], \"matches\": \"x7\", \"range\": [3, 10], \"showticklabels\": false}, \"xaxis5\": {\"anchor\": \"y5\", \"domain\": [0.35555555555555557, 0.6444444444444445], \"matches\": \"x8\", \"range\": [2, 16], \"showticklabels\": false}, \"xaxis6\": {\"anchor\": \"y6\", \"domain\": [0.7111111111111111, 1.0], \"matches\": \"x9\", \"range\": [10.0, 310.0], \"showticklabels\": false}, \"xaxis7\": {\"anchor\": \"y7\", \"domain\": [0.0, 0.2888888888888889], \"range\": [3, 10], \"title\": {\"text\": \"max_depth\"}}, \"xaxis8\": {\"anchor\": \"y8\", \"domain\": [0.35555555555555557, 0.6444444444444445], \"range\": [2, 16], \"title\": {\"text\": \"min_samples_split\"}}, \"xaxis9\": {\"anchor\": \"y9\", \"domain\": [0.7111111111111111, 1.0], \"range\": [10.0, 310.0], \"title\": {\"text\": \"n_estimators\"}}, \"yaxis\": {\"anchor\": \"x\", \"domain\": [0.7333333333333333, 1.0], \"range\": [3, 10], \"title\": {\"text\": \"max_depth\"}}, \"yaxis2\": {\"anchor\": \"x2\", \"domain\": [0.7333333333333333, 1.0], \"matches\": \"y\", \"range\": [3, 10], \"showticklabels\": false}, \"yaxis3\": {\"anchor\": \"x3\", \"domain\": [0.7333333333333333, 1.0], \"matches\": \"y\", \"range\": [3, 10], \"showticklabels\": false}, \"yaxis4\": {\"anchor\": \"x4\", \"domain\": [0.36666666666666664, 0.6333333333333333], \"range\": [2, 16], \"title\": {\"text\": \"min_samples_split\"}}, \"yaxis5\": {\"anchor\": \"x5\", \"domain\": [0.36666666666666664, 0.6333333333333333], \"matches\": \"y4\", \"range\": [2, 16], \"showticklabels\": false}, \"yaxis6\": {\"anchor\": \"x6\", \"domain\": [0.36666666666666664, 0.6333333333333333], \"matches\": \"y4\", \"range\": [2, 16], \"showticklabels\": false}, \"yaxis7\": {\"anchor\": \"x7\", \"domain\": [0.0, 0.26666666666666666], \"range\": [10.0, 310.0], \"title\": {\"text\": \"n_estimators\"}}, \"yaxis8\": {\"anchor\": \"x8\", \"domain\": [0.0, 0.26666666666666666], \"matches\": \"y7\", \"range\": [10.0, 310.0], \"showticklabels\": false}, \"yaxis9\": {\"anchor\": \"x9\", \"domain\": [0.0, 0.26666666666666666], \"matches\": \"y7\", \"range\": [10.0, 310.0], \"showticklabels\": false}},\n",
       "                        {\"responsive\": true}\n",
       "                    ).then(function(){\n",
       "                            \n",
       "var gd = document.getElementById('1a247a68-6690-459b-8b0b-dd47da4cfd5f');\n",
       "var x = new MutationObserver(function (mutations, observer) {{\n",
       "        var display = window.getComputedStyle(gd).display;\n",
       "        if (!display || display === 'none') {{\n",
       "            console.log([gd, 'removed!']);\n",
       "            Plotly.purge(gd);\n",
       "            observer.disconnect();\n",
       "        }}\n",
       "}});\n",
       "\n",
       "// Listen for the removal of the full notebook cells\n",
       "var notebookContainer = gd.closest('#notebook-container');\n",
       "if (notebookContainer) {{\n",
       "    x.observe(notebookContainer, {childList: true});\n",
       "}}\n",
       "\n",
       "// Listen for the clearing of the current output cell\n",
       "var outputEl = gd.closest('.output');\n",
       "if (outputEl) {{\n",
       "    x.observe(outputEl, {childList: true});\n",
       "}}\n",
       "\n",
       "                        })\n",
       "                };\n",
       "                });\n",
       "            </script>\n",
       "        </div>"
      ]
     },
     "metadata": {},
     "output_type": "display_data"
    }
   ],
   "source": [
    "optuna.visualization.plot_contour(study,params=[\"n_estimators\", \"max_depth\",\"min_samples_split\"])"
   ]
  },
  {
   "cell_type": "code",
   "execution_count": 23,
   "metadata": {},
   "outputs": [
    {
     "name": "stdout",
     "output_type": "stream",
     "text": [
      "0.6335025380710659\n",
      "{'min_samples_split': 8, 'max_leaf_nodes': 40.0, 'criterion': 'entropy', 'n_estimators': 310.0, 'max_depth': 7}\n"
     ]
    }
   ],
   "source": [
    "print(1-study.best_value)\n",
    "print(study.best_params)"
   ]
  },
  {
   "cell_type": "code",
   "execution_count": 24,
   "metadata": {},
   "outputs": [
    {
     "data": {
      "text/plain": [
       "0.3817258883248731"
      ]
     },
     "execution_count": 24,
     "metadata": {},
     "output_type": "execute_result"
    }
   ],
   "source": [
    "1-0.6182741116751269"
   ]
  },
  {
   "cell_type": "code",
   "execution_count": 20,
   "metadata": {},
   "outputs": [
    {
     "data": {
      "application/vnd.plotly.v1+json": {
       "config": {
        "plotlyServerURL": "https://plot.ly"
       },
       "data": [
        {
         "type": "scatter",
         "xaxis": "x",
         "yaxis": "y"
        },
        {
         "colorbar": {
          "title": {
           "text": "Objective Value"
          }
         },
         "colorscale": [
          [
           0,
           "rgb(220,220,220)"
          ],
          [
           0.30000000000000004,
           "rgb(106,137,247)"
          ],
          [
           0.4,
           "rgb(90,120,245)"
          ],
          [
           0.5,
           "rgb(70,100,245)"
          ],
          [
           0.65,
           "rgb(40,60,190)"
          ],
          [
           1,
           "rgb(5,10,172)"
          ]
         ],
         "connectgaps": true,
         "contours": {
          "coloring": "heatmap"
         },
         "hoverinfo": "none",
         "line": {
          "smoothing": 1.3
         },
         "showscale": true,
         "type": "contour",
         "x": [
          "entropy",
          "gini"
         ],
         "xaxis": "x4",
         "y": [
          2,
          3,
          4,
          5,
          6,
          7,
          8,
          9,
          10,
          11,
          12,
          13,
          14,
          15,
          16
         ],
         "yaxis": "y4",
         "z": [
          [
           null,
           0.3928934010152284
          ],
          [
           0.40203045685279193,
           null
          ],
          [
           0.398984771573604,
           0.3898477157360406
          ],
          [
           null,
           0.3898477157360406
          ],
          [
           0.3878172588832487,
           0.3847715736040609
          ],
          [
           null,
           0.3817258883248731
          ],
          [
           0.3878172588832487,
           0.3898477157360406
          ],
          [
           null,
           0.3908629441624365
          ],
          [
           0.3878172588832487,
           0.383756345177665
          ],
          [
           null,
           0.3928934010152284
          ],
          [
           0.3949238578680203,
           0.383756345177665
          ],
          [
           0.3949238578680203,
           0.3928934010152284
          ],
          [
           null,
           0.383756345177665
          ],
          [
           null,
           0.3928934010152284
          ],
          [
           null,
           0.4
          ]
         ]
        },
        {
         "marker": {
          "color": "black"
         },
         "mode": "markers",
         "showlegend": false,
         "type": "scatter",
         "x": [
          "gini",
          "entropy",
          "entropy",
          "gini",
          "gini",
          "gini",
          "gini",
          "entropy",
          "entropy",
          "gini",
          "gini",
          "gini",
          "gini",
          "gini",
          "gini",
          "gini",
          "gini",
          "gini",
          "gini",
          "gini",
          "gini",
          "gini",
          "gini",
          "gini",
          "gini",
          "gini",
          "gini",
          "entropy",
          "gini",
          "gini",
          "gini",
          "gini",
          "gini",
          "gini",
          "entropy",
          "gini",
          "gini",
          "gini",
          "entropy",
          "gini",
          "gini",
          "gini",
          "gini",
          "gini",
          "gini",
          "gini",
          "gini",
          "entropy",
          "gini",
          "gini",
          "gini",
          "gini",
          "gini",
          "gini",
          "gini",
          "gini",
          "gini",
          "gini",
          "gini",
          "gini",
          "gini",
          "gini",
          "gini",
          "gini",
          "gini",
          "gini",
          "gini",
          "gini",
          "gini",
          "entropy",
          "gini",
          "gini",
          "gini",
          "gini",
          "gini",
          "gini",
          "gini",
          "gini",
          "gini",
          "gini",
          "gini",
          "gini",
          "gini",
          "gini",
          "gini",
          "gini",
          "gini",
          "gini",
          "gini",
          "entropy",
          "gini",
          "gini",
          "gini",
          "gini",
          "gini",
          "gini",
          "gini",
          "gini",
          "gini",
          "gini"
         ],
         "xaxis": "x4",
         "y": [
          13,
          13,
          13,
          11,
          9,
          12,
          9,
          3,
          6,
          12,
          6,
          15,
          16,
          16,
          2,
          6,
          9,
          4,
          16,
          8,
          15,
          14,
          10,
          10,
          7,
          10,
          8,
          4,
          8,
          8,
          10,
          8,
          7,
          11,
          8,
          5,
          7,
          11,
          12,
          5,
          8,
          8,
          9,
          7,
          9,
          10,
          9,
          8,
          7,
          6,
          11,
          8,
          8,
          8,
          6,
          5,
          6,
          14,
          7,
          9,
          6,
          9,
          10,
          9,
          8,
          7,
          8,
          7,
          8,
          10,
          13,
          8,
          8,
          9,
          9,
          11,
          11,
          12,
          6,
          7,
          7,
          7,
          8,
          8,
          10,
          9,
          9,
          10,
          9,
          8,
          4,
          8,
          11,
          10,
          11,
          7,
          6,
          5,
          9,
          9
         ],
         "yaxis": "y4"
        },
        {
         "colorbar": {
          "title": {
           "text": "Objective Value"
          }
         },
         "colorscale": [
          [
           0,
           "rgb(220,220,220)"
          ],
          [
           0.30000000000000004,
           "rgb(106,137,247)"
          ],
          [
           0.4,
           "rgb(90,120,245)"
          ],
          [
           0.5,
           "rgb(70,100,245)"
          ],
          [
           0.65,
           "rgb(40,60,190)"
          ],
          [
           1,
           "rgb(5,10,172)"
          ]
         ],
         "connectgaps": true,
         "contours": {
          "coloring": "heatmap"
         },
         "hoverinfo": "none",
         "line": {
          "smoothing": 1.3
         },
         "showscale": false,
         "type": "contour",
         "x": [
          "entropy",
          "gini"
         ],
         "xaxis": "x7",
         "y": [
          10,
          40,
          70,
          100,
          130,
          160,
          190,
          220,
          250,
          280,
          310
         ],
         "yaxis": "y7",
         "z": [
          [
           null,
           0.4
          ],
          [
           null,
           0.3959390862944162
          ],
          [
           0.40203045685279193,
           0.3888324873096447
          ],
          [
           null,
           0.3898477157360406
          ],
          [
           0.4,
           0.3888324873096447
          ],
          [
           0.398984771573604,
           0.3898477157360406
          ],
          [
           0.3878172588832487,
           0.3908629441624365
          ],
          [
           0.3979695431472081,
           0.3817258883248731
          ],
          [
           0.3878172588832487,
           0.3928934010152284
          ],
          [
           0.3949238578680203,
           0.3847715736040609
          ],
          [
           null,
           0.3928934010152284
          ]
         ]
        },
        {
         "marker": {
          "color": "black"
         },
         "mode": "markers",
         "showlegend": false,
         "type": "scatter",
         "x": [
          "gini",
          "entropy",
          "entropy",
          "gini",
          "gini",
          "gini",
          "gini",
          "entropy",
          "entropy",
          "gini",
          "gini",
          "gini",
          "gini",
          "gini",
          "gini",
          "gini",
          "gini",
          "gini",
          "gini",
          "gini",
          "gini",
          "gini",
          "gini",
          "gini",
          "gini",
          "gini",
          "gini",
          "entropy",
          "gini",
          "gini",
          "gini",
          "gini",
          "gini",
          "gini",
          "entropy",
          "gini",
          "gini",
          "gini",
          "entropy",
          "gini",
          "gini",
          "gini",
          "gini",
          "gini",
          "gini",
          "gini",
          "gini",
          "entropy",
          "gini",
          "gini",
          "gini",
          "gini",
          "gini",
          "gini",
          "gini",
          "gini",
          "gini",
          "gini",
          "gini",
          "gini",
          "gini",
          "gini",
          "gini",
          "gini",
          "gini",
          "gini",
          "gini",
          "gini",
          "gini",
          "entropy",
          "gini",
          "gini",
          "gini",
          "gini",
          "gini",
          "gini",
          "gini",
          "gini",
          "gini",
          "gini",
          "gini",
          "gini",
          "gini",
          "gini",
          "gini",
          "gini",
          "gini",
          "gini",
          "gini",
          "entropy",
          "gini",
          "gini",
          "gini",
          "gini",
          "gini",
          "gini",
          "gini",
          "gini",
          "gini",
          "gini"
         ],
         "xaxis": "x7",
         "y": [
          280,
          280,
          280,
          130,
          250,
          160,
          130,
          70,
          190,
          70,
          220,
          310,
          250,
          220,
          250,
          310,
          220,
          250,
          10,
          190,
          310,
          280,
          250,
          250,
          190,
          250,
          220,
          160,
          220,
          220,
          190,
          220,
          220,
          280,
          130,
          280,
          160,
          250,
          280,
          190,
          220,
          220,
          190,
          220,
          160,
          280,
          130,
          220,
          190,
          250,
          220,
          250,
          250,
          220,
          220,
          310,
          280,
          190,
          250,
          250,
          220,
          250,
          280,
          250,
          250,
          220,
          190,
          220,
          190,
          250,
          310,
          220,
          220,
          220,
          160,
          250,
          250,
          280,
          220,
          250,
          280,
          250,
          220,
          190,
          220,
          250,
          250,
          280,
          40,
          250,
          220,
          100,
          250,
          190,
          250,
          220,
          280,
          220,
          220,
          190
         ],
         "yaxis": "y7"
        },
        {
         "colorbar": {
          "title": {
           "text": "Objective Value"
          }
         },
         "colorscale": [
          [
           0,
           "rgb(220,220,220)"
          ],
          [
           0.30000000000000004,
           "rgb(106,137,247)"
          ],
          [
           0.4,
           "rgb(90,120,245)"
          ],
          [
           0.5,
           "rgb(70,100,245)"
          ],
          [
           0.65,
           "rgb(40,60,190)"
          ],
          [
           1,
           "rgb(5,10,172)"
          ]
         ],
         "connectgaps": true,
         "contours": {
          "coloring": "heatmap"
         },
         "hoverinfo": "none",
         "line": {
          "smoothing": 1.3
         },
         "showscale": false,
         "type": "contour",
         "x": [
          2,
          3,
          4,
          5,
          6,
          7,
          8,
          9,
          10,
          11,
          12,
          13,
          14,
          15,
          16
         ],
         "xaxis": "x2",
         "y": [
          "entropy",
          "gini"
         ],
         "yaxis": "y2",
         "z": [
          [
           null,
           0.40203045685279193,
           0.398984771573604,
           null,
           0.3878172588832487,
           null,
           0.3878172588832487,
           null,
           0.3878172588832487,
           null,
           0.3949238578680203,
           0.3949238578680203,
           null,
           null,
           null
          ],
          [
           0.3928934010152284,
           null,
           0.3898477157360406,
           0.3898477157360406,
           0.3847715736040609,
           0.3817258883248731,
           0.3898477157360406,
           0.3908629441624365,
           0.383756345177665,
           0.3928934010152284,
           0.383756345177665,
           0.3928934010152284,
           0.383756345177665,
           0.3928934010152284,
           0.4
          ]
         ]
        },
        {
         "marker": {
          "color": "black"
         },
         "mode": "markers",
         "showlegend": false,
         "type": "scatter",
         "x": [
          13,
          13,
          13,
          11,
          9,
          12,
          9,
          3,
          6,
          12,
          6,
          15,
          16,
          16,
          2,
          6,
          9,
          4,
          16,
          8,
          15,
          14,
          10,
          10,
          7,
          10,
          8,
          4,
          8,
          8,
          10,
          8,
          7,
          11,
          8,
          5,
          7,
          11,
          12,
          5,
          8,
          8,
          9,
          7,
          9,
          10,
          9,
          8,
          7,
          6,
          11,
          8,
          8,
          8,
          6,
          5,
          6,
          14,
          7,
          9,
          6,
          9,
          10,
          9,
          8,
          7,
          8,
          7,
          8,
          10,
          13,
          8,
          8,
          9,
          9,
          11,
          11,
          12,
          6,
          7,
          7,
          7,
          8,
          8,
          10,
          9,
          9,
          10,
          9,
          8,
          4,
          8,
          11,
          10,
          11,
          7,
          6,
          5,
          9,
          9
         ],
         "xaxis": "x2",
         "y": [
          "gini",
          "entropy",
          "entropy",
          "gini",
          "gini",
          "gini",
          "gini",
          "entropy",
          "entropy",
          "gini",
          "gini",
          "gini",
          "gini",
          "gini",
          "gini",
          "gini",
          "gini",
          "gini",
          "gini",
          "gini",
          "gini",
          "gini",
          "gini",
          "gini",
          "gini",
          "gini",
          "gini",
          "entropy",
          "gini",
          "gini",
          "gini",
          "gini",
          "gini",
          "gini",
          "entropy",
          "gini",
          "gini",
          "gini",
          "entropy",
          "gini",
          "gini",
          "gini",
          "gini",
          "gini",
          "gini",
          "gini",
          "gini",
          "entropy",
          "gini",
          "gini",
          "gini",
          "gini",
          "gini",
          "gini",
          "gini",
          "gini",
          "gini",
          "gini",
          "gini",
          "gini",
          "gini",
          "gini",
          "gini",
          "gini",
          "gini",
          "gini",
          "gini",
          "gini",
          "gini",
          "entropy",
          "gini",
          "gini",
          "gini",
          "gini",
          "gini",
          "gini",
          "gini",
          "gini",
          "gini",
          "gini",
          "gini",
          "gini",
          "gini",
          "gini",
          "gini",
          "gini",
          "gini",
          "gini",
          "gini",
          "entropy",
          "gini",
          "gini",
          "gini",
          "gini",
          "gini",
          "gini",
          "gini",
          "gini",
          "gini",
          "gini"
         ],
         "yaxis": "y2"
        },
        {
         "type": "scatter",
         "xaxis": "x5",
         "yaxis": "y5"
        },
        {
         "colorbar": {
          "title": {
           "text": "Objective Value"
          }
         },
         "colorscale": [
          [
           0,
           "rgb(220,220,220)"
          ],
          [
           0.30000000000000004,
           "rgb(106,137,247)"
          ],
          [
           0.4,
           "rgb(90,120,245)"
          ],
          [
           0.5,
           "rgb(70,100,245)"
          ],
          [
           0.65,
           "rgb(40,60,190)"
          ],
          [
           1,
           "rgb(5,10,172)"
          ]
         ],
         "connectgaps": true,
         "contours": {
          "coloring": "heatmap"
         },
         "hoverinfo": "none",
         "line": {
          "smoothing": 1.3
         },
         "showscale": false,
         "type": "contour",
         "x": [
          2,
          3,
          4,
          5,
          6,
          7,
          8,
          9,
          10,
          11,
          12,
          13,
          14,
          15,
          16
         ],
         "xaxis": "x8",
         "y": [
          10,
          40,
          70,
          100,
          130,
          160,
          190,
          220,
          250,
          280,
          310
         ],
         "yaxis": "y8",
         "z": [
          [
           null,
           null,
           null,
           null,
           null,
           null,
           null,
           null,
           null,
           null,
           null,
           null,
           null,
           null,
           0.4
          ],
          [
           null,
           null,
           null,
           null,
           null,
           null,
           null,
           0.3959390862944162,
           null,
           null,
           null,
           null,
           null,
           null,
           null
          ],
          [
           null,
           0.40203045685279193,
           null,
           null,
           null,
           null,
           null,
           null,
           null,
           null,
           0.3888324873096447,
           null,
           null,
           null,
           null
          ],
          [
           null,
           null,
           null,
           null,
           null,
           null,
           0.3898477157360406,
           null,
           null,
           null,
           null,
           null,
           null,
           null,
           null
          ],
          [
           null,
           null,
           null,
           null,
           null,
           null,
           0.4,
           0.3888324873096447,
           null,
           0.3888324873096447,
           null,
           null,
           null,
           null,
           null
          ],
          [
           null,
           null,
           0.398984771573604,
           null,
           null,
           0.3969543147208122,
           null,
           0.3898477157360406,
           null,
           null,
           0.3928934010152284,
           null,
           null,
           null,
           null
          ],
          [
           null,
           null,
           null,
           0.3949238578680203,
           0.3878172588832487,
           0.3918781725888325,
           0.383756345177665,
           0.3908629441624365,
           0.383756345177665,
           null,
           null,
           null,
           0.383756345177665,
           null,
           null
          ],
          [
           null,
           null,
           0.3898477157360406,
           0.3898477157360406,
           0.40507614213197973,
           0.3817258883248731,
           0.3817258883248731,
           0.3817258883248731,
           0.3898477157360406,
           0.3908629441624365,
           null,
           null,
           null,
           null,
           0.3979695431472081
          ],
          [
           0.3928934010152284,
           null,
           0.3918781725888325,
           null,
           0.3918781725888325,
           0.3817258883248731,
           0.3878172588832487,
           0.3817258883248731,
           0.3878172588832487,
           0.3928934010152284,
           null,
           null,
           null,
           null,
           0.3817258883248731
          ],
          [
           null,
           null,
           null,
           0.383756345177665,
           0.3847715736040609,
           0.383756345177665,
           null,
           null,
           0.3918781725888325,
           0.383756345177665,
           0.383756345177665,
           0.3949238578680203,
           0.383756345177665,
           null,
           null
          ],
          [
           null,
           null,
           null,
           0.3959390862944162,
           0.3928934010152284,
           null,
           null,
           null,
           null,
           null,
           null,
           0.3928934010152284,
           null,
           0.3928934010152284,
           null
          ]
         ]
        },
        {
         "marker": {
          "color": "black"
         },
         "mode": "markers",
         "showlegend": false,
         "type": "scatter",
         "x": [
          13,
          13,
          13,
          11,
          9,
          12,
          9,
          3,
          6,
          12,
          6,
          15,
          16,
          16,
          2,
          6,
          9,
          4,
          16,
          8,
          15,
          14,
          10,
          10,
          7,
          10,
          8,
          4,
          8,
          8,
          10,
          8,
          7,
          11,
          8,
          5,
          7,
          11,
          12,
          5,
          8,
          8,
          9,
          7,
          9,
          10,
          9,
          8,
          7,
          6,
          11,
          8,
          8,
          8,
          6,
          5,
          6,
          14,
          7,
          9,
          6,
          9,
          10,
          9,
          8,
          7,
          8,
          7,
          8,
          10,
          13,
          8,
          8,
          9,
          9,
          11,
          11,
          12,
          6,
          7,
          7,
          7,
          8,
          8,
          10,
          9,
          9,
          10,
          9,
          8,
          4,
          8,
          11,
          10,
          11,
          7,
          6,
          5,
          9,
          9
         ],
         "xaxis": "x8",
         "y": [
          280,
          280,
          280,
          130,
          250,
          160,
          130,
          70,
          190,
          70,
          220,
          310,
          250,
          220,
          250,
          310,
          220,
          250,
          10,
          190,
          310,
          280,
          250,
          250,
          190,
          250,
          220,
          160,
          220,
          220,
          190,
          220,
          220,
          280,
          130,
          280,
          160,
          250,
          280,
          190,
          220,
          220,
          190,
          220,
          160,
          280,
          130,
          220,
          190,
          250,
          220,
          250,
          250,
          220,
          220,
          310,
          280,
          190,
          250,
          250,
          220,
          250,
          280,
          250,
          250,
          220,
          190,
          220,
          190,
          250,
          310,
          220,
          220,
          220,
          160,
          250,
          250,
          280,
          220,
          250,
          280,
          250,
          220,
          190,
          220,
          250,
          250,
          280,
          40,
          250,
          220,
          100,
          250,
          190,
          250,
          220,
          280,
          220,
          220,
          190
         ],
         "yaxis": "y8"
        },
        {
         "colorbar": {
          "title": {
           "text": "Objective Value"
          }
         },
         "colorscale": [
          [
           0,
           "rgb(220,220,220)"
          ],
          [
           0.30000000000000004,
           "rgb(106,137,247)"
          ],
          [
           0.4,
           "rgb(90,120,245)"
          ],
          [
           0.5,
           "rgb(70,100,245)"
          ],
          [
           0.65,
           "rgb(40,60,190)"
          ],
          [
           1,
           "rgb(5,10,172)"
          ]
         ],
         "connectgaps": true,
         "contours": {
          "coloring": "heatmap"
         },
         "hoverinfo": "none",
         "line": {
          "smoothing": 1.3
         },
         "showscale": false,
         "type": "contour",
         "x": [
          10,
          40,
          70,
          100,
          130,
          160,
          190,
          220,
          250,
          280,
          310
         ],
         "xaxis": "x3",
         "y": [
          "entropy",
          "gini"
         ],
         "yaxis": "y3",
         "z": [
          [
           null,
           null,
           0.40203045685279193,
           null,
           0.4,
           0.398984771573604,
           0.3878172588832487,
           0.3979695431472081,
           0.3878172588832487,
           0.3949238578680203,
           null
          ],
          [
           0.4,
           0.3959390862944162,
           0.3888324873096447,
           0.3898477157360406,
           0.3888324873096447,
           0.3898477157360406,
           0.3908629441624365,
           0.3817258883248731,
           0.3928934010152284,
           0.3847715736040609,
           0.3928934010152284
          ]
         ]
        },
        {
         "marker": {
          "color": "black"
         },
         "mode": "markers",
         "showlegend": false,
         "type": "scatter",
         "x": [
          280,
          280,
          280,
          130,
          250,
          160,
          130,
          70,
          190,
          70,
          220,
          310,
          250,
          220,
          250,
          310,
          220,
          250,
          10,
          190,
          310,
          280,
          250,
          250,
          190,
          250,
          220,
          160,
          220,
          220,
          190,
          220,
          220,
          280,
          130,
          280,
          160,
          250,
          280,
          190,
          220,
          220,
          190,
          220,
          160,
          280,
          130,
          220,
          190,
          250,
          220,
          250,
          250,
          220,
          220,
          310,
          280,
          190,
          250,
          250,
          220,
          250,
          280,
          250,
          250,
          220,
          190,
          220,
          190,
          250,
          310,
          220,
          220,
          220,
          160,
          250,
          250,
          280,
          220,
          250,
          280,
          250,
          220,
          190,
          220,
          250,
          250,
          280,
          40,
          250,
          220,
          100,
          250,
          190,
          250,
          220,
          280,
          220,
          220,
          190
         ],
         "xaxis": "x3",
         "y": [
          "gini",
          "entropy",
          "entropy",
          "gini",
          "gini",
          "gini",
          "gini",
          "entropy",
          "entropy",
          "gini",
          "gini",
          "gini",
          "gini",
          "gini",
          "gini",
          "gini",
          "gini",
          "gini",
          "gini",
          "gini",
          "gini",
          "gini",
          "gini",
          "gini",
          "gini",
          "gini",
          "gini",
          "entropy",
          "gini",
          "gini",
          "gini",
          "gini",
          "gini",
          "gini",
          "entropy",
          "gini",
          "gini",
          "gini",
          "entropy",
          "gini",
          "gini",
          "gini",
          "gini",
          "gini",
          "gini",
          "gini",
          "gini",
          "entropy",
          "gini",
          "gini",
          "gini",
          "gini",
          "gini",
          "gini",
          "gini",
          "gini",
          "gini",
          "gini",
          "gini",
          "gini",
          "gini",
          "gini",
          "gini",
          "gini",
          "gini",
          "gini",
          "gini",
          "gini",
          "gini",
          "entropy",
          "gini",
          "gini",
          "gini",
          "gini",
          "gini",
          "gini",
          "gini",
          "gini",
          "gini",
          "gini",
          "gini",
          "gini",
          "gini",
          "gini",
          "gini",
          "gini",
          "gini",
          "gini",
          "gini",
          "entropy",
          "gini",
          "gini",
          "gini",
          "gini",
          "gini",
          "gini",
          "gini",
          "gini",
          "gini",
          "gini"
         ],
         "yaxis": "y3"
        },
        {
         "colorbar": {
          "title": {
           "text": "Objective Value"
          }
         },
         "colorscale": [
          [
           0,
           "rgb(220,220,220)"
          ],
          [
           0.30000000000000004,
           "rgb(106,137,247)"
          ],
          [
           0.4,
           "rgb(90,120,245)"
          ],
          [
           0.5,
           "rgb(70,100,245)"
          ],
          [
           0.65,
           "rgb(40,60,190)"
          ],
          [
           1,
           "rgb(5,10,172)"
          ]
         ],
         "connectgaps": true,
         "contours": {
          "coloring": "heatmap"
         },
         "hoverinfo": "none",
         "line": {
          "smoothing": 1.3
         },
         "showscale": false,
         "type": "contour",
         "x": [
          10,
          40,
          70,
          100,
          130,
          160,
          190,
          220,
          250,
          280,
          310
         ],
         "xaxis": "x6",
         "y": [
          2,
          3,
          4,
          5,
          6,
          7,
          8,
          9,
          10,
          11,
          12,
          13,
          14,
          15,
          16
         ],
         "yaxis": "y6",
         "z": [
          [
           null,
           null,
           null,
           null,
           null,
           null,
           null,
           null,
           0.3928934010152284,
           null,
           null
          ],
          [
           null,
           null,
           0.40203045685279193,
           null,
           null,
           null,
           null,
           null,
           null,
           null,
           null
          ],
          [
           null,
           null,
           null,
           null,
           null,
           0.398984771573604,
           null,
           0.3898477157360406,
           0.3918781725888325,
           null,
           null
          ],
          [
           null,
           null,
           null,
           null,
           null,
           null,
           0.3949238578680203,
           0.3898477157360406,
           null,
           0.383756345177665,
           0.3959390862944162
          ],
          [
           null,
           null,
           null,
           null,
           null,
           null,
           0.3878172588832487,
           0.40507614213197973,
           0.3918781725888325,
           0.3847715736040609,
           0.3928934010152284
          ],
          [
           null,
           null,
           null,
           null,
           null,
           0.3969543147208122,
           0.3918781725888325,
           0.3817258883248731,
           0.3817258883248731,
           0.383756345177665,
           null
          ],
          [
           null,
           null,
           null,
           0.3898477157360406,
           0.4,
           null,
           0.383756345177665,
           0.3817258883248731,
           0.3878172588832487,
           null,
           null
          ],
          [
           null,
           0.3959390862944162,
           null,
           null,
           0.3888324873096447,
           0.3898477157360406,
           0.3908629441624365,
           0.3817258883248731,
           0.3817258883248731,
           null,
           null
          ],
          [
           null,
           null,
           null,
           null,
           null,
           null,
           0.383756345177665,
           0.3898477157360406,
           0.3878172588832487,
           0.3918781725888325,
           null
          ],
          [
           null,
           null,
           null,
           null,
           0.3888324873096447,
           null,
           null,
           0.3908629441624365,
           0.3928934010152284,
           0.383756345177665,
           null
          ],
          [
           null,
           null,
           0.3888324873096447,
           null,
           null,
           0.3928934010152284,
           null,
           null,
           null,
           0.383756345177665,
           null
          ],
          [
           null,
           null,
           null,
           null,
           null,
           null,
           null,
           null,
           null,
           0.3949238578680203,
           0.3928934010152284
          ],
          [
           null,
           null,
           null,
           null,
           null,
           null,
           0.383756345177665,
           null,
           null,
           0.383756345177665,
           null
          ],
          [
           null,
           null,
           null,
           null,
           null,
           null,
           null,
           null,
           null,
           null,
           0.3928934010152284
          ],
          [
           0.4,
           null,
           null,
           null,
           null,
           null,
           null,
           0.3979695431472081,
           0.3817258883248731,
           null,
           null
          ]
         ]
        },
        {
         "marker": {
          "color": "black"
         },
         "mode": "markers",
         "showlegend": false,
         "type": "scatter",
         "x": [
          280,
          280,
          280,
          130,
          250,
          160,
          130,
          70,
          190,
          70,
          220,
          310,
          250,
          220,
          250,
          310,
          220,
          250,
          10,
          190,
          310,
          280,
          250,
          250,
          190,
          250,
          220,
          160,
          220,
          220,
          190,
          220,
          220,
          280,
          130,
          280,
          160,
          250,
          280,
          190,
          220,
          220,
          190,
          220,
          160,
          280,
          130,
          220,
          190,
          250,
          220,
          250,
          250,
          220,
          220,
          310,
          280,
          190,
          250,
          250,
          220,
          250,
          280,
          250,
          250,
          220,
          190,
          220,
          190,
          250,
          310,
          220,
          220,
          220,
          160,
          250,
          250,
          280,
          220,
          250,
          280,
          250,
          220,
          190,
          220,
          250,
          250,
          280,
          40,
          250,
          220,
          100,
          250,
          190,
          250,
          220,
          280,
          220,
          220,
          190
         ],
         "xaxis": "x6",
         "y": [
          13,
          13,
          13,
          11,
          9,
          12,
          9,
          3,
          6,
          12,
          6,
          15,
          16,
          16,
          2,
          6,
          9,
          4,
          16,
          8,
          15,
          14,
          10,
          10,
          7,
          10,
          8,
          4,
          8,
          8,
          10,
          8,
          7,
          11,
          8,
          5,
          7,
          11,
          12,
          5,
          8,
          8,
          9,
          7,
          9,
          10,
          9,
          8,
          7,
          6,
          11,
          8,
          8,
          8,
          6,
          5,
          6,
          14,
          7,
          9,
          6,
          9,
          10,
          9,
          8,
          7,
          8,
          7,
          8,
          10,
          13,
          8,
          8,
          9,
          9,
          11,
          11,
          12,
          6,
          7,
          7,
          7,
          8,
          8,
          10,
          9,
          9,
          10,
          9,
          8,
          4,
          8,
          11,
          10,
          11,
          7,
          6,
          5,
          9,
          9
         ],
         "yaxis": "y6"
        },
        {
         "type": "scatter",
         "xaxis": "x9",
         "yaxis": "y9"
        }
       ],
       "layout": {
        "template": {
         "data": {
          "bar": [
           {
            "error_x": {
             "color": "#2a3f5f"
            },
            "error_y": {
             "color": "#2a3f5f"
            },
            "marker": {
             "line": {
              "color": "#E5ECF6",
              "width": 0.5
             }
            },
            "type": "bar"
           }
          ],
          "barpolar": [
           {
            "marker": {
             "line": {
              "color": "#E5ECF6",
              "width": 0.5
             }
            },
            "type": "barpolar"
           }
          ],
          "carpet": [
           {
            "aaxis": {
             "endlinecolor": "#2a3f5f",
             "gridcolor": "white",
             "linecolor": "white",
             "minorgridcolor": "white",
             "startlinecolor": "#2a3f5f"
            },
            "baxis": {
             "endlinecolor": "#2a3f5f",
             "gridcolor": "white",
             "linecolor": "white",
             "minorgridcolor": "white",
             "startlinecolor": "#2a3f5f"
            },
            "type": "carpet"
           }
          ],
          "choropleth": [
           {
            "colorbar": {
             "outlinewidth": 0,
             "ticks": ""
            },
            "type": "choropleth"
           }
          ],
          "contour": [
           {
            "colorbar": {
             "outlinewidth": 0,
             "ticks": ""
            },
            "colorscale": [
             [
              0,
              "#0d0887"
             ],
             [
              0.1111111111111111,
              "#46039f"
             ],
             [
              0.2222222222222222,
              "#7201a8"
             ],
             [
              0.3333333333333333,
              "#9c179e"
             ],
             [
              0.4444444444444444,
              "#bd3786"
             ],
             [
              0.5555555555555556,
              "#d8576b"
             ],
             [
              0.6666666666666666,
              "#ed7953"
             ],
             [
              0.7777777777777778,
              "#fb9f3a"
             ],
             [
              0.8888888888888888,
              "#fdca26"
             ],
             [
              1,
              "#f0f921"
             ]
            ],
            "type": "contour"
           }
          ],
          "contourcarpet": [
           {
            "colorbar": {
             "outlinewidth": 0,
             "ticks": ""
            },
            "type": "contourcarpet"
           }
          ],
          "heatmap": [
           {
            "colorbar": {
             "outlinewidth": 0,
             "ticks": ""
            },
            "colorscale": [
             [
              0,
              "#0d0887"
             ],
             [
              0.1111111111111111,
              "#46039f"
             ],
             [
              0.2222222222222222,
              "#7201a8"
             ],
             [
              0.3333333333333333,
              "#9c179e"
             ],
             [
              0.4444444444444444,
              "#bd3786"
             ],
             [
              0.5555555555555556,
              "#d8576b"
             ],
             [
              0.6666666666666666,
              "#ed7953"
             ],
             [
              0.7777777777777778,
              "#fb9f3a"
             ],
             [
              0.8888888888888888,
              "#fdca26"
             ],
             [
              1,
              "#f0f921"
             ]
            ],
            "type": "heatmap"
           }
          ],
          "heatmapgl": [
           {
            "colorbar": {
             "outlinewidth": 0,
             "ticks": ""
            },
            "colorscale": [
             [
              0,
              "#0d0887"
             ],
             [
              0.1111111111111111,
              "#46039f"
             ],
             [
              0.2222222222222222,
              "#7201a8"
             ],
             [
              0.3333333333333333,
              "#9c179e"
             ],
             [
              0.4444444444444444,
              "#bd3786"
             ],
             [
              0.5555555555555556,
              "#d8576b"
             ],
             [
              0.6666666666666666,
              "#ed7953"
             ],
             [
              0.7777777777777778,
              "#fb9f3a"
             ],
             [
              0.8888888888888888,
              "#fdca26"
             ],
             [
              1,
              "#f0f921"
             ]
            ],
            "type": "heatmapgl"
           }
          ],
          "histogram": [
           {
            "marker": {
             "colorbar": {
              "outlinewidth": 0,
              "ticks": ""
             }
            },
            "type": "histogram"
           }
          ],
          "histogram2d": [
           {
            "colorbar": {
             "outlinewidth": 0,
             "ticks": ""
            },
            "colorscale": [
             [
              0,
              "#0d0887"
             ],
             [
              0.1111111111111111,
              "#46039f"
             ],
             [
              0.2222222222222222,
              "#7201a8"
             ],
             [
              0.3333333333333333,
              "#9c179e"
             ],
             [
              0.4444444444444444,
              "#bd3786"
             ],
             [
              0.5555555555555556,
              "#d8576b"
             ],
             [
              0.6666666666666666,
              "#ed7953"
             ],
             [
              0.7777777777777778,
              "#fb9f3a"
             ],
             [
              0.8888888888888888,
              "#fdca26"
             ],
             [
              1,
              "#f0f921"
             ]
            ],
            "type": "histogram2d"
           }
          ],
          "histogram2dcontour": [
           {
            "colorbar": {
             "outlinewidth": 0,
             "ticks": ""
            },
            "colorscale": [
             [
              0,
              "#0d0887"
             ],
             [
              0.1111111111111111,
              "#46039f"
             ],
             [
              0.2222222222222222,
              "#7201a8"
             ],
             [
              0.3333333333333333,
              "#9c179e"
             ],
             [
              0.4444444444444444,
              "#bd3786"
             ],
             [
              0.5555555555555556,
              "#d8576b"
             ],
             [
              0.6666666666666666,
              "#ed7953"
             ],
             [
              0.7777777777777778,
              "#fb9f3a"
             ],
             [
              0.8888888888888888,
              "#fdca26"
             ],
             [
              1,
              "#f0f921"
             ]
            ],
            "type": "histogram2dcontour"
           }
          ],
          "mesh3d": [
           {
            "colorbar": {
             "outlinewidth": 0,
             "ticks": ""
            },
            "type": "mesh3d"
           }
          ],
          "parcoords": [
           {
            "line": {
             "colorbar": {
              "outlinewidth": 0,
              "ticks": ""
             }
            },
            "type": "parcoords"
           }
          ],
          "pie": [
           {
            "automargin": true,
            "type": "pie"
           }
          ],
          "scatter": [
           {
            "marker": {
             "colorbar": {
              "outlinewidth": 0,
              "ticks": ""
             }
            },
            "type": "scatter"
           }
          ],
          "scatter3d": [
           {
            "line": {
             "colorbar": {
              "outlinewidth": 0,
              "ticks": ""
             }
            },
            "marker": {
             "colorbar": {
              "outlinewidth": 0,
              "ticks": ""
             }
            },
            "type": "scatter3d"
           }
          ],
          "scattercarpet": [
           {
            "marker": {
             "colorbar": {
              "outlinewidth": 0,
              "ticks": ""
             }
            },
            "type": "scattercarpet"
           }
          ],
          "scattergeo": [
           {
            "marker": {
             "colorbar": {
              "outlinewidth": 0,
              "ticks": ""
             }
            },
            "type": "scattergeo"
           }
          ],
          "scattergl": [
           {
            "marker": {
             "colorbar": {
              "outlinewidth": 0,
              "ticks": ""
             }
            },
            "type": "scattergl"
           }
          ],
          "scattermapbox": [
           {
            "marker": {
             "colorbar": {
              "outlinewidth": 0,
              "ticks": ""
             }
            },
            "type": "scattermapbox"
           }
          ],
          "scatterpolar": [
           {
            "marker": {
             "colorbar": {
              "outlinewidth": 0,
              "ticks": ""
             }
            },
            "type": "scatterpolar"
           }
          ],
          "scatterpolargl": [
           {
            "marker": {
             "colorbar": {
              "outlinewidth": 0,
              "ticks": ""
             }
            },
            "type": "scatterpolargl"
           }
          ],
          "scatterternary": [
           {
            "marker": {
             "colorbar": {
              "outlinewidth": 0,
              "ticks": ""
             }
            },
            "type": "scatterternary"
           }
          ],
          "surface": [
           {
            "colorbar": {
             "outlinewidth": 0,
             "ticks": ""
            },
            "colorscale": [
             [
              0,
              "#0d0887"
             ],
             [
              0.1111111111111111,
              "#46039f"
             ],
             [
              0.2222222222222222,
              "#7201a8"
             ],
             [
              0.3333333333333333,
              "#9c179e"
             ],
             [
              0.4444444444444444,
              "#bd3786"
             ],
             [
              0.5555555555555556,
              "#d8576b"
             ],
             [
              0.6666666666666666,
              "#ed7953"
             ],
             [
              0.7777777777777778,
              "#fb9f3a"
             ],
             [
              0.8888888888888888,
              "#fdca26"
             ],
             [
              1,
              "#f0f921"
             ]
            ],
            "type": "surface"
           }
          ],
          "table": [
           {
            "cells": {
             "fill": {
              "color": "#EBF0F8"
             },
             "line": {
              "color": "white"
             }
            },
            "header": {
             "fill": {
              "color": "#C8D4E3"
             },
             "line": {
              "color": "white"
             }
            },
            "type": "table"
           }
          ]
         },
         "layout": {
          "annotationdefaults": {
           "arrowcolor": "#2a3f5f",
           "arrowhead": 0,
           "arrowwidth": 1
          },
          "coloraxis": {
           "colorbar": {
            "outlinewidth": 0,
            "ticks": ""
           }
          },
          "colorscale": {
           "diverging": [
            [
             0,
             "#8e0152"
            ],
            [
             0.1,
             "#c51b7d"
            ],
            [
             0.2,
             "#de77ae"
            ],
            [
             0.3,
             "#f1b6da"
            ],
            [
             0.4,
             "#fde0ef"
            ],
            [
             0.5,
             "#f7f7f7"
            ],
            [
             0.6,
             "#e6f5d0"
            ],
            [
             0.7,
             "#b8e186"
            ],
            [
             0.8,
             "#7fbc41"
            ],
            [
             0.9,
             "#4d9221"
            ],
            [
             1,
             "#276419"
            ]
           ],
           "sequential": [
            [
             0,
             "#0d0887"
            ],
            [
             0.1111111111111111,
             "#46039f"
            ],
            [
             0.2222222222222222,
             "#7201a8"
            ],
            [
             0.3333333333333333,
             "#9c179e"
            ],
            [
             0.4444444444444444,
             "#bd3786"
            ],
            [
             0.5555555555555556,
             "#d8576b"
            ],
            [
             0.6666666666666666,
             "#ed7953"
            ],
            [
             0.7777777777777778,
             "#fb9f3a"
            ],
            [
             0.8888888888888888,
             "#fdca26"
            ],
            [
             1,
             "#f0f921"
            ]
           ],
           "sequentialminus": [
            [
             0,
             "#0d0887"
            ],
            [
             0.1111111111111111,
             "#46039f"
            ],
            [
             0.2222222222222222,
             "#7201a8"
            ],
            [
             0.3333333333333333,
             "#9c179e"
            ],
            [
             0.4444444444444444,
             "#bd3786"
            ],
            [
             0.5555555555555556,
             "#d8576b"
            ],
            [
             0.6666666666666666,
             "#ed7953"
            ],
            [
             0.7777777777777778,
             "#fb9f3a"
            ],
            [
             0.8888888888888888,
             "#fdca26"
            ],
            [
             1,
             "#f0f921"
            ]
           ]
          },
          "colorway": [
           "#636efa",
           "#EF553B",
           "#00cc96",
           "#ab63fa",
           "#FFA15A",
           "#19d3f3",
           "#FF6692",
           "#B6E880",
           "#FF97FF",
           "#FECB52"
          ],
          "font": {
           "color": "#2a3f5f"
          },
          "geo": {
           "bgcolor": "white",
           "lakecolor": "white",
           "landcolor": "#E5ECF6",
           "showlakes": true,
           "showland": true,
           "subunitcolor": "white"
          },
          "hoverlabel": {
           "align": "left"
          },
          "hovermode": "closest",
          "mapbox": {
           "style": "light"
          },
          "paper_bgcolor": "white",
          "plot_bgcolor": "#E5ECF6",
          "polar": {
           "angularaxis": {
            "gridcolor": "white",
            "linecolor": "white",
            "ticks": ""
           },
           "bgcolor": "#E5ECF6",
           "radialaxis": {
            "gridcolor": "white",
            "linecolor": "white",
            "ticks": ""
           }
          },
          "scene": {
           "xaxis": {
            "backgroundcolor": "#E5ECF6",
            "gridcolor": "white",
            "gridwidth": 2,
            "linecolor": "white",
            "showbackground": true,
            "ticks": "",
            "zerolinecolor": "white"
           },
           "yaxis": {
            "backgroundcolor": "#E5ECF6",
            "gridcolor": "white",
            "gridwidth": 2,
            "linecolor": "white",
            "showbackground": true,
            "ticks": "",
            "zerolinecolor": "white"
           },
           "zaxis": {
            "backgroundcolor": "#E5ECF6",
            "gridcolor": "white",
            "gridwidth": 2,
            "linecolor": "white",
            "showbackground": true,
            "ticks": "",
            "zerolinecolor": "white"
           }
          },
          "shapedefaults": {
           "line": {
            "color": "#2a3f5f"
           }
          },
          "ternary": {
           "aaxis": {
            "gridcolor": "white",
            "linecolor": "white",
            "ticks": ""
           },
           "baxis": {
            "gridcolor": "white",
            "linecolor": "white",
            "ticks": ""
           },
           "bgcolor": "#E5ECF6",
           "caxis": {
            "gridcolor": "white",
            "linecolor": "white",
            "ticks": ""
           }
          },
          "title": {
           "x": 0.05
          },
          "xaxis": {
           "automargin": true,
           "gridcolor": "white",
           "linecolor": "white",
           "ticks": "",
           "title": {
            "standoff": 15
           },
           "zerolinecolor": "white",
           "zerolinewidth": 2
          },
          "yaxis": {
           "automargin": true,
           "gridcolor": "white",
           "linecolor": "white",
           "ticks": "",
           "title": {
            "standoff": 15
           },
           "zerolinecolor": "white",
           "zerolinewidth": 2
          }
         }
        },
        "title": {
         "text": "Contour Plot"
        },
        "xaxis": {
         "anchor": "y",
         "domain": [
          0,
          0.2888888888888889
         ],
         "matches": "x7",
         "range": [
          "entropy",
          "gini"
         ],
         "showticklabels": false
        },
        "xaxis2": {
         "anchor": "y2",
         "domain": [
          0.35555555555555557,
          0.6444444444444445
         ],
         "matches": "x8",
         "range": [
          2,
          16
         ],
         "showticklabels": false
        },
        "xaxis3": {
         "anchor": "y3",
         "domain": [
          0.7111111111111111,
          1
         ],
         "matches": "x9",
         "range": [
          10,
          310
         ],
         "showticklabels": false
        },
        "xaxis4": {
         "anchor": "y4",
         "domain": [
          0,
          0.2888888888888889
         ],
         "matches": "x7",
         "range": [
          "entropy",
          "gini"
         ],
         "showticklabels": false
        },
        "xaxis5": {
         "anchor": "y5",
         "domain": [
          0.35555555555555557,
          0.6444444444444445
         ],
         "matches": "x8",
         "range": [
          2,
          16
         ],
         "showticklabels": false
        },
        "xaxis6": {
         "anchor": "y6",
         "domain": [
          0.7111111111111111,
          1
         ],
         "matches": "x9",
         "range": [
          10,
          310
         ],
         "showticklabels": false
        },
        "xaxis7": {
         "anchor": "y7",
         "domain": [
          0,
          0.2888888888888889
         ],
         "range": [
          "entropy",
          "gini"
         ],
         "title": {
          "text": "criterion"
         }
        },
        "xaxis8": {
         "anchor": "y8",
         "domain": [
          0.35555555555555557,
          0.6444444444444445
         ],
         "range": [
          2,
          16
         ],
         "title": {
          "text": "min_samples_split"
         }
        },
        "xaxis9": {
         "anchor": "y9",
         "domain": [
          0.7111111111111111,
          1
         ],
         "range": [
          10,
          310
         ],
         "title": {
          "text": "n_estimators"
         }
        },
        "yaxis": {
         "anchor": "x",
         "domain": [
          0.7333333333333333,
          1
         ],
         "range": [
          "entropy",
          "gini"
         ],
         "title": {
          "text": "criterion"
         }
        },
        "yaxis2": {
         "anchor": "x2",
         "domain": [
          0.7333333333333333,
          1
         ],
         "matches": "y",
         "range": [
          "entropy",
          "gini"
         ],
         "showticklabels": false
        },
        "yaxis3": {
         "anchor": "x3",
         "domain": [
          0.7333333333333333,
          1
         ],
         "matches": "y",
         "range": [
          "entropy",
          "gini"
         ],
         "showticklabels": false
        },
        "yaxis4": {
         "anchor": "x4",
         "domain": [
          0.36666666666666664,
          0.6333333333333333
         ],
         "range": [
          2,
          16
         ],
         "title": {
          "text": "min_samples_split"
         }
        },
        "yaxis5": {
         "anchor": "x5",
         "domain": [
          0.36666666666666664,
          0.6333333333333333
         ],
         "matches": "y4",
         "range": [
          2,
          16
         ],
         "showticklabels": false
        },
        "yaxis6": {
         "anchor": "x6",
         "domain": [
          0.36666666666666664,
          0.6333333333333333
         ],
         "matches": "y4",
         "range": [
          2,
          16
         ],
         "showticklabels": false
        },
        "yaxis7": {
         "anchor": "x7",
         "domain": [
          0,
          0.26666666666666666
         ],
         "range": [
          10,
          310
         ],
         "title": {
          "text": "n_estimators"
         }
        },
        "yaxis8": {
         "anchor": "x8",
         "domain": [
          0,
          0.26666666666666666
         ],
         "matches": "y7",
         "range": [
          10,
          310
         ],
         "showticklabels": false
        },
        "yaxis9": {
         "anchor": "x9",
         "domain": [
          0,
          0.26666666666666666
         ],
         "matches": "y7",
         "range": [
          10,
          310
         ],
         "showticklabels": false
        }
       }
      },
      "text/html": [
       "<div>\n",
       "        \n",
       "        \n",
       "            <div id=\"1b785ab5-78c9-4e58-9771-d2c8f6b8991b\" class=\"plotly-graph-div\" style=\"height:525px; width:100%;\"></div>\n",
       "            <script type=\"text/javascript\">\n",
       "                require([\"plotly\"], function(Plotly) {\n",
       "                    window.PLOTLYENV=window.PLOTLYENV || {};\n",
       "                    \n",
       "                if (document.getElementById(\"1b785ab5-78c9-4e58-9771-d2c8f6b8991b\")) {\n",
       "                    Plotly.newPlot(\n",
       "                        '1b785ab5-78c9-4e58-9771-d2c8f6b8991b',\n",
       "                        [{\"type\": \"scatter\", \"xaxis\": \"x\", \"yaxis\": \"y\"}, {\"colorbar\": {\"title\": {\"text\": \"Objective Value\"}}, \"colorscale\": [[0, \"rgb(220,220,220)\"], [0.30000000000000004, \"rgb(106,137,247)\"], [0.4, \"rgb(90,120,245)\"], [0.5, \"rgb(70,100,245)\"], [0.65, \"rgb(40,60,190)\"], [1, \"rgb(5,10,172)\"]], \"connectgaps\": true, \"contours\": {\"coloring\": \"heatmap\"}, \"hoverinfo\": \"none\", \"line\": {\"smoothing\": 1.3}, \"showscale\": true, \"type\": \"contour\", \"x\": [\"entropy\", \"gini\"], \"xaxis\": \"x4\", \"y\": [2, 3, 4, 5, 6, 7, 8, 9, 10, 11, 12, 13, 14, 15, 16], \"yaxis\": \"y4\", \"z\": [[null, 0.3928934010152284], [0.40203045685279193, null], [0.398984771573604, 0.3898477157360406], [null, 0.3898477157360406], [0.3878172588832487, 0.3847715736040609], [null, 0.3817258883248731], [0.3878172588832487, 0.3898477157360406], [null, 0.3908629441624365], [0.3878172588832487, 0.383756345177665], [null, 0.3928934010152284], [0.3949238578680203, 0.383756345177665], [0.3949238578680203, 0.3928934010152284], [null, 0.383756345177665], [null, 0.3928934010152284], [null, 0.4]]}, {\"marker\": {\"color\": \"black\"}, \"mode\": \"markers\", \"showlegend\": false, \"type\": \"scatter\", \"x\": [\"gini\", \"entropy\", \"entropy\", \"gini\", \"gini\", \"gini\", \"gini\", \"entropy\", \"entropy\", \"gini\", \"gini\", \"gini\", \"gini\", \"gini\", \"gini\", \"gini\", \"gini\", \"gini\", \"gini\", \"gini\", \"gini\", \"gini\", \"gini\", \"gini\", \"gini\", \"gini\", \"gini\", \"entropy\", \"gini\", \"gini\", \"gini\", \"gini\", \"gini\", \"gini\", \"entropy\", \"gini\", \"gini\", \"gini\", \"entropy\", \"gini\", \"gini\", \"gini\", \"gini\", \"gini\", \"gini\", \"gini\", \"gini\", \"entropy\", \"gini\", \"gini\", \"gini\", \"gini\", \"gini\", \"gini\", \"gini\", \"gini\", \"gini\", \"gini\", \"gini\", \"gini\", \"gini\", \"gini\", \"gini\", \"gini\", \"gini\", \"gini\", \"gini\", \"gini\", \"gini\", \"entropy\", \"gini\", \"gini\", \"gini\", \"gini\", \"gini\", \"gini\", \"gini\", \"gini\", \"gini\", \"gini\", \"gini\", \"gini\", \"gini\", \"gini\", \"gini\", \"gini\", \"gini\", \"gini\", \"gini\", \"entropy\", \"gini\", \"gini\", \"gini\", \"gini\", \"gini\", \"gini\", \"gini\", \"gini\", \"gini\", \"gini\"], \"xaxis\": \"x4\", \"y\": [13, 13, 13, 11, 9, 12, 9, 3, 6, 12, 6, 15, 16, 16, 2, 6, 9, 4, 16, 8, 15, 14, 10, 10, 7, 10, 8, 4, 8, 8, 10, 8, 7, 11, 8, 5, 7, 11, 12, 5, 8, 8, 9, 7, 9, 10, 9, 8, 7, 6, 11, 8, 8, 8, 6, 5, 6, 14, 7, 9, 6, 9, 10, 9, 8, 7, 8, 7, 8, 10, 13, 8, 8, 9, 9, 11, 11, 12, 6, 7, 7, 7, 8, 8, 10, 9, 9, 10, 9, 8, 4, 8, 11, 10, 11, 7, 6, 5, 9, 9], \"yaxis\": \"y4\"}, {\"colorbar\": {\"title\": {\"text\": \"Objective Value\"}}, \"colorscale\": [[0, \"rgb(220,220,220)\"], [0.30000000000000004, \"rgb(106,137,247)\"], [0.4, \"rgb(90,120,245)\"], [0.5, \"rgb(70,100,245)\"], [0.65, \"rgb(40,60,190)\"], [1, \"rgb(5,10,172)\"]], \"connectgaps\": true, \"contours\": {\"coloring\": \"heatmap\"}, \"hoverinfo\": \"none\", \"line\": {\"smoothing\": 1.3}, \"showscale\": false, \"type\": \"contour\", \"x\": [\"entropy\", \"gini\"], \"xaxis\": \"x7\", \"y\": [10.0, 40.0, 70.0, 100.0, 130.0, 160.0, 190.0, 220.0, 250.0, 280.0, 310.0], \"yaxis\": \"y7\", \"z\": [[null, 0.4], [null, 0.3959390862944162], [0.40203045685279193, 0.3888324873096447], [null, 0.3898477157360406], [0.4, 0.3888324873096447], [0.398984771573604, 0.3898477157360406], [0.3878172588832487, 0.3908629441624365], [0.3979695431472081, 0.3817258883248731], [0.3878172588832487, 0.3928934010152284], [0.3949238578680203, 0.3847715736040609], [null, 0.3928934010152284]]}, {\"marker\": {\"color\": \"black\"}, \"mode\": \"markers\", \"showlegend\": false, \"type\": \"scatter\", \"x\": [\"gini\", \"entropy\", \"entropy\", \"gini\", \"gini\", \"gini\", \"gini\", \"entropy\", \"entropy\", \"gini\", \"gini\", \"gini\", \"gini\", \"gini\", \"gini\", \"gini\", \"gini\", \"gini\", \"gini\", \"gini\", \"gini\", \"gini\", \"gini\", \"gini\", \"gini\", \"gini\", \"gini\", \"entropy\", \"gini\", \"gini\", \"gini\", \"gini\", \"gini\", \"gini\", \"entropy\", \"gini\", \"gini\", \"gini\", \"entropy\", \"gini\", \"gini\", \"gini\", \"gini\", \"gini\", \"gini\", \"gini\", \"gini\", \"entropy\", \"gini\", \"gini\", \"gini\", \"gini\", \"gini\", \"gini\", \"gini\", \"gini\", \"gini\", \"gini\", \"gini\", \"gini\", \"gini\", \"gini\", \"gini\", \"gini\", \"gini\", \"gini\", \"gini\", \"gini\", \"gini\", \"entropy\", \"gini\", \"gini\", \"gini\", \"gini\", \"gini\", \"gini\", \"gini\", \"gini\", \"gini\", \"gini\", \"gini\", \"gini\", \"gini\", \"gini\", \"gini\", \"gini\", \"gini\", \"gini\", \"gini\", \"entropy\", \"gini\", \"gini\", \"gini\", \"gini\", \"gini\", \"gini\", \"gini\", \"gini\", \"gini\", \"gini\"], \"xaxis\": \"x7\", \"y\": [280.0, 280.0, 280.0, 130.0, 250.0, 160.0, 130.0, 70.0, 190.0, 70.0, 220.0, 310.0, 250.0, 220.0, 250.0, 310.0, 220.0, 250.0, 10.0, 190.0, 310.0, 280.0, 250.0, 250.0, 190.0, 250.0, 220.0, 160.0, 220.0, 220.0, 190.0, 220.0, 220.0, 280.0, 130.0, 280.0, 160.0, 250.0, 280.0, 190.0, 220.0, 220.0, 190.0, 220.0, 160.0, 280.0, 130.0, 220.0, 190.0, 250.0, 220.0, 250.0, 250.0, 220.0, 220.0, 310.0, 280.0, 190.0, 250.0, 250.0, 220.0, 250.0, 280.0, 250.0, 250.0, 220.0, 190.0, 220.0, 190.0, 250.0, 310.0, 220.0, 220.0, 220.0, 160.0, 250.0, 250.0, 280.0, 220.0, 250.0, 280.0, 250.0, 220.0, 190.0, 220.0, 250.0, 250.0, 280.0, 40.0, 250.0, 220.0, 100.0, 250.0, 190.0, 250.0, 220.0, 280.0, 220.0, 220.0, 190.0], \"yaxis\": \"y7\"}, {\"colorbar\": {\"title\": {\"text\": \"Objective Value\"}}, \"colorscale\": [[0, \"rgb(220,220,220)\"], [0.30000000000000004, \"rgb(106,137,247)\"], [0.4, \"rgb(90,120,245)\"], [0.5, \"rgb(70,100,245)\"], [0.65, \"rgb(40,60,190)\"], [1, \"rgb(5,10,172)\"]], \"connectgaps\": true, \"contours\": {\"coloring\": \"heatmap\"}, \"hoverinfo\": \"none\", \"line\": {\"smoothing\": 1.3}, \"showscale\": false, \"type\": \"contour\", \"x\": [2, 3, 4, 5, 6, 7, 8, 9, 10, 11, 12, 13, 14, 15, 16], \"xaxis\": \"x2\", \"y\": [\"entropy\", \"gini\"], \"yaxis\": \"y2\", \"z\": [[null, 0.40203045685279193, 0.398984771573604, null, 0.3878172588832487, null, 0.3878172588832487, null, 0.3878172588832487, null, 0.3949238578680203, 0.3949238578680203, null, null, null], [0.3928934010152284, null, 0.3898477157360406, 0.3898477157360406, 0.3847715736040609, 0.3817258883248731, 0.3898477157360406, 0.3908629441624365, 0.383756345177665, 0.3928934010152284, 0.383756345177665, 0.3928934010152284, 0.383756345177665, 0.3928934010152284, 0.4]]}, {\"marker\": {\"color\": \"black\"}, \"mode\": \"markers\", \"showlegend\": false, \"type\": \"scatter\", \"x\": [13, 13, 13, 11, 9, 12, 9, 3, 6, 12, 6, 15, 16, 16, 2, 6, 9, 4, 16, 8, 15, 14, 10, 10, 7, 10, 8, 4, 8, 8, 10, 8, 7, 11, 8, 5, 7, 11, 12, 5, 8, 8, 9, 7, 9, 10, 9, 8, 7, 6, 11, 8, 8, 8, 6, 5, 6, 14, 7, 9, 6, 9, 10, 9, 8, 7, 8, 7, 8, 10, 13, 8, 8, 9, 9, 11, 11, 12, 6, 7, 7, 7, 8, 8, 10, 9, 9, 10, 9, 8, 4, 8, 11, 10, 11, 7, 6, 5, 9, 9], \"xaxis\": \"x2\", \"y\": [\"gini\", \"entropy\", \"entropy\", \"gini\", \"gini\", \"gini\", \"gini\", \"entropy\", \"entropy\", \"gini\", \"gini\", \"gini\", \"gini\", \"gini\", \"gini\", \"gini\", \"gini\", \"gini\", \"gini\", \"gini\", \"gini\", \"gini\", \"gini\", \"gini\", \"gini\", \"gini\", \"gini\", \"entropy\", \"gini\", \"gini\", \"gini\", \"gini\", \"gini\", \"gini\", \"entropy\", \"gini\", \"gini\", \"gini\", \"entropy\", \"gini\", \"gini\", \"gini\", \"gini\", \"gini\", \"gini\", \"gini\", \"gini\", \"entropy\", \"gini\", \"gini\", \"gini\", \"gini\", \"gini\", \"gini\", \"gini\", \"gini\", \"gini\", \"gini\", \"gini\", \"gini\", \"gini\", \"gini\", \"gini\", \"gini\", \"gini\", \"gini\", \"gini\", \"gini\", \"gini\", \"entropy\", \"gini\", \"gini\", \"gini\", \"gini\", \"gini\", \"gini\", \"gini\", \"gini\", \"gini\", \"gini\", \"gini\", \"gini\", \"gini\", \"gini\", \"gini\", \"gini\", \"gini\", \"gini\", \"gini\", \"entropy\", \"gini\", \"gini\", \"gini\", \"gini\", \"gini\", \"gini\", \"gini\", \"gini\", \"gini\", \"gini\"], \"yaxis\": \"y2\"}, {\"type\": \"scatter\", \"xaxis\": \"x5\", \"yaxis\": \"y5\"}, {\"colorbar\": {\"title\": {\"text\": \"Objective Value\"}}, \"colorscale\": [[0, \"rgb(220,220,220)\"], [0.30000000000000004, \"rgb(106,137,247)\"], [0.4, \"rgb(90,120,245)\"], [0.5, \"rgb(70,100,245)\"], [0.65, \"rgb(40,60,190)\"], [1, \"rgb(5,10,172)\"]], \"connectgaps\": true, \"contours\": {\"coloring\": \"heatmap\"}, \"hoverinfo\": \"none\", \"line\": {\"smoothing\": 1.3}, \"showscale\": false, \"type\": \"contour\", \"x\": [2, 3, 4, 5, 6, 7, 8, 9, 10, 11, 12, 13, 14, 15, 16], \"xaxis\": \"x8\", \"y\": [10.0, 40.0, 70.0, 100.0, 130.0, 160.0, 190.0, 220.0, 250.0, 280.0, 310.0], \"yaxis\": \"y8\", \"z\": [[null, null, null, null, null, null, null, null, null, null, null, null, null, null, 0.4], [null, null, null, null, null, null, null, 0.3959390862944162, null, null, null, null, null, null, null], [null, 0.40203045685279193, null, null, null, null, null, null, null, null, 0.3888324873096447, null, null, null, null], [null, null, null, null, null, null, 0.3898477157360406, null, null, null, null, null, null, null, null], [null, null, null, null, null, null, 0.4, 0.3888324873096447, null, 0.3888324873096447, null, null, null, null, null], [null, null, 0.398984771573604, null, null, 0.3969543147208122, null, 0.3898477157360406, null, null, 0.3928934010152284, null, null, null, null], [null, null, null, 0.3949238578680203, 0.3878172588832487, 0.3918781725888325, 0.383756345177665, 0.3908629441624365, 0.383756345177665, null, null, null, 0.383756345177665, null, null], [null, null, 0.3898477157360406, 0.3898477157360406, 0.40507614213197973, 0.3817258883248731, 0.3817258883248731, 0.3817258883248731, 0.3898477157360406, 0.3908629441624365, null, null, null, null, 0.3979695431472081], [0.3928934010152284, null, 0.3918781725888325, null, 0.3918781725888325, 0.3817258883248731, 0.3878172588832487, 0.3817258883248731, 0.3878172588832487, 0.3928934010152284, null, null, null, null, 0.3817258883248731], [null, null, null, 0.383756345177665, 0.3847715736040609, 0.383756345177665, null, null, 0.3918781725888325, 0.383756345177665, 0.383756345177665, 0.3949238578680203, 0.383756345177665, null, null], [null, null, null, 0.3959390862944162, 0.3928934010152284, null, null, null, null, null, null, 0.3928934010152284, null, 0.3928934010152284, null]]}, {\"marker\": {\"color\": \"black\"}, \"mode\": \"markers\", \"showlegend\": false, \"type\": \"scatter\", \"x\": [13, 13, 13, 11, 9, 12, 9, 3, 6, 12, 6, 15, 16, 16, 2, 6, 9, 4, 16, 8, 15, 14, 10, 10, 7, 10, 8, 4, 8, 8, 10, 8, 7, 11, 8, 5, 7, 11, 12, 5, 8, 8, 9, 7, 9, 10, 9, 8, 7, 6, 11, 8, 8, 8, 6, 5, 6, 14, 7, 9, 6, 9, 10, 9, 8, 7, 8, 7, 8, 10, 13, 8, 8, 9, 9, 11, 11, 12, 6, 7, 7, 7, 8, 8, 10, 9, 9, 10, 9, 8, 4, 8, 11, 10, 11, 7, 6, 5, 9, 9], \"xaxis\": \"x8\", \"y\": [280.0, 280.0, 280.0, 130.0, 250.0, 160.0, 130.0, 70.0, 190.0, 70.0, 220.0, 310.0, 250.0, 220.0, 250.0, 310.0, 220.0, 250.0, 10.0, 190.0, 310.0, 280.0, 250.0, 250.0, 190.0, 250.0, 220.0, 160.0, 220.0, 220.0, 190.0, 220.0, 220.0, 280.0, 130.0, 280.0, 160.0, 250.0, 280.0, 190.0, 220.0, 220.0, 190.0, 220.0, 160.0, 280.0, 130.0, 220.0, 190.0, 250.0, 220.0, 250.0, 250.0, 220.0, 220.0, 310.0, 280.0, 190.0, 250.0, 250.0, 220.0, 250.0, 280.0, 250.0, 250.0, 220.0, 190.0, 220.0, 190.0, 250.0, 310.0, 220.0, 220.0, 220.0, 160.0, 250.0, 250.0, 280.0, 220.0, 250.0, 280.0, 250.0, 220.0, 190.0, 220.0, 250.0, 250.0, 280.0, 40.0, 250.0, 220.0, 100.0, 250.0, 190.0, 250.0, 220.0, 280.0, 220.0, 220.0, 190.0], \"yaxis\": \"y8\"}, {\"colorbar\": {\"title\": {\"text\": \"Objective Value\"}}, \"colorscale\": [[0, \"rgb(220,220,220)\"], [0.30000000000000004, \"rgb(106,137,247)\"], [0.4, \"rgb(90,120,245)\"], [0.5, \"rgb(70,100,245)\"], [0.65, \"rgb(40,60,190)\"], [1, \"rgb(5,10,172)\"]], \"connectgaps\": true, \"contours\": {\"coloring\": \"heatmap\"}, \"hoverinfo\": \"none\", \"line\": {\"smoothing\": 1.3}, \"showscale\": false, \"type\": \"contour\", \"x\": [10.0, 40.0, 70.0, 100.0, 130.0, 160.0, 190.0, 220.0, 250.0, 280.0, 310.0], \"xaxis\": \"x3\", \"y\": [\"entropy\", \"gini\"], \"yaxis\": \"y3\", \"z\": [[null, null, 0.40203045685279193, null, 0.4, 0.398984771573604, 0.3878172588832487, 0.3979695431472081, 0.3878172588832487, 0.3949238578680203, null], [0.4, 0.3959390862944162, 0.3888324873096447, 0.3898477157360406, 0.3888324873096447, 0.3898477157360406, 0.3908629441624365, 0.3817258883248731, 0.3928934010152284, 0.3847715736040609, 0.3928934010152284]]}, {\"marker\": {\"color\": \"black\"}, \"mode\": \"markers\", \"showlegend\": false, \"type\": \"scatter\", \"x\": [280.0, 280.0, 280.0, 130.0, 250.0, 160.0, 130.0, 70.0, 190.0, 70.0, 220.0, 310.0, 250.0, 220.0, 250.0, 310.0, 220.0, 250.0, 10.0, 190.0, 310.0, 280.0, 250.0, 250.0, 190.0, 250.0, 220.0, 160.0, 220.0, 220.0, 190.0, 220.0, 220.0, 280.0, 130.0, 280.0, 160.0, 250.0, 280.0, 190.0, 220.0, 220.0, 190.0, 220.0, 160.0, 280.0, 130.0, 220.0, 190.0, 250.0, 220.0, 250.0, 250.0, 220.0, 220.0, 310.0, 280.0, 190.0, 250.0, 250.0, 220.0, 250.0, 280.0, 250.0, 250.0, 220.0, 190.0, 220.0, 190.0, 250.0, 310.0, 220.0, 220.0, 220.0, 160.0, 250.0, 250.0, 280.0, 220.0, 250.0, 280.0, 250.0, 220.0, 190.0, 220.0, 250.0, 250.0, 280.0, 40.0, 250.0, 220.0, 100.0, 250.0, 190.0, 250.0, 220.0, 280.0, 220.0, 220.0, 190.0], \"xaxis\": \"x3\", \"y\": [\"gini\", \"entropy\", \"entropy\", \"gini\", \"gini\", \"gini\", \"gini\", \"entropy\", \"entropy\", \"gini\", \"gini\", \"gini\", \"gini\", \"gini\", \"gini\", \"gini\", \"gini\", \"gini\", \"gini\", \"gini\", \"gini\", \"gini\", \"gini\", \"gini\", \"gini\", \"gini\", \"gini\", \"entropy\", \"gini\", \"gini\", \"gini\", \"gini\", \"gini\", \"gini\", \"entropy\", \"gini\", \"gini\", \"gini\", \"entropy\", \"gini\", \"gini\", \"gini\", \"gini\", \"gini\", \"gini\", \"gini\", \"gini\", \"entropy\", \"gini\", \"gini\", \"gini\", \"gini\", \"gini\", \"gini\", \"gini\", \"gini\", \"gini\", \"gini\", \"gini\", \"gini\", \"gini\", \"gini\", \"gini\", \"gini\", \"gini\", \"gini\", \"gini\", \"gini\", \"gini\", \"entropy\", \"gini\", \"gini\", \"gini\", \"gini\", \"gini\", \"gini\", \"gini\", \"gini\", \"gini\", \"gini\", \"gini\", \"gini\", \"gini\", \"gini\", \"gini\", \"gini\", \"gini\", \"gini\", \"gini\", \"entropy\", \"gini\", \"gini\", \"gini\", \"gini\", \"gini\", \"gini\", \"gini\", \"gini\", \"gini\", \"gini\"], \"yaxis\": \"y3\"}, {\"colorbar\": {\"title\": {\"text\": \"Objective Value\"}}, \"colorscale\": [[0, \"rgb(220,220,220)\"], [0.30000000000000004, \"rgb(106,137,247)\"], [0.4, \"rgb(90,120,245)\"], [0.5, \"rgb(70,100,245)\"], [0.65, \"rgb(40,60,190)\"], [1, \"rgb(5,10,172)\"]], \"connectgaps\": true, \"contours\": {\"coloring\": \"heatmap\"}, \"hoverinfo\": \"none\", \"line\": {\"smoothing\": 1.3}, \"showscale\": false, \"type\": \"contour\", \"x\": [10.0, 40.0, 70.0, 100.0, 130.0, 160.0, 190.0, 220.0, 250.0, 280.0, 310.0], \"xaxis\": \"x6\", \"y\": [2, 3, 4, 5, 6, 7, 8, 9, 10, 11, 12, 13, 14, 15, 16], \"yaxis\": \"y6\", \"z\": [[null, null, null, null, null, null, null, null, 0.3928934010152284, null, null], [null, null, 0.40203045685279193, null, null, null, null, null, null, null, null], [null, null, null, null, null, 0.398984771573604, null, 0.3898477157360406, 0.3918781725888325, null, null], [null, null, null, null, null, null, 0.3949238578680203, 0.3898477157360406, null, 0.383756345177665, 0.3959390862944162], [null, null, null, null, null, null, 0.3878172588832487, 0.40507614213197973, 0.3918781725888325, 0.3847715736040609, 0.3928934010152284], [null, null, null, null, null, 0.3969543147208122, 0.3918781725888325, 0.3817258883248731, 0.3817258883248731, 0.383756345177665, null], [null, null, null, 0.3898477157360406, 0.4, null, 0.383756345177665, 0.3817258883248731, 0.3878172588832487, null, null], [null, 0.3959390862944162, null, null, 0.3888324873096447, 0.3898477157360406, 0.3908629441624365, 0.3817258883248731, 0.3817258883248731, null, null], [null, null, null, null, null, null, 0.383756345177665, 0.3898477157360406, 0.3878172588832487, 0.3918781725888325, null], [null, null, null, null, 0.3888324873096447, null, null, 0.3908629441624365, 0.3928934010152284, 0.383756345177665, null], [null, null, 0.3888324873096447, null, null, 0.3928934010152284, null, null, null, 0.383756345177665, null], [null, null, null, null, null, null, null, null, null, 0.3949238578680203, 0.3928934010152284], [null, null, null, null, null, null, 0.383756345177665, null, null, 0.383756345177665, null], [null, null, null, null, null, null, null, null, null, null, 0.3928934010152284], [0.4, null, null, null, null, null, null, 0.3979695431472081, 0.3817258883248731, null, null]]}, {\"marker\": {\"color\": \"black\"}, \"mode\": \"markers\", \"showlegend\": false, \"type\": \"scatter\", \"x\": [280.0, 280.0, 280.0, 130.0, 250.0, 160.0, 130.0, 70.0, 190.0, 70.0, 220.0, 310.0, 250.0, 220.0, 250.0, 310.0, 220.0, 250.0, 10.0, 190.0, 310.0, 280.0, 250.0, 250.0, 190.0, 250.0, 220.0, 160.0, 220.0, 220.0, 190.0, 220.0, 220.0, 280.0, 130.0, 280.0, 160.0, 250.0, 280.0, 190.0, 220.0, 220.0, 190.0, 220.0, 160.0, 280.0, 130.0, 220.0, 190.0, 250.0, 220.0, 250.0, 250.0, 220.0, 220.0, 310.0, 280.0, 190.0, 250.0, 250.0, 220.0, 250.0, 280.0, 250.0, 250.0, 220.0, 190.0, 220.0, 190.0, 250.0, 310.0, 220.0, 220.0, 220.0, 160.0, 250.0, 250.0, 280.0, 220.0, 250.0, 280.0, 250.0, 220.0, 190.0, 220.0, 250.0, 250.0, 280.0, 40.0, 250.0, 220.0, 100.0, 250.0, 190.0, 250.0, 220.0, 280.0, 220.0, 220.0, 190.0], \"xaxis\": \"x6\", \"y\": [13, 13, 13, 11, 9, 12, 9, 3, 6, 12, 6, 15, 16, 16, 2, 6, 9, 4, 16, 8, 15, 14, 10, 10, 7, 10, 8, 4, 8, 8, 10, 8, 7, 11, 8, 5, 7, 11, 12, 5, 8, 8, 9, 7, 9, 10, 9, 8, 7, 6, 11, 8, 8, 8, 6, 5, 6, 14, 7, 9, 6, 9, 10, 9, 8, 7, 8, 7, 8, 10, 13, 8, 8, 9, 9, 11, 11, 12, 6, 7, 7, 7, 8, 8, 10, 9, 9, 10, 9, 8, 4, 8, 11, 10, 11, 7, 6, 5, 9, 9], \"yaxis\": \"y6\"}, {\"type\": \"scatter\", \"xaxis\": \"x9\", \"yaxis\": \"y9\"}],\n",
       "                        {\"template\": {\"data\": {\"bar\": [{\"error_x\": {\"color\": \"#2a3f5f\"}, \"error_y\": {\"color\": \"#2a3f5f\"}, \"marker\": {\"line\": {\"color\": \"#E5ECF6\", \"width\": 0.5}}, \"type\": \"bar\"}], \"barpolar\": [{\"marker\": {\"line\": {\"color\": \"#E5ECF6\", \"width\": 0.5}}, \"type\": \"barpolar\"}], \"carpet\": [{\"aaxis\": {\"endlinecolor\": \"#2a3f5f\", \"gridcolor\": \"white\", \"linecolor\": \"white\", \"minorgridcolor\": \"white\", \"startlinecolor\": \"#2a3f5f\"}, \"baxis\": {\"endlinecolor\": \"#2a3f5f\", \"gridcolor\": \"white\", \"linecolor\": \"white\", \"minorgridcolor\": \"white\", \"startlinecolor\": \"#2a3f5f\"}, \"type\": \"carpet\"}], \"choropleth\": [{\"colorbar\": {\"outlinewidth\": 0, \"ticks\": \"\"}, \"type\": \"choropleth\"}], \"contour\": [{\"colorbar\": {\"outlinewidth\": 0, \"ticks\": \"\"}, \"colorscale\": [[0.0, \"#0d0887\"], [0.1111111111111111, \"#46039f\"], [0.2222222222222222, \"#7201a8\"], [0.3333333333333333, \"#9c179e\"], [0.4444444444444444, \"#bd3786\"], [0.5555555555555556, \"#d8576b\"], [0.6666666666666666, \"#ed7953\"], [0.7777777777777778, \"#fb9f3a\"], [0.8888888888888888, \"#fdca26\"], [1.0, \"#f0f921\"]], \"type\": \"contour\"}], \"contourcarpet\": [{\"colorbar\": {\"outlinewidth\": 0, \"ticks\": \"\"}, \"type\": \"contourcarpet\"}], \"heatmap\": [{\"colorbar\": {\"outlinewidth\": 0, \"ticks\": \"\"}, \"colorscale\": [[0.0, \"#0d0887\"], [0.1111111111111111, \"#46039f\"], [0.2222222222222222, \"#7201a8\"], [0.3333333333333333, \"#9c179e\"], [0.4444444444444444, \"#bd3786\"], [0.5555555555555556, \"#d8576b\"], [0.6666666666666666, \"#ed7953\"], [0.7777777777777778, \"#fb9f3a\"], [0.8888888888888888, \"#fdca26\"], [1.0, \"#f0f921\"]], \"type\": \"heatmap\"}], \"heatmapgl\": [{\"colorbar\": {\"outlinewidth\": 0, \"ticks\": \"\"}, \"colorscale\": [[0.0, \"#0d0887\"], [0.1111111111111111, \"#46039f\"], [0.2222222222222222, \"#7201a8\"], [0.3333333333333333, \"#9c179e\"], [0.4444444444444444, \"#bd3786\"], [0.5555555555555556, \"#d8576b\"], [0.6666666666666666, \"#ed7953\"], [0.7777777777777778, \"#fb9f3a\"], [0.8888888888888888, \"#fdca26\"], [1.0, \"#f0f921\"]], \"type\": \"heatmapgl\"}], \"histogram\": [{\"marker\": {\"colorbar\": {\"outlinewidth\": 0, \"ticks\": \"\"}}, \"type\": \"histogram\"}], \"histogram2d\": [{\"colorbar\": {\"outlinewidth\": 0, \"ticks\": \"\"}, \"colorscale\": [[0.0, \"#0d0887\"], [0.1111111111111111, \"#46039f\"], [0.2222222222222222, \"#7201a8\"], [0.3333333333333333, \"#9c179e\"], [0.4444444444444444, \"#bd3786\"], [0.5555555555555556, \"#d8576b\"], [0.6666666666666666, \"#ed7953\"], [0.7777777777777778, \"#fb9f3a\"], [0.8888888888888888, \"#fdca26\"], [1.0, \"#f0f921\"]], \"type\": \"histogram2d\"}], \"histogram2dcontour\": [{\"colorbar\": {\"outlinewidth\": 0, \"ticks\": \"\"}, \"colorscale\": [[0.0, \"#0d0887\"], [0.1111111111111111, \"#46039f\"], [0.2222222222222222, \"#7201a8\"], [0.3333333333333333, \"#9c179e\"], [0.4444444444444444, \"#bd3786\"], [0.5555555555555556, \"#d8576b\"], [0.6666666666666666, \"#ed7953\"], [0.7777777777777778, \"#fb9f3a\"], [0.8888888888888888, \"#fdca26\"], [1.0, \"#f0f921\"]], \"type\": \"histogram2dcontour\"}], \"mesh3d\": [{\"colorbar\": {\"outlinewidth\": 0, \"ticks\": \"\"}, \"type\": \"mesh3d\"}], \"parcoords\": [{\"line\": {\"colorbar\": {\"outlinewidth\": 0, \"ticks\": \"\"}}, \"type\": \"parcoords\"}], \"pie\": [{\"automargin\": true, \"type\": \"pie\"}], \"scatter\": [{\"marker\": {\"colorbar\": {\"outlinewidth\": 0, \"ticks\": \"\"}}, \"type\": \"scatter\"}], \"scatter3d\": [{\"line\": {\"colorbar\": {\"outlinewidth\": 0, \"ticks\": \"\"}}, \"marker\": {\"colorbar\": {\"outlinewidth\": 0, \"ticks\": \"\"}}, \"type\": \"scatter3d\"}], \"scattercarpet\": [{\"marker\": {\"colorbar\": {\"outlinewidth\": 0, \"ticks\": \"\"}}, \"type\": \"scattercarpet\"}], \"scattergeo\": [{\"marker\": {\"colorbar\": {\"outlinewidth\": 0, \"ticks\": \"\"}}, \"type\": \"scattergeo\"}], \"scattergl\": [{\"marker\": {\"colorbar\": {\"outlinewidth\": 0, \"ticks\": \"\"}}, \"type\": \"scattergl\"}], \"scattermapbox\": [{\"marker\": {\"colorbar\": {\"outlinewidth\": 0, \"ticks\": \"\"}}, \"type\": \"scattermapbox\"}], \"scatterpolar\": [{\"marker\": {\"colorbar\": {\"outlinewidth\": 0, \"ticks\": \"\"}}, \"type\": \"scatterpolar\"}], \"scatterpolargl\": [{\"marker\": {\"colorbar\": {\"outlinewidth\": 0, \"ticks\": \"\"}}, \"type\": \"scatterpolargl\"}], \"scatterternary\": [{\"marker\": {\"colorbar\": {\"outlinewidth\": 0, \"ticks\": \"\"}}, \"type\": \"scatterternary\"}], \"surface\": [{\"colorbar\": {\"outlinewidth\": 0, \"ticks\": \"\"}, \"colorscale\": [[0.0, \"#0d0887\"], [0.1111111111111111, \"#46039f\"], [0.2222222222222222, \"#7201a8\"], [0.3333333333333333, \"#9c179e\"], [0.4444444444444444, \"#bd3786\"], [0.5555555555555556, \"#d8576b\"], [0.6666666666666666, \"#ed7953\"], [0.7777777777777778, \"#fb9f3a\"], [0.8888888888888888, \"#fdca26\"], [1.0, \"#f0f921\"]], \"type\": \"surface\"}], \"table\": [{\"cells\": {\"fill\": {\"color\": \"#EBF0F8\"}, \"line\": {\"color\": \"white\"}}, \"header\": {\"fill\": {\"color\": \"#C8D4E3\"}, \"line\": {\"color\": \"white\"}}, \"type\": \"table\"}]}, \"layout\": {\"annotationdefaults\": {\"arrowcolor\": \"#2a3f5f\", \"arrowhead\": 0, \"arrowwidth\": 1}, \"coloraxis\": {\"colorbar\": {\"outlinewidth\": 0, \"ticks\": \"\"}}, \"colorscale\": {\"diverging\": [[0, \"#8e0152\"], [0.1, \"#c51b7d\"], [0.2, \"#de77ae\"], [0.3, \"#f1b6da\"], [0.4, \"#fde0ef\"], [0.5, \"#f7f7f7\"], [0.6, \"#e6f5d0\"], [0.7, \"#b8e186\"], [0.8, \"#7fbc41\"], [0.9, \"#4d9221\"], [1, \"#276419\"]], \"sequential\": [[0.0, \"#0d0887\"], [0.1111111111111111, \"#46039f\"], [0.2222222222222222, \"#7201a8\"], [0.3333333333333333, \"#9c179e\"], [0.4444444444444444, \"#bd3786\"], [0.5555555555555556, \"#d8576b\"], [0.6666666666666666, \"#ed7953\"], [0.7777777777777778, \"#fb9f3a\"], [0.8888888888888888, \"#fdca26\"], [1.0, \"#f0f921\"]], \"sequentialminus\": [[0.0, \"#0d0887\"], [0.1111111111111111, \"#46039f\"], [0.2222222222222222, \"#7201a8\"], [0.3333333333333333, \"#9c179e\"], [0.4444444444444444, \"#bd3786\"], [0.5555555555555556, \"#d8576b\"], [0.6666666666666666, \"#ed7953\"], [0.7777777777777778, \"#fb9f3a\"], [0.8888888888888888, \"#fdca26\"], [1.0, \"#f0f921\"]]}, \"colorway\": [\"#636efa\", \"#EF553B\", \"#00cc96\", \"#ab63fa\", \"#FFA15A\", \"#19d3f3\", \"#FF6692\", \"#B6E880\", \"#FF97FF\", \"#FECB52\"], \"font\": {\"color\": \"#2a3f5f\"}, \"geo\": {\"bgcolor\": \"white\", \"lakecolor\": \"white\", \"landcolor\": \"#E5ECF6\", \"showlakes\": true, \"showland\": true, \"subunitcolor\": \"white\"}, \"hoverlabel\": {\"align\": \"left\"}, \"hovermode\": \"closest\", \"mapbox\": {\"style\": \"light\"}, \"paper_bgcolor\": \"white\", \"plot_bgcolor\": \"#E5ECF6\", \"polar\": {\"angularaxis\": {\"gridcolor\": \"white\", \"linecolor\": \"white\", \"ticks\": \"\"}, \"bgcolor\": \"#E5ECF6\", \"radialaxis\": {\"gridcolor\": \"white\", \"linecolor\": \"white\", \"ticks\": \"\"}}, \"scene\": {\"xaxis\": {\"backgroundcolor\": \"#E5ECF6\", \"gridcolor\": \"white\", \"gridwidth\": 2, \"linecolor\": \"white\", \"showbackground\": true, \"ticks\": \"\", \"zerolinecolor\": \"white\"}, \"yaxis\": {\"backgroundcolor\": \"#E5ECF6\", \"gridcolor\": \"white\", \"gridwidth\": 2, \"linecolor\": \"white\", \"showbackground\": true, \"ticks\": \"\", \"zerolinecolor\": \"white\"}, \"zaxis\": {\"backgroundcolor\": \"#E5ECF6\", \"gridcolor\": \"white\", \"gridwidth\": 2, \"linecolor\": \"white\", \"showbackground\": true, \"ticks\": \"\", \"zerolinecolor\": \"white\"}}, \"shapedefaults\": {\"line\": {\"color\": \"#2a3f5f\"}}, \"ternary\": {\"aaxis\": {\"gridcolor\": \"white\", \"linecolor\": \"white\", \"ticks\": \"\"}, \"baxis\": {\"gridcolor\": \"white\", \"linecolor\": \"white\", \"ticks\": \"\"}, \"bgcolor\": \"#E5ECF6\", \"caxis\": {\"gridcolor\": \"white\", \"linecolor\": \"white\", \"ticks\": \"\"}}, \"title\": {\"x\": 0.05}, \"xaxis\": {\"automargin\": true, \"gridcolor\": \"white\", \"linecolor\": \"white\", \"ticks\": \"\", \"title\": {\"standoff\": 15}, \"zerolinecolor\": \"white\", \"zerolinewidth\": 2}, \"yaxis\": {\"automargin\": true, \"gridcolor\": \"white\", \"linecolor\": \"white\", \"ticks\": \"\", \"title\": {\"standoff\": 15}, \"zerolinecolor\": \"white\", \"zerolinewidth\": 2}}}, \"title\": {\"text\": \"Contour Plot\"}, \"xaxis\": {\"anchor\": \"y\", \"domain\": [0.0, 0.2888888888888889], \"matches\": \"x7\", \"range\": [\"entropy\", \"gini\"], \"showticklabels\": false}, \"xaxis2\": {\"anchor\": \"y2\", \"domain\": [0.35555555555555557, 0.6444444444444445], \"matches\": \"x8\", \"range\": [2, 16], \"showticklabels\": false}, \"xaxis3\": {\"anchor\": \"y3\", \"domain\": [0.7111111111111111, 1.0], \"matches\": \"x9\", \"range\": [10.0, 310.0], \"showticklabels\": false}, \"xaxis4\": {\"anchor\": \"y4\", \"domain\": [0.0, 0.2888888888888889], \"matches\": \"x7\", \"range\": [\"entropy\", \"gini\"], \"showticklabels\": false}, \"xaxis5\": {\"anchor\": \"y5\", \"domain\": [0.35555555555555557, 0.6444444444444445], \"matches\": \"x8\", \"range\": [2, 16], \"showticklabels\": false}, \"xaxis6\": {\"anchor\": \"y6\", \"domain\": [0.7111111111111111, 1.0], \"matches\": \"x9\", \"range\": [10.0, 310.0], \"showticklabels\": false}, \"xaxis7\": {\"anchor\": \"y7\", \"domain\": [0.0, 0.2888888888888889], \"range\": [\"entropy\", \"gini\"], \"title\": {\"text\": \"criterion\"}}, \"xaxis8\": {\"anchor\": \"y8\", \"domain\": [0.35555555555555557, 0.6444444444444445], \"range\": [2, 16], \"title\": {\"text\": \"min_samples_split\"}}, \"xaxis9\": {\"anchor\": \"y9\", \"domain\": [0.7111111111111111, 1.0], \"range\": [10.0, 310.0], \"title\": {\"text\": \"n_estimators\"}}, \"yaxis\": {\"anchor\": \"x\", \"domain\": [0.7333333333333333, 1.0], \"range\": [\"entropy\", \"gini\"], \"title\": {\"text\": \"criterion\"}}, \"yaxis2\": {\"anchor\": \"x2\", \"domain\": [0.7333333333333333, 1.0], \"matches\": \"y\", \"range\": [\"entropy\", \"gini\"], \"showticklabels\": false}, \"yaxis3\": {\"anchor\": \"x3\", \"domain\": [0.7333333333333333, 1.0], \"matches\": \"y\", \"range\": [\"entropy\", \"gini\"], \"showticklabels\": false}, \"yaxis4\": {\"anchor\": \"x4\", \"domain\": [0.36666666666666664, 0.6333333333333333], \"range\": [2, 16], \"title\": {\"text\": \"min_samples_split\"}}, \"yaxis5\": {\"anchor\": \"x5\", \"domain\": [0.36666666666666664, 0.6333333333333333], \"matches\": \"y4\", \"range\": [2, 16], \"showticklabels\": false}, \"yaxis6\": {\"anchor\": \"x6\", \"domain\": [0.36666666666666664, 0.6333333333333333], \"matches\": \"y4\", \"range\": [2, 16], \"showticklabels\": false}, \"yaxis7\": {\"anchor\": \"x7\", \"domain\": [0.0, 0.26666666666666666], \"range\": [10.0, 310.0], \"title\": {\"text\": \"n_estimators\"}}, \"yaxis8\": {\"anchor\": \"x8\", \"domain\": [0.0, 0.26666666666666666], \"matches\": \"y7\", \"range\": [10.0, 310.0], \"showticklabels\": false}, \"yaxis9\": {\"anchor\": \"x9\", \"domain\": [0.0, 0.26666666666666666], \"matches\": \"y7\", \"range\": [10.0, 310.0], \"showticklabels\": false}},\n",
       "                        {\"responsive\": true}\n",
       "                    ).then(function(){\n",
       "                            \n",
       "var gd = document.getElementById('1b785ab5-78c9-4e58-9771-d2c8f6b8991b');\n",
       "var x = new MutationObserver(function (mutations, observer) {{\n",
       "        var display = window.getComputedStyle(gd).display;\n",
       "        if (!display || display === 'none') {{\n",
       "            console.log([gd, 'removed!']);\n",
       "            Plotly.purge(gd);\n",
       "            observer.disconnect();\n",
       "        }}\n",
       "}});\n",
       "\n",
       "// Listen for the removal of the full notebook cells\n",
       "var notebookContainer = gd.closest('#notebook-container');\n",
       "if (notebookContainer) {{\n",
       "    x.observe(notebookContainer, {childList: true});\n",
       "}}\n",
       "\n",
       "// Listen for the clearing of the current output cell\n",
       "var outputEl = gd.closest('.output');\n",
       "if (outputEl) {{\n",
       "    x.observe(outputEl, {childList: true});\n",
       "}}\n",
       "\n",
       "                        })\n",
       "                };\n",
       "                });\n",
       "            </script>\n",
       "        </div>"
      ]
     },
     "metadata": {},
     "output_type": "display_data"
    }
   ],
   "source": [
    "optuna.visualization.plot_contour(study,params=[\"n_estimators\", \"criterion\",\"min_samples_split\"])"
   ]
  },
  {
   "cell_type": "code",
   "execution_count": null,
   "metadata": {},
   "outputs": [],
   "source": []
  }
 ],
 "metadata": {
  "kernelspec": {
   "display_name": "Python 3",
   "language": "python",
   "name": "python3"
  },
  "toc": {
   "base_numbering": 1,
   "nav_menu": {},
   "number_sections": true,
   "sideBar": true,
   "skip_h1_title": false,
   "title_cell": "Table of Contents",
   "title_sidebar": "Contents",
   "toc_cell": false,
   "toc_position": {},
   "toc_section_display": true,
   "toc_window_display": false
  },
  "varInspector": {
   "cols": {
    "lenName": 16,
    "lenType": 16,
    "lenVar": 40
   },
   "kernels_config": {
    "python": {
     "delete_cmd_postfix": "",
     "delete_cmd_prefix": "del ",
     "library": "var_list.py",
     "varRefreshCmd": "print(var_dic_list())"
    },
    "r": {
     "delete_cmd_postfix": ") ",
     "delete_cmd_prefix": "rm(",
     "library": "var_list.r",
     "varRefreshCmd": "cat(var_dic_list()) "
    }
   },
   "types_to_exclude": [
    "module",
    "function",
    "builtin_function_or_method",
    "instance",
    "_Feature"
   ],
   "window_display": false
  }
 },
 "nbformat": 4,
 "nbformat_minor": 2
}
